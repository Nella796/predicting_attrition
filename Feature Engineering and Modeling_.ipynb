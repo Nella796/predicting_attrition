{
 "cells": [
  {
   "cell_type": "markdown",
   "metadata": {},
   "source": [
    "# Feature Engineering and Modeling"
   ]
  },
  {
   "cell_type": "markdown",
   "metadata": {},
   "source": [
    "### Having cleaned and explored my data, in this notebook I will prepare my features for modeling and attempt to create some models in order to predict worker attrition. "
   ]
  },
  {
   "cell_type": "markdown",
   "metadata": {},
   "source": [
    "# Importing Libraries and Data"
   ]
  },
  {
   "cell_type": "code",
   "execution_count": 50,
   "metadata": {},
   "outputs": [],
   "source": [
    "import pandas as pd\n",
    "import numpy as np\n",
    "from sklearn.model_selection import train_test_split\n",
    "from sklearn.metrics import precision_score, recall_score, f1_score, confusion_matrix, plot_roc_curve, classification_report, accuracy_score\n",
    "from sklearn.ensemble import RandomForestClassifier\n",
    "from sklearn.metrics import roc_curve, auc, precision_recall_curve\n",
    "import matplotlib.pyplot as plt\n",
    "import matplotlib"
   ]
  },
  {
   "cell_type": "code",
   "execution_count": 51,
   "metadata": {},
   "outputs": [],
   "source": [
    "df = pd.read_csv('HR-Employee-Attrition.csv')\n",
    "df = df.drop('Unnamed: 0', axis = 1)"
   ]
  },
  {
   "cell_type": "code",
   "execution_count": 52,
   "metadata": {
    "scrolled": true
   },
   "outputs": [
    {
     "data": {
      "text/plain": [
       "1470"
      ]
     },
     "execution_count": 52,
     "metadata": {},
     "output_type": "execute_result"
    }
   ],
   "source": [
    "len(df)"
   ]
  },
  {
   "cell_type": "markdown",
   "metadata": {},
   "source": [
    "# Feature Engineering"
   ]
  },
  {
   "cell_type": "markdown",
   "metadata": {},
   "source": [
    "### In the following cells I prepare my cleaned data for modeling by dividing it into training and validation sets, encoding categorical features, and scaling numerical features."
   ]
  },
  {
   "cell_type": "code",
   "execution_count": 53,
   "metadata": {
    "scrolled": true
   },
   "outputs": [
    {
     "data": {
      "text/html": [
       "<div>\n",
       "<style scoped>\n",
       "    .dataframe tbody tr th:only-of-type {\n",
       "        vertical-align: middle;\n",
       "    }\n",
       "\n",
       "    .dataframe tbody tr th {\n",
       "        vertical-align: top;\n",
       "    }\n",
       "\n",
       "    .dataframe thead th {\n",
       "        text-align: right;\n",
       "    }\n",
       "</style>\n",
       "<table border=\"1\" class=\"dataframe\">\n",
       "  <thead>\n",
       "    <tr style=\"text-align: right;\">\n",
       "      <th></th>\n",
       "      <th>BusinessTravel</th>\n",
       "      <th>Department</th>\n",
       "      <th>Education</th>\n",
       "      <th>EducationField</th>\n",
       "      <th>EnvironmentSatisfaction</th>\n",
       "      <th>Gender</th>\n",
       "      <th>JobInvolvement</th>\n",
       "      <th>JobRole</th>\n",
       "      <th>JobSatisfaction</th>\n",
       "      <th>MaritalStatus</th>\n",
       "      <th>Over18</th>\n",
       "      <th>OverTime</th>\n",
       "      <th>PerformanceRating</th>\n",
       "      <th>RelationshipSatisfaction</th>\n",
       "      <th>WorkLifeBalance</th>\n",
       "    </tr>\n",
       "  </thead>\n",
       "  <tbody>\n",
       "    <tr>\n",
       "      <th>0</th>\n",
       "      <td>Travel_Rarely</td>\n",
       "      <td>Sales</td>\n",
       "      <td>College</td>\n",
       "      <td>Life Sciences</td>\n",
       "      <td>Medium</td>\n",
       "      <td>Female</td>\n",
       "      <td>High</td>\n",
       "      <td>Sales Executive</td>\n",
       "      <td>Very High</td>\n",
       "      <td>Single</td>\n",
       "      <td>Y</td>\n",
       "      <td>Yes</td>\n",
       "      <td>Excellent</td>\n",
       "      <td>Low</td>\n",
       "      <td>Bad</td>\n",
       "    </tr>\n",
       "    <tr>\n",
       "      <th>1</th>\n",
       "      <td>Travel_Frequently</td>\n",
       "      <td>Research &amp; Development</td>\n",
       "      <td>Below College</td>\n",
       "      <td>Life Sciences</td>\n",
       "      <td>High</td>\n",
       "      <td>Male</td>\n",
       "      <td>Medium</td>\n",
       "      <td>Research Scientist</td>\n",
       "      <td>Medium</td>\n",
       "      <td>Married</td>\n",
       "      <td>Y</td>\n",
       "      <td>No</td>\n",
       "      <td>Outstanding</td>\n",
       "      <td>Very High</td>\n",
       "      <td>Better</td>\n",
       "    </tr>\n",
       "    <tr>\n",
       "      <th>2</th>\n",
       "      <td>Travel_Rarely</td>\n",
       "      <td>Research &amp; Development</td>\n",
       "      <td>College</td>\n",
       "      <td>Other</td>\n",
       "      <td>Very High</td>\n",
       "      <td>Male</td>\n",
       "      <td>Medium</td>\n",
       "      <td>Laboratory Technician</td>\n",
       "      <td>High</td>\n",
       "      <td>Single</td>\n",
       "      <td>Y</td>\n",
       "      <td>Yes</td>\n",
       "      <td>Excellent</td>\n",
       "      <td>Medium</td>\n",
       "      <td>Better</td>\n",
       "    </tr>\n",
       "    <tr>\n",
       "      <th>3</th>\n",
       "      <td>Travel_Frequently</td>\n",
       "      <td>Research &amp; Development</td>\n",
       "      <td>Master</td>\n",
       "      <td>Life Sciences</td>\n",
       "      <td>Very High</td>\n",
       "      <td>Female</td>\n",
       "      <td>High</td>\n",
       "      <td>Research Scientist</td>\n",
       "      <td>High</td>\n",
       "      <td>Married</td>\n",
       "      <td>Y</td>\n",
       "      <td>Yes</td>\n",
       "      <td>Excellent</td>\n",
       "      <td>High</td>\n",
       "      <td>Better</td>\n",
       "    </tr>\n",
       "    <tr>\n",
       "      <th>4</th>\n",
       "      <td>Travel_Rarely</td>\n",
       "      <td>Research &amp; Development</td>\n",
       "      <td>Below College</td>\n",
       "      <td>Medical</td>\n",
       "      <td>Low</td>\n",
       "      <td>Male</td>\n",
       "      <td>High</td>\n",
       "      <td>Laboratory Technician</td>\n",
       "      <td>Medium</td>\n",
       "      <td>Married</td>\n",
       "      <td>Y</td>\n",
       "      <td>No</td>\n",
       "      <td>Excellent</td>\n",
       "      <td>Very High</td>\n",
       "      <td>Better</td>\n",
       "    </tr>\n",
       "    <tr>\n",
       "      <th>...</th>\n",
       "      <td>...</td>\n",
       "      <td>...</td>\n",
       "      <td>...</td>\n",
       "      <td>...</td>\n",
       "      <td>...</td>\n",
       "      <td>...</td>\n",
       "      <td>...</td>\n",
       "      <td>...</td>\n",
       "      <td>...</td>\n",
       "      <td>...</td>\n",
       "      <td>...</td>\n",
       "      <td>...</td>\n",
       "      <td>...</td>\n",
       "      <td>...</td>\n",
       "      <td>...</td>\n",
       "    </tr>\n",
       "    <tr>\n",
       "      <th>1465</th>\n",
       "      <td>Travel_Frequently</td>\n",
       "      <td>Research &amp; Development</td>\n",
       "      <td>College</td>\n",
       "      <td>Medical</td>\n",
       "      <td>High</td>\n",
       "      <td>Male</td>\n",
       "      <td>Very High</td>\n",
       "      <td>Laboratory Technician</td>\n",
       "      <td>Very High</td>\n",
       "      <td>Married</td>\n",
       "      <td>Y</td>\n",
       "      <td>No</td>\n",
       "      <td>Excellent</td>\n",
       "      <td>High</td>\n",
       "      <td>Better</td>\n",
       "    </tr>\n",
       "    <tr>\n",
       "      <th>1466</th>\n",
       "      <td>Travel_Rarely</td>\n",
       "      <td>Research &amp; Development</td>\n",
       "      <td>Below College</td>\n",
       "      <td>Medical</td>\n",
       "      <td>Very High</td>\n",
       "      <td>Male</td>\n",
       "      <td>Medium</td>\n",
       "      <td>Healthcare Representative</td>\n",
       "      <td>Low</td>\n",
       "      <td>Married</td>\n",
       "      <td>Y</td>\n",
       "      <td>No</td>\n",
       "      <td>Excellent</td>\n",
       "      <td>Low</td>\n",
       "      <td>Better</td>\n",
       "    </tr>\n",
       "    <tr>\n",
       "      <th>1467</th>\n",
       "      <td>Travel_Rarely</td>\n",
       "      <td>Research &amp; Development</td>\n",
       "      <td>Bacheolor</td>\n",
       "      <td>Life Sciences</td>\n",
       "      <td>Medium</td>\n",
       "      <td>Male</td>\n",
       "      <td>Very High</td>\n",
       "      <td>Manufacturing Director</td>\n",
       "      <td>Medium</td>\n",
       "      <td>Married</td>\n",
       "      <td>Y</td>\n",
       "      <td>Yes</td>\n",
       "      <td>Outstanding</td>\n",
       "      <td>Medium</td>\n",
       "      <td>Better</td>\n",
       "    </tr>\n",
       "    <tr>\n",
       "      <th>1468</th>\n",
       "      <td>Travel_Frequently</td>\n",
       "      <td>Sales</td>\n",
       "      <td>Bacheolor</td>\n",
       "      <td>Medical</td>\n",
       "      <td>Very High</td>\n",
       "      <td>Male</td>\n",
       "      <td>Medium</td>\n",
       "      <td>Sales Executive</td>\n",
       "      <td>Medium</td>\n",
       "      <td>Married</td>\n",
       "      <td>Y</td>\n",
       "      <td>No</td>\n",
       "      <td>Excellent</td>\n",
       "      <td>Very High</td>\n",
       "      <td>Good</td>\n",
       "    </tr>\n",
       "    <tr>\n",
       "      <th>1469</th>\n",
       "      <td>Travel_Rarely</td>\n",
       "      <td>Research &amp; Development</td>\n",
       "      <td>Bacheolor</td>\n",
       "      <td>Medical</td>\n",
       "      <td>Medium</td>\n",
       "      <td>Male</td>\n",
       "      <td>Very High</td>\n",
       "      <td>Laboratory Technician</td>\n",
       "      <td>High</td>\n",
       "      <td>Married</td>\n",
       "      <td>Y</td>\n",
       "      <td>No</td>\n",
       "      <td>Excellent</td>\n",
       "      <td>Low</td>\n",
       "      <td>Best</td>\n",
       "    </tr>\n",
       "  </tbody>\n",
       "</table>\n",
       "<p>1470 rows × 15 columns</p>\n",
       "</div>"
      ],
      "text/plain": [
       "         BusinessTravel              Department      Education EducationField  \\\n",
       "0         Travel_Rarely                   Sales        College  Life Sciences   \n",
       "1     Travel_Frequently  Research & Development  Below College  Life Sciences   \n",
       "2         Travel_Rarely  Research & Development        College          Other   \n",
       "3     Travel_Frequently  Research & Development         Master  Life Sciences   \n",
       "4         Travel_Rarely  Research & Development  Below College        Medical   \n",
       "...                 ...                     ...            ...            ...   \n",
       "1465  Travel_Frequently  Research & Development        College        Medical   \n",
       "1466      Travel_Rarely  Research & Development  Below College        Medical   \n",
       "1467      Travel_Rarely  Research & Development      Bacheolor  Life Sciences   \n",
       "1468  Travel_Frequently                   Sales      Bacheolor        Medical   \n",
       "1469      Travel_Rarely  Research & Development      Bacheolor        Medical   \n",
       "\n",
       "     EnvironmentSatisfaction  Gender JobInvolvement  \\\n",
       "0                     Medium  Female           High   \n",
       "1                       High    Male         Medium   \n",
       "2                  Very High    Male         Medium   \n",
       "3                  Very High  Female           High   \n",
       "4                        Low    Male           High   \n",
       "...                      ...     ...            ...   \n",
       "1465                    High    Male      Very High   \n",
       "1466               Very High    Male         Medium   \n",
       "1467                  Medium    Male      Very High   \n",
       "1468               Very High    Male         Medium   \n",
       "1469                  Medium    Male      Very High   \n",
       "\n",
       "                        JobRole JobSatisfaction MaritalStatus Over18 OverTime  \\\n",
       "0               Sales Executive       Very High        Single      Y      Yes   \n",
       "1            Research Scientist          Medium       Married      Y       No   \n",
       "2         Laboratory Technician            High        Single      Y      Yes   \n",
       "3            Research Scientist            High       Married      Y      Yes   \n",
       "4         Laboratory Technician          Medium       Married      Y       No   \n",
       "...                         ...             ...           ...    ...      ...   \n",
       "1465      Laboratory Technician       Very High       Married      Y       No   \n",
       "1466  Healthcare Representative             Low       Married      Y       No   \n",
       "1467     Manufacturing Director          Medium       Married      Y      Yes   \n",
       "1468            Sales Executive          Medium       Married      Y       No   \n",
       "1469      Laboratory Technician            High       Married      Y       No   \n",
       "\n",
       "     PerformanceRating RelationshipSatisfaction WorkLifeBalance  \n",
       "0            Excellent                      Low             Bad  \n",
       "1          Outstanding                Very High          Better  \n",
       "2            Excellent                   Medium          Better  \n",
       "3            Excellent                     High          Better  \n",
       "4            Excellent                Very High          Better  \n",
       "...                ...                      ...             ...  \n",
       "1465         Excellent                     High          Better  \n",
       "1466         Excellent                      Low          Better  \n",
       "1467       Outstanding                   Medium          Better  \n",
       "1468         Excellent                Very High            Good  \n",
       "1469         Excellent                      Low            Best  \n",
       "\n",
       "[1470 rows x 15 columns]"
      ]
     },
     "execution_count": 53,
     "metadata": {},
     "output_type": "execute_result"
    }
   ],
   "source": [
    "df.drop('Attrition', axis = 1).select_dtypes('object')"
   ]
  },
  {
   "cell_type": "code",
   "execution_count": 54,
   "metadata": {
    "scrolled": false
   },
   "outputs": [
    {
     "data": {
      "text/plain": [
       "No     1233\n",
       "Yes     237\n",
       "Name: Attrition, dtype: int64"
      ]
     },
     "execution_count": 54,
     "metadata": {},
     "output_type": "execute_result"
    }
   ],
   "source": [
    "df['Attrition'].value_counts()"
   ]
  },
  {
   "cell_type": "markdown",
   "metadata": {},
   "source": [
    " #### Note: The data set has less than a fifth of attrition cases compared to non attrition cases."
   ]
  },
  {
   "cell_type": "markdown",
   "metadata": {},
   "source": [
    "### Encoding Categorical Features"
   ]
  },
  {
   "cell_type": "code",
   "execution_count": 55,
   "metadata": {
    "scrolled": true
   },
   "outputs": [],
   "source": [
    "# Dividing the data into the features variables (X) and outcome variable (Y)\n",
    "X = pd.get_dummies(df.drop('Attrition', axis = 1))\n",
    "y = pd.get_dummies(df['Attrition'], drop_first = True)"
   ]
  },
  {
   "cell_type": "code",
   "execution_count": 56,
   "metadata": {
    "scrolled": false
   },
   "outputs": [
    {
     "data": {
      "text/plain": [
       "Yes\n",
       "0      1233\n",
       "1       237\n",
       "dtype: int64"
      ]
     },
     "execution_count": 56,
     "metadata": {},
     "output_type": "execute_result"
    }
   ],
   "source": [
    "y.value_counts()"
   ]
  },
  {
   "cell_type": "markdown",
   "metadata": {},
   "source": [
    "I kept the yes value for the predictor y. A value of 1 indicates attrition while a value of 0 indicates non attrition"
   ]
  },
  {
   "cell_type": "markdown",
   "metadata": {},
   "source": [
    "### Dividing data into Training and Validation Sets"
   ]
  },
  {
   "cell_type": "code",
   "execution_count": 57,
   "metadata": {},
   "outputs": [
    {
     "data": {
      "text/plain": [
       "Index(['Age', 'Attrition', 'BusinessTravel', 'DailyRate', 'Department',\n",
       "       'DistanceFromHome', 'Education', 'EducationField', 'EmployeeCount',\n",
       "       'EmployeeNumber', 'EnvironmentSatisfaction', 'Gender', 'HourlyRate',\n",
       "       'JobInvolvement', 'JobLevel', 'JobRole', 'JobSatisfaction',\n",
       "       'MaritalStatus', 'MonthlyIncome', 'MonthlyRate', 'NumCompaniesWorked',\n",
       "       'Over18', 'OverTime', 'PercentSalaryHike', 'PerformanceRating',\n",
       "       'RelationshipSatisfaction', 'StandardHours', 'StockOptionLevel',\n",
       "       'TotalWorkingYears', 'TrainingTimesLastYear', 'WorkLifeBalance',\n",
       "       'YearsAtCompany', 'YearsInCurrentRole', 'YearsSinceLastPromotion',\n",
       "       'YearsWithCurrManager'],\n",
       "      dtype='object')"
      ]
     },
     "execution_count": 57,
     "metadata": {},
     "output_type": "execute_result"
    }
   ],
   "source": [
    "df.columns"
   ]
  },
  {
   "cell_type": "code",
   "execution_count": 58,
   "metadata": {},
   "outputs": [],
   "source": [
    "X_train, X_test, y_train, y_test = train_test_split(X,y, test_size = .25, random_state = 4)"
   ]
  },
  {
   "cell_type": "code",
   "execution_count": 59,
   "metadata": {
    "scrolled": true
   },
   "outputs": [
    {
     "data": {
      "text/plain": [
       "Yes\n",
       "0      925\n",
       "1      177\n",
       "dtype: int64"
      ]
     },
     "execution_count": 59,
     "metadata": {},
     "output_type": "execute_result"
    }
   ],
   "source": [
    "y_train.value_counts()"
   ]
  },
  {
   "cell_type": "code",
   "execution_count": 60,
   "metadata": {},
   "outputs": [
    {
     "data": {
      "text/plain": [
       "Yes\n",
       "0      308\n",
       "1       60\n",
       "dtype: int64"
      ]
     },
     "execution_count": 60,
     "metadata": {},
     "output_type": "execute_result"
    }
   ],
   "source": [
    "y_test.value_counts()"
   ]
  },
  {
   "cell_type": "markdown",
   "metadata": {},
   "source": [
    "### Generating scalers for numeric data"
   ]
  },
  {
   "cell_type": "code",
   "execution_count": 61,
   "metadata": {},
   "outputs": [],
   "source": [
    "from sklearn.preprocessing import StandardScaler, MinMaxScaler\n",
    "Scaler1 = StandardScaler()\n",
    "Scaler2 = MinMaxScaler()"
   ]
  },
  {
   "cell_type": "code",
   "execution_count": 62,
   "metadata": {
    "scrolled": true
   },
   "outputs": [],
   "source": [
    "scale_variables = list(X_train.select_dtypes('number').columns[1:20])"
   ]
  },
  {
   "cell_type": "code",
   "execution_count": 63,
   "metadata": {},
   "outputs": [
    {
     "data": {
      "text/plain": [
       "['DailyRate',\n",
       " 'DistanceFromHome',\n",
       " 'EmployeeCount',\n",
       " 'EmployeeNumber',\n",
       " 'HourlyRate',\n",
       " 'JobLevel',\n",
       " 'MonthlyIncome',\n",
       " 'MonthlyRate',\n",
       " 'NumCompaniesWorked',\n",
       " 'PercentSalaryHike',\n",
       " 'StandardHours',\n",
       " 'StockOptionLevel',\n",
       " 'TotalWorkingYears',\n",
       " 'TrainingTimesLastYear',\n",
       " 'YearsAtCompany',\n",
       " 'YearsInCurrentRole',\n",
       " 'YearsSinceLastPromotion',\n",
       " 'YearsWithCurrManager',\n",
       " 'BusinessTravel_Non-Travel']"
      ]
     },
     "execution_count": 63,
     "metadata": {},
     "output_type": "execute_result"
    }
   ],
   "source": [
    "scale_variables"
   ]
  },
  {
   "cell_type": "code",
   "execution_count": 64,
   "metadata": {},
   "outputs": [
    {
     "data": {
      "text/plain": [
       "['DailyRate',\n",
       " 'DistanceFromHome',\n",
       " 'EmployeeCount',\n",
       " 'EmployeeNumber',\n",
       " 'HourlyRate',\n",
       " 'JobLevel',\n",
       " 'MonthlyIncome',\n",
       " 'MonthlyRate',\n",
       " 'NumCompaniesWorked',\n",
       " 'PercentSalaryHike',\n",
       " 'StandardHours',\n",
       " 'StockOptionLevel',\n",
       " 'TotalWorkingYears',\n",
       " 'TrainingTimesLastYear',\n",
       " 'YearsAtCompany',\n",
       " 'YearsInCurrentRole',\n",
       " 'YearsSinceLastPromotion',\n",
       " 'YearsWithCurrManager',\n",
       " 'BusinessTravel_Non-Travel']"
      ]
     },
     "execution_count": 64,
     "metadata": {},
     "output_type": "execute_result"
    }
   ],
   "source": [
    "list(X_train.select_dtypes('number').columns[1:20])"
   ]
  },
  {
   "cell_type": "markdown",
   "metadata": {},
   "source": [
    "### In addition to the untouched X_train variable I created two scaled variables to see which one would work best with each model. X_train1 has the numerical variables scaled using a standard scaler while X_train2 is scaled using Min Max scaling."
   ]
  },
  {
   "cell_type": "code",
   "execution_count": 65,
   "metadata": {
    "scrolled": true
   },
   "outputs": [],
   "source": [
    "X_train1 = X_train.copy()\n",
    "X_train2 = X_train.copy()\n",
    "X_test1 = X_test.copy()\n",
    "X_test2 = X_test.copy()\n",
    "\n",
    "X_train1[scale_variables] = Scaler1.fit_transform(X_train[scale_variables])\n",
    "X_test1[scale_variables] = Scaler1.transform(X_test[scale_variables])\n",
    "\n",
    "X_train2[scale_variables] = Scaler2.fit_transform(X_train[scale_variables])\n",
    "X_test2[scale_variables] = Scaler2.transform(X_test[scale_variables])"
   ]
  },
  {
   "cell_type": "markdown",
   "metadata": {},
   "source": [
    "# Modeling:"
   ]
  },
  {
   "cell_type": "markdown",
   "metadata": {},
   "source": [
    "### Now that my data is prepared for modeling, I begin by experimenting with a logistic regression model with no modifications."
   ]
  },
  {
   "cell_type": "markdown",
   "metadata": {},
   "source": [
    "# Logistic Regression Models"
   ]
  },
  {
   "cell_type": "code",
   "execution_count": 66,
   "metadata": {
    "scrolled": false
   },
   "outputs": [],
   "source": [
    "from sklearn.linear_model import LogisticRegression"
   ]
  },
  {
   "cell_type": "code",
   "execution_count": 67,
   "metadata": {},
   "outputs": [
    {
     "name": "stdout",
     "output_type": "stream",
     "text": [
      "[[188 120]\n",
      " [ 23  37]]\n",
      "              precision    recall  f1-score   support\n",
      "\n",
      "           0       0.89      0.61      0.72       308\n",
      "           1       0.24      0.62      0.34        60\n",
      "\n",
      "    accuracy                           0.61       368\n",
      "   macro avg       0.56      0.61      0.53       368\n",
      "weighted avg       0.78      0.61      0.66       368\n",
      "\n"
     ]
    },
    {
     "name": "stderr",
     "output_type": "stream",
     "text": [
      "C:\\Users\\Allen\\anaconda3\\lib\\site-packages\\sklearn\\utils\\validation.py:73: DataConversionWarning: A column-vector y was passed when a 1d array was expected. Please change the shape of y to (n_samples, ), for example using ravel().\n",
      "  return f(**kwargs)\n",
      "C:\\Users\\Allen\\anaconda3\\lib\\site-packages\\sklearn\\linear_model\\_logistic.py:764: ConvergenceWarning: lbfgs failed to converge (status=1):\n",
      "STOP: TOTAL NO. of ITERATIONS REACHED LIMIT.\n",
      "\n",
      "Increase the number of iterations (max_iter) or scale the data as shown in:\n",
      "    https://scikit-learn.org/stable/modules/preprocessing.html\n",
      "Please also refer to the documentation for alternative solver options:\n",
      "    https://scikit-learn.org/stable/modules/linear_model.html#logistic-regression\n",
      "  extra_warning_msg=_LOGISTIC_SOLVER_CONVERGENCE_MSG)\n"
     ]
    },
    {
     "data": {
      "text/plain": [
       "<sklearn.metrics._plot.roc_curve.RocCurveDisplay at 0x1b1a6d60d08>"
      ]
     },
     "execution_count": 67,
     "metadata": {},
     "output_type": "execute_result"
    },
    {
     "data": {
      "image/png": "[encoded data removed]",
      "text/plain": [
       "<Figure size 432x288 with 1 Axes>"
      ]
     },
     "metadata": {
      "needs_background": "light"
     },
     "output_type": "display_data"
    }
   ],
   "source": [
    "lrt = LogisticRegression(class_weight = 'balanced')\n",
    "lrt.fit(X_train, y_train)\n",
    "train_predictt= lrt.predict(X_train)\n",
    "lr_predt= lrt.predict(X_test)\n",
    "print(confusion_matrix(y_test,lr_predt))\n",
    "print(classification_report(y_test,lr_predt))\n",
    "plot_roc_curve(lrt, X_test, y_test)"
   ]
  },
  {
   "cell_type": "markdown",
   "metadata": {},
   "source": [
    "## Logistic Regression 1"
   ]
  },
  {
   "cell_type": "code",
   "execution_count": 68,
   "metadata": {},
   "outputs": [
    {
     "name": "stdout",
     "output_type": "stream",
     "text": [
      "[[307   1]\n",
      " [ 59   1]]\n"
     ]
    },
    {
     "name": "stderr",
     "output_type": "stream",
     "text": [
      "C:\\Users\\Allen\\anaconda3\\lib\\site-packages\\sklearn\\linear_model\\_logistic.py:764: ConvergenceWarning: lbfgs failed to converge (status=1):\n",
      "STOP: TOTAL NO. of ITERATIONS REACHED LIMIT.\n",
      "\n",
      "Increase the number of iterations (max_iter) or scale the data as shown in:\n",
      "    https://scikit-learn.org/stable/modules/preprocessing.html\n",
      "Please also refer to the documentation for alternative solver options:\n",
      "    https://scikit-learn.org/stable/modules/linear_model.html#logistic-regression\n",
      "  extra_warning_msg=_LOGISTIC_SOLVER_CONVERGENCE_MSG)\n"
     ]
    }
   ],
   "source": [
    "lr1 = LogisticRegression()\n",
    "lr1.fit(X_train, y_train.values.ravel())\n",
    "train_predict1 = lr1.predict(X_train)\n",
    "lr_pred1 = lr1.predict(X_test)\n",
    "print(confusion_matrix(y_test.values.ravel(),lr_pred1))"
   ]
  },
  {
   "cell_type": "code",
   "execution_count": 69,
   "metadata": {},
   "outputs": [
    {
     "data": {
      "text/plain": [
       "Yes\n",
       "0      308\n",
       "1       60\n",
       "dtype: int64"
      ]
     },
     "execution_count": 69,
     "metadata": {},
     "output_type": "execute_result"
    }
   ],
   "source": [
    "# Actual Values\n",
    "y_test.value_counts()"
   ]
  },
  {
   "cell_type": "code",
   "execution_count": 70,
   "metadata": {},
   "outputs": [
    {
     "data": {
      "text/plain": [
       "0    366\n",
       "1      2\n",
       "dtype: int64"
      ]
     },
     "execution_count": 70,
     "metadata": {},
     "output_type": "execute_result"
    }
   ],
   "source": [
    "# Predicted Values\n",
    "pd.DataFrame(lr_pred1).value_counts()"
   ]
  },
  {
   "cell_type": "markdown",
   "metadata": {},
   "source": [
    "I compared the predicted value counts and the actual value counts in order to clarify first confusion matrix. The top left corner denotes the number of correct non attrition predictions (307). The top right row indicates the number of non attrition cases incorrectly classified as attrition (1). The bottom left corner indicates the number of attrition cases incorrectly identified as non attrition. Lastly, the bottom right corner indicates the number of attrition cases correclty identified as attrition (0). "
   ]
  },
  {
   "cell_type": "code",
   "execution_count": 71,
   "metadata": {
    "scrolled": false
   },
   "outputs": [
    {
     "name": "stdout",
     "output_type": "stream",
     "text": [
      "              precision    recall  f1-score   support\n",
      "\n",
      "           0       0.84      1.00      0.91       308\n",
      "           1       0.50      0.02      0.03        60\n",
      "\n",
      "    accuracy                           0.84       368\n",
      "   macro avg       0.67      0.51      0.47       368\n",
      "weighted avg       0.78      0.84      0.77       368\n",
      "\n"
     ]
    }
   ],
   "source": [
    "print(classification_report(y_test,lr_pred1))"
   ]
  },
  {
   "cell_type": "code",
   "execution_count": 72,
   "metadata": {
    "scrolled": true
   },
   "outputs": [
    {
     "data": {
      "text/plain": [
       "<sklearn.metrics._plot.roc_curve.RocCurveDisplay at 0x1b1a6d50808>"
      ]
     },
     "execution_count": 72,
     "metadata": {},
     "output_type": "execute_result"
    },
    {
     "data": {
      "image/png": "[encoded data removed]",
      "text/plain": [
       "<Figure size 432x288 with 1 Axes>"
      ]
     },
     "metadata": {
      "needs_background": "light"
     },
     "output_type": "display_data"
    }
   ],
   "source": [
    "plot_roc_curve(lr1, X_test, y_test)"
   ]
  },
  {
   "cell_type": "markdown",
   "metadata": {},
   "source": [
    "The above classification report indicates that the model has an overall accuracy of .83. Although this seems high a model could achieve a higher accuracy score simply by classifying every entry as non attrition. Furthermore the model fails to predict asingle case of attrition which is demonstrated by the precision, recall, and f1-scores all equaling 0. The ROC curve below plots the trade off between true positives and false positives as we increase the models sensitivity to predicting a positive value. The low AUC of .65 indicates that the model trade's off a significant increase in False positives in order to get a higher rate of true positives. Higher AUC values will indicate a more valuable tradeoff and thus a better model. "
   ]
  },
  {
   "cell_type": "markdown",
   "metadata": {},
   "source": [
    "## LR 1 Results: \n",
    "## F1 Score: 0 AUC: .65"
   ]
  },
  {
   "cell_type": "code",
   "execution_count": 73,
   "metadata": {
    "scrolled": false
   },
   "outputs": [
    {
     "name": "stderr",
     "output_type": "stream",
     "text": [
      "C:\\Users\\Allen\\anaconda3\\lib\\site-packages\\sklearn\\utils\\validation.py:73: DataConversionWarning: A column-vector y was passed when a 1d array was expected. Please change the shape of y to (n_samples, ), for example using ravel().\n",
      "  return f(**kwargs)\n"
     ]
    },
    {
     "name": "stdout",
     "output_type": "stream",
     "text": [
      "[[302   6]\n",
      " [ 34  26]]\n",
      "              precision    recall  f1-score   support\n",
      "\n",
      "           0       0.90      0.98      0.94       308\n",
      "           1       0.81      0.43      0.57        60\n",
      "\n",
      "    accuracy                           0.89       368\n",
      "   macro avg       0.86      0.71      0.75       368\n",
      "weighted avg       0.88      0.89      0.88       368\n",
      "\n"
     ]
    },
    {
     "data": {
      "text/plain": [
       "<sklearn.metrics._plot.roc_curve.RocCurveDisplay at 0x1b1a6c53b48>"
      ]
     },
     "execution_count": 73,
     "metadata": {},
     "output_type": "execute_result"
    },
    {
     "data": {
      "image/png": "[encoded data removed]",
      "text/plain": [
       "<Figure size 432x288 with 1 Axes>"
      ]
     },
     "metadata": {
      "needs_background": "light"
     },
     "output_type": "display_data"
    }
   ],
   "source": [
    "### TESTING796 05-2-2021\n",
    "lrT = LogisticRegression(max_iter = 6600)\n",
    "lrT.fit(X_train2, y_train)\n",
    "train_predictT = lrT.predict(X_train2)\n",
    "lr_predT = lrT.predict(X_test2)\n",
    "print(confusion_matrix(y_test,lr_predT))\n",
    "print(classification_report(y_test, lr_predT))\n",
    "plot_roc_curve(lrT, X_test2, y_test)"
   ]
  },
  {
   "cell_type": "markdown",
   "metadata": {},
   "source": [
    "## LR 1.5 Results: \n",
    "## F1 Score: .58 AUC: .83"
   ]
  },
  {
   "cell_type": "markdown",
   "metadata": {},
   "source": [
    "### Using the min max scaled numerical values in order to train the Logistic Regression significantly increased the AUC and F1 scores."
   ]
  },
  {
   "cell_type": "markdown",
   "metadata": {},
   "source": [
    "## Logistic Regression 2"
   ]
  },
  {
   "cell_type": "code",
   "execution_count": 74,
   "metadata": {
    "scrolled": true
   },
   "outputs": [
    {
     "name": "stderr",
     "output_type": "stream",
     "text": [
      "C:\\Users\\Allen\\anaconda3\\lib\\site-packages\\sklearn\\utils\\validation.py:73: DataConversionWarning: A column-vector y was passed when a 1d array was expected. Please change the shape of y to (n_samples, ), for example using ravel().\n",
      "  return f(**kwargs)\n"
     ]
    },
    {
     "name": "stdout",
     "output_type": "stream",
     "text": [
      "[[242  66]\n",
      " [ 14  46]]\n",
      "              precision    recall  f1-score   support\n",
      "\n",
      "           0       0.95      0.79      0.86       308\n",
      "           1       0.41      0.77      0.53        60\n",
      "\n",
      "    accuracy                           0.78       368\n",
      "   macro avg       0.68      0.78      0.70       368\n",
      "weighted avg       0.86      0.78      0.81       368\n",
      "\n"
     ]
    },
    {
     "data": {
      "image/png": "[encoded data removed]",
      "text/plain": [
       "<Figure size 432x288 with 1 Axes>"
      ]
     },
     "metadata": {
      "needs_background": "light"
     },
     "output_type": "display_data"
    }
   ],
   "source": [
    "lr2 = LogisticRegression(class_weight = 'balanced', max_iter = 6600)\n",
    "lr2.fit(X_train2, y_train)\n",
    "train_predict2= lr2.predict(X_train2)\n",
    "lr_pred2= lr2.predict(X_test2)\n",
    "print(confusion_matrix(y_test,lr_pred2))\n",
    "print(classification_report(y_test,lr_pred2))\n",
    "plot_roc_curve(lr2, X_test2, y_test)\n"
   ]
  },
  {
   "cell_type": "markdown",
   "metadata": {},
   "source": [
    "# LR 2 Results: \n",
    "## F1 Score: 0.51 AUC = .82"
   ]
  },
  {
   "cell_type": "markdown",
   "metadata": {},
   "source": [
    "### By equalizing the class weights I punished the model more in each case where it incorrectly classified a case of attrition. This is meant to combat data imbalance. Although the F1 score and AUC values are comparable to the last model, 43 of the 60 attrition cases are correctly identified compared to the 28 in LR model 1.5."
   ]
  },
  {
   "cell_type": "markdown",
   "metadata": {},
   "source": [
    "# Logistic Regression 3 and 4"
   ]
  },
  {
   "cell_type": "markdown",
   "metadata": {},
   "source": [
    "### With the following models I attepmt a couple methods for finding the best hyper parameters to see if I can develop an even more accurate model."
   ]
  },
  {
   "cell_type": "code",
   "execution_count": 20,
   "metadata": {},
   "outputs": [],
   "source": [
    "# This function graphs changes in auc score with changes in a single hyper parameter.\n",
    "def hyper_parameter_visual(model,general_parameters,adjusted_param, adjusted_param_vals, X_train, X_test, y_train, y_test):\n",
    "    \n",
    "    train_values = []\n",
    "    test_values = []\n",
    "    \n",
    "    for val in adjusted_param_vals:\n",
    "        general_parameters[adjusted_param] = val\n",
    "        model.set_params(** general_parameters)\n",
    "        model.fit(X_train, y_train)\n",
    "        train_pred = model.predict(X_train)\n",
    "        false_positive_rate, true_positive_rate, thresholds = roc_curve(y_train, train_pred)\n",
    "        roc_auc = auc(false_positive_rate, true_positive_rate)\n",
    "        train_values.append(roc_auc)\n",
    "        \n",
    "        \n",
    "        y_pred = model.predict(X_test)\n",
    "        false_positive_rate, true_positive_rate, thresholds = roc_curve(y_test, y_pred)\n",
    "        roc_auc = auc(false_positive_rate, true_positive_rate)\n",
    "        test_values.append(roc_auc)\n",
    "        \n",
    "    \n",
    "    plt.plot(adjusted_param_vals, train_values, c = 'b')\n",
    "    plt.plot(adjusted_param_vals, test_values, c = 'r')\n",
    "    plt.ylabel('score')\n",
    "    plt.xlabel('parameter value')"
   ]
  },
  {
   "cell_type": "code",
   "execution_count": 1030,
   "metadata": {
    "scrolled": false
   },
   "outputs": [
    {
     "ename": "TypeError",
     "evalue": "'str' object is not callable",
     "output_type": "error",
     "traceback": [
      "\u001b[1;31m---------------------------------------------------------------------------\u001b[0m",
      "\u001b[1;31mTypeError\u001b[0m                                 Traceback (most recent call last)",
      "\u001b[1;32m<ipython-input-1030-9807aadc34a3>\u001b[0m in \u001b[0;36m<module>\u001b[1;34m\u001b[0m\n\u001b[1;32m----> 1\u001b[1;33m \u001b[0mhyper_parameter_visual\u001b[0m\u001b[1;33m(\u001b[0m\u001b[0mlr2\u001b[0m\u001b[1;33m,\u001b[0m \u001b[1;33m{\u001b[0m\u001b[1;33m}\u001b[0m\u001b[1;33m,\u001b[0m \u001b[1;34m'C'\u001b[0m\u001b[1;33m,\u001b[0m \u001b[1;33m[\u001b[0m\u001b[1;36m.01\u001b[0m\u001b[1;33m,\u001b[0m \u001b[1;36m.1\u001b[0m\u001b[1;33m,\u001b[0m \u001b[1;36m1\u001b[0m\u001b[1;33m,\u001b[0m\u001b[1;36m5\u001b[0m\u001b[1;33m,\u001b[0m\u001b[1;36m10\u001b[0m\u001b[1;33m,\u001b[0m\u001b[1;36m25\u001b[0m\u001b[1;33m,\u001b[0m\u001b[1;36m50\u001b[0m\u001b[1;33m,\u001b[0m\u001b[1;36m100\u001b[0m\u001b[1;33m]\u001b[0m\u001b[1;33m,\u001b[0m \u001b[0mX_train2\u001b[0m\u001b[1;33m,\u001b[0m \u001b[0mX_test2\u001b[0m\u001b[1;33m,\u001b[0m \u001b[0my_train\u001b[0m\u001b[1;33m.\u001b[0m\u001b[0mvalues\u001b[0m\u001b[1;33m.\u001b[0m\u001b[0mravel\u001b[0m\u001b[1;33m(\u001b[0m\u001b[1;33m)\u001b[0m\u001b[1;33m,\u001b[0m \u001b[0my_test\u001b[0m\u001b[1;33m.\u001b[0m\u001b[0mvalues\u001b[0m\u001b[1;33m.\u001b[0m\u001b[0mravel\u001b[0m\u001b[1;33m(\u001b[0m\u001b[1;33m)\u001b[0m\u001b[1;33m)\u001b[0m\u001b[1;33m\u001b[0m\u001b[1;33m\u001b[0m\u001b[0m\n\u001b[0m",
      "\u001b[1;32m<ipython-input-813-935aaec2a7e3>\u001b[0m in \u001b[0;36mhyper_parameter_visual\u001b[1;34m(model, general_parameters, adjusted_param, adjusted_param_vals, X_train, X_test, y_train, y_test)\u001b[0m\n\u001b[0;32m     23\u001b[0m     \u001b[0mplt\u001b[0m\u001b[1;33m.\u001b[0m\u001b[0mplot\u001b[0m\u001b[1;33m(\u001b[0m\u001b[0madjusted_param_vals\u001b[0m\u001b[1;33m,\u001b[0m \u001b[0mtrain_values\u001b[0m\u001b[1;33m,\u001b[0m \u001b[0mc\u001b[0m \u001b[1;33m=\u001b[0m \u001b[1;34m'b'\u001b[0m\u001b[1;33m)\u001b[0m\u001b[1;33m\u001b[0m\u001b[1;33m\u001b[0m\u001b[0m\n\u001b[0;32m     24\u001b[0m     \u001b[0mplt\u001b[0m\u001b[1;33m.\u001b[0m\u001b[0mplot\u001b[0m\u001b[1;33m(\u001b[0m\u001b[0madjusted_param_vals\u001b[0m\u001b[1;33m,\u001b[0m \u001b[0mtest_values\u001b[0m\u001b[1;33m,\u001b[0m \u001b[0mc\u001b[0m \u001b[1;33m=\u001b[0m \u001b[1;34m'r'\u001b[0m\u001b[1;33m)\u001b[0m\u001b[1;33m\u001b[0m\u001b[1;33m\u001b[0m\u001b[0m\n\u001b[1;32m---> 25\u001b[1;33m     \u001b[0mplt\u001b[0m\u001b[1;33m.\u001b[0m\u001b[0mylabel\u001b[0m\u001b[1;33m(\u001b[0m\u001b[1;34m'score'\u001b[0m\u001b[1;33m)\u001b[0m\u001b[1;33m\u001b[0m\u001b[1;33m\u001b[0m\u001b[0m\n\u001b[0m\u001b[0;32m     26\u001b[0m     \u001b[0mplt\u001b[0m\u001b[1;33m.\u001b[0m\u001b[0mxlabel\u001b[0m\u001b[1;33m(\u001b[0m\u001b[1;34m'parameter value'\u001b[0m\u001b[1;33m)\u001b[0m\u001b[1;33m\u001b[0m\u001b[1;33m\u001b[0m\u001b[0m\n",
      "\u001b[1;31mTypeError\u001b[0m: 'str' object is not callable"
     ]
    },
    {
     "data": {
      "image/png": "[encoded data removed]",
      "text/plain": [
       "<Figure size 432x288 with 1 Axes>"
      ]
     },
     "metadata": {
      "needs_background": "light"
     },
     "output_type": "display_data"
    }
   ],
   "source": [
    "hyper_parameter_visual(lr2, {}, 'C', [.01, .1, 1,5,10,25,50,100], X_train2, X_test2, y_train.values.ravel(), y_test.values.ravel())"
   ]
  },
  {
   "cell_type": "code",
   "execution_count": 815,
   "metadata": {
    "scrolled": true
   },
   "outputs": [
    {
     "name": "stderr",
     "output_type": "stream",
     "text": [
      "C:\\Users\\Allen\\anaconda3\\lib\\site-packages\\sklearn\\linear_model\\_logistic.py:764: ConvergenceWarning: lbfgs failed to converge (status=1):\n",
      "STOP: TOTAL NO. of ITERATIONS REACHED LIMIT.\n",
      "\n",
      "Increase the number of iterations (max_iter) or scale the data as shown in:\n",
      "    https://scikit-learn.org/stable/modules/preprocessing.html\n",
      "Please also refer to the documentation for alternative solver options:\n",
      "    https://scikit-learn.org/stable/modules/linear_model.html#logistic-regression\n",
      "  extra_warning_msg=_LOGISTIC_SOLVER_CONVERGENCE_MSG)\n",
      "C:\\Users\\Allen\\anaconda3\\lib\\site-packages\\sklearn\\linear_model\\_logistic.py:764: ConvergenceWarning: lbfgs failed to converge (status=1):\n",
      "STOP: TOTAL NO. of ITERATIONS REACHED LIMIT.\n",
      "\n",
      "Increase the number of iterations (max_iter) or scale the data as shown in:\n",
      "    https://scikit-learn.org/stable/modules/preprocessing.html\n",
      "Please also refer to the documentation for alternative solver options:\n",
      "    https://scikit-learn.org/stable/modules/linear_model.html#logistic-regression\n",
      "  extra_warning_msg=_LOGISTIC_SOLVER_CONVERGENCE_MSG)\n",
      "C:\\Users\\Allen\\anaconda3\\lib\\site-packages\\sklearn\\linear_model\\_logistic.py:764: ConvergenceWarning: lbfgs failed to converge (status=1):\n",
      "STOP: TOTAL NO. of ITERATIONS REACHED LIMIT.\n",
      "\n",
      "Increase the number of iterations (max_iter) or scale the data as shown in:\n",
      "    https://scikit-learn.org/stable/modules/preprocessing.html\n",
      "Please also refer to the documentation for alternative solver options:\n",
      "    https://scikit-learn.org/stable/modules/linear_model.html#logistic-regression\n",
      "  extra_warning_msg=_LOGISTIC_SOLVER_CONVERGENCE_MSG)\n",
      "C:\\Users\\Allen\\anaconda3\\lib\\site-packages\\sklearn\\linear_model\\_logistic.py:764: ConvergenceWarning: lbfgs failed to converge (status=1):\n",
      "STOP: TOTAL NO. of ITERATIONS REACHED LIMIT.\n",
      "\n",
      "Increase the number of iterations (max_iter) or scale the data as shown in:\n",
      "    https://scikit-learn.org/stable/modules/preprocessing.html\n",
      "Please also refer to the documentation for alternative solver options:\n",
      "    https://scikit-learn.org/stable/modules/linear_model.html#logistic-regression\n",
      "  extra_warning_msg=_LOGISTIC_SOLVER_CONVERGENCE_MSG)\n",
      "C:\\Users\\Allen\\anaconda3\\lib\\site-packages\\sklearn\\linear_model\\_logistic.py:764: ConvergenceWarning: lbfgs failed to converge (status=1):\n",
      "STOP: TOTAL NO. of ITERATIONS REACHED LIMIT.\n",
      "\n",
      "Increase the number of iterations (max_iter) or scale the data as shown in:\n",
      "    https://scikit-learn.org/stable/modules/preprocessing.html\n",
      "Please also refer to the documentation for alternative solver options:\n",
      "    https://scikit-learn.org/stable/modules/linear_model.html#logistic-regression\n",
      "  extra_warning_msg=_LOGISTIC_SOLVER_CONVERGENCE_MSG)\n",
      "C:\\Users\\Allen\\anaconda3\\lib\\site-packages\\sklearn\\linear_model\\_logistic.py:764: ConvergenceWarning: lbfgs failed to converge (status=1):\n",
      "STOP: TOTAL NO. of ITERATIONS REACHED LIMIT.\n",
      "\n",
      "Increase the number of iterations (max_iter) or scale the data as shown in:\n",
      "    https://scikit-learn.org/stable/modules/preprocessing.html\n",
      "Please also refer to the documentation for alternative solver options:\n",
      "    https://scikit-learn.org/stable/modules/linear_model.html#logistic-regression\n",
      "  extra_warning_msg=_LOGISTIC_SOLVER_CONVERGENCE_MSG)\n"
     ]
    },
    {
     "data": {
      "image/png": "[encoded data removed]",
      "text/plain": [
       "<Figure size 432x288 with 1 Axes>"
      ]
     },
     "metadata": {
      "needs_background": "light"
     },
     "output_type": "display_data"
    }
   ],
   "source": [
    "hyper_parameter_visual(lr2, {'C' : 1}, 'max_iter', [100, 150, 200, 300, 400, 450, 500, 800], X_train2, X_test2, y_train.values.ravel(), y_test.values.ravel())"
   ]
  },
  {
   "cell_type": "code",
   "execution_count": 816,
   "metadata": {},
   "outputs": [
    {
     "name": "stdout",
     "output_type": "stream",
     "text": [
      "[[242  66]\n",
      " [ 14  46]]\n",
      "              precision    recall  f1-score   support\n",
      "\n",
      "           0       0.95      0.79      0.86       308\n",
      "           1       0.41      0.77      0.53        60\n",
      "\n",
      "    accuracy                           0.78       368\n",
      "   macro avg       0.68      0.78      0.70       368\n",
      "weighted avg       0.86      0.78      0.81       368\n",
      "\n"
     ]
    },
    {
     "data": {
      "text/plain": [
       "<sklearn.metrics._plot.roc_curve.RocCurveDisplay at 0x20543b56108>"
      ]
     },
     "execution_count": 816,
     "metadata": {},
     "output_type": "execute_result"
    },
    {
     "data": {
      "image/png": "[encoded data removed]",
      "text/plain": [
       "<Figure size 432x288 with 1 Axes>"
      ]
     },
     "metadata": {
      "needs_background": "light"
     },
     "output_type": "display_data"
    }
   ],
   "source": [
    "lr3 = LogisticRegression(class_weight = 'balanced', C  = 1, max_iter = 6600)\n",
    "lr3.fit(X_train2, y_train.values.ravel())\n",
    "train_predict2= lr3.predict(X_train2)\n",
    "lr_pred3= lr3.predict(X_test2)\n",
    "print(confusion_matrix(y_test,lr_pred3))\n",
    "print(classification_report(y_test,lr_pred3))\n",
    "plot_roc_curve(lr3, X_test2, y_test)"
   ]
  },
  {
   "cell_type": "code",
   "execution_count": 817,
   "metadata": {},
   "outputs": [],
   "source": [
    "lr_params = {'max_iter' : [100, 150, 200, 300, 400, 450, 500, 800], 'C' : [100, 10, 1.0, 0.1, 0.01]}"
   ]
  },
  {
   "cell_type": "code",
   "execution_count": 818,
   "metadata": {},
   "outputs": [
    {
     "name": "stderr",
     "output_type": "stream",
     "text": [
      "C:\\Users\\Allen\\anaconda3\\lib\\site-packages\\sklearn\\linear_model\\_logistic.py:764: ConvergenceWarning: lbfgs failed to converge (status=1):\n",
      "STOP: TOTAL NO. of ITERATIONS REACHED LIMIT.\n",
      "\n",
      "Increase the number of iterations (max_iter) or scale the data as shown in:\n",
      "    https://scikit-learn.org/stable/modules/preprocessing.html\n",
      "Please also refer to the documentation for alternative solver options:\n",
      "    https://scikit-learn.org/stable/modules/linear_model.html#logistic-regression\n",
      "  extra_warning_msg=_LOGISTIC_SOLVER_CONVERGENCE_MSG)\n",
      "C:\\Users\\Allen\\anaconda3\\lib\\site-packages\\sklearn\\linear_model\\_logistic.py:764: ConvergenceWarning: lbfgs failed to converge (status=1):\n",
      "STOP: TOTAL NO. of ITERATIONS REACHED LIMIT.\n",
      "\n",
      "Increase the number of iterations (max_iter) or scale the data as shown in:\n",
      "    https://scikit-learn.org/stable/modules/preprocessing.html\n",
      "Please also refer to the documentation for alternative solver options:\n",
      "    https://scikit-learn.org/stable/modules/linear_model.html#logistic-regression\n",
      "  extra_warning_msg=_LOGISTIC_SOLVER_CONVERGENCE_MSG)\n",
      "C:\\Users\\Allen\\anaconda3\\lib\\site-packages\\sklearn\\linear_model\\_logistic.py:764: ConvergenceWarning: lbfgs failed to converge (status=1):\n",
      "STOP: TOTAL NO. of ITERATIONS REACHED LIMIT.\n",
      "\n",
      "Increase the number of iterations (max_iter) or scale the data as shown in:\n",
      "    https://scikit-learn.org/stable/modules/preprocessing.html\n",
      "Please also refer to the documentation for alternative solver options:\n",
      "    https://scikit-learn.org/stable/modules/linear_model.html#logistic-regression\n",
      "  extra_warning_msg=_LOGISTIC_SOLVER_CONVERGENCE_MSG)\n",
      "C:\\Users\\Allen\\anaconda3\\lib\\site-packages\\sklearn\\linear_model\\_logistic.py:764: ConvergenceWarning: lbfgs failed to converge (status=1):\n",
      "STOP: TOTAL NO. of ITERATIONS REACHED LIMIT.\n",
      "\n",
      "Increase the number of iterations (max_iter) or scale the data as shown in:\n",
      "    https://scikit-learn.org/stable/modules/preprocessing.html\n",
      "Please also refer to the documentation for alternative solver options:\n",
      "    https://scikit-learn.org/stable/modules/linear_model.html#logistic-regression\n",
      "  extra_warning_msg=_LOGISTIC_SOLVER_CONVERGENCE_MSG)\n",
      "C:\\Users\\Allen\\anaconda3\\lib\\site-packages\\sklearn\\linear_model\\_logistic.py:764: ConvergenceWarning: lbfgs failed to converge (status=1):\n",
      "STOP: TOTAL NO. of ITERATIONS REACHED LIMIT.\n",
      "\n",
      "Increase the number of iterations (max_iter) or scale the data as shown in:\n",
      "    https://scikit-learn.org/stable/modules/preprocessing.html\n",
      "Please also refer to the documentation for alternative solver options:\n",
      "    https://scikit-learn.org/stable/modules/linear_model.html#logistic-regression\n",
      "  extra_warning_msg=_LOGISTIC_SOLVER_CONVERGENCE_MSG)\n",
      "C:\\Users\\Allen\\anaconda3\\lib\\site-packages\\sklearn\\linear_model\\_logistic.py:764: ConvergenceWarning: lbfgs failed to converge (status=1):\n",
      "STOP: TOTAL NO. of ITERATIONS REACHED LIMIT.\n",
      "\n",
      "Increase the number of iterations (max_iter) or scale the data as shown in:\n",
      "    https://scikit-learn.org/stable/modules/preprocessing.html\n",
      "Please also refer to the documentation for alternative solver options:\n",
      "    https://scikit-learn.org/stable/modules/linear_model.html#logistic-regression\n",
      "  extra_warning_msg=_LOGISTIC_SOLVER_CONVERGENCE_MSG)\n",
      "C:\\Users\\Allen\\anaconda3\\lib\\site-packages\\sklearn\\linear_model\\_logistic.py:764: ConvergenceWarning: lbfgs failed to converge (status=1):\n",
      "STOP: TOTAL NO. of ITERATIONS REACHED LIMIT.\n",
      "\n",
      "Increase the number of iterations (max_iter) or scale the data as shown in:\n",
      "    https://scikit-learn.org/stable/modules/preprocessing.html\n",
      "Please also refer to the documentation for alternative solver options:\n",
      "    https://scikit-learn.org/stable/modules/linear_model.html#logistic-regression\n",
      "  extra_warning_msg=_LOGISTIC_SOLVER_CONVERGENCE_MSG)\n",
      "C:\\Users\\Allen\\anaconda3\\lib\\site-packages\\sklearn\\linear_model\\_logistic.py:764: ConvergenceWarning: lbfgs failed to converge (status=1):\n",
      "STOP: TOTAL NO. of ITERATIONS REACHED LIMIT.\n",
      "\n",
      "Increase the number of iterations (max_iter) or scale the data as shown in:\n",
      "    https://scikit-learn.org/stable/modules/preprocessing.html\n",
      "Please also refer to the documentation for alternative solver options:\n",
      "    https://scikit-learn.org/stable/modules/linear_model.html#logistic-regression\n",
      "  extra_warning_msg=_LOGISTIC_SOLVER_CONVERGENCE_MSG)\n",
      "C:\\Users\\Allen\\anaconda3\\lib\\site-packages\\sklearn\\linear_model\\_logistic.py:764: ConvergenceWarning: lbfgs failed to converge (status=1):\n",
      "STOP: TOTAL NO. of ITERATIONS REACHED LIMIT.\n",
      "\n",
      "Increase the number of iterations (max_iter) or scale the data as shown in:\n",
      "    https://scikit-learn.org/stable/modules/preprocessing.html\n",
      "Please also refer to the documentation for alternative solver options:\n",
      "    https://scikit-learn.org/stable/modules/linear_model.html#logistic-regression\n",
      "  extra_warning_msg=_LOGISTIC_SOLVER_CONVERGENCE_MSG)\n",
      "C:\\Users\\Allen\\anaconda3\\lib\\site-packages\\sklearn\\linear_model\\_logistic.py:764: ConvergenceWarning: lbfgs failed to converge (status=1):\n",
      "STOP: TOTAL NO. of ITERATIONS REACHED LIMIT.\n",
      "\n",
      "Increase the number of iterations (max_iter) or scale the data as shown in:\n",
      "    https://scikit-learn.org/stable/modules/preprocessing.html\n",
      "Please also refer to the documentation for alternative solver options:\n",
      "    https://scikit-learn.org/stable/modules/linear_model.html#logistic-regression\n",
      "  extra_warning_msg=_LOGISTIC_SOLVER_CONVERGENCE_MSG)\n",
      "C:\\Users\\Allen\\anaconda3\\lib\\site-packages\\sklearn\\linear_model\\_logistic.py:764: ConvergenceWarning: lbfgs failed to converge (status=1):\n",
      "STOP: TOTAL NO. of ITERATIONS REACHED LIMIT.\n",
      "\n",
      "Increase the number of iterations (max_iter) or scale the data as shown in:\n",
      "    https://scikit-learn.org/stable/modules/preprocessing.html\n",
      "Please also refer to the documentation for alternative solver options:\n",
      "    https://scikit-learn.org/stable/modules/linear_model.html#logistic-regression\n",
      "  extra_warning_msg=_LOGISTIC_SOLVER_CONVERGENCE_MSG)\n",
      "C:\\Users\\Allen\\anaconda3\\lib\\site-packages\\sklearn\\linear_model\\_logistic.py:764: ConvergenceWarning: lbfgs failed to converge (status=1):\n",
      "STOP: TOTAL NO. of ITERATIONS REACHED LIMIT.\n",
      "\n",
      "Increase the number of iterations (max_iter) or scale the data as shown in:\n",
      "    https://scikit-learn.org/stable/modules/preprocessing.html\n",
      "Please also refer to the documentation for alternative solver options:\n",
      "    https://scikit-learn.org/stable/modules/linear_model.html#logistic-regression\n",
      "  extra_warning_msg=_LOGISTIC_SOLVER_CONVERGENCE_MSG)\n",
      "C:\\Users\\Allen\\anaconda3\\lib\\site-packages\\sklearn\\linear_model\\_logistic.py:764: ConvergenceWarning: lbfgs failed to converge (status=1):\n",
      "STOP: TOTAL NO. of ITERATIONS REACHED LIMIT.\n",
      "\n",
      "Increase the number of iterations (max_iter) or scale the data as shown in:\n",
      "    https://scikit-learn.org/stable/modules/preprocessing.html\n",
      "Please also refer to the documentation for alternative solver options:\n",
      "    https://scikit-learn.org/stable/modules/linear_model.html#logistic-regression\n",
      "  extra_warning_msg=_LOGISTIC_SOLVER_CONVERGENCE_MSG)\n",
      "C:\\Users\\Allen\\anaconda3\\lib\\site-packages\\sklearn\\linear_model\\_logistic.py:764: ConvergenceWarning: lbfgs failed to converge (status=1):\n",
      "STOP: TOTAL NO. of ITERATIONS REACHED LIMIT.\n",
      "\n",
      "Increase the number of iterations (max_iter) or scale the data as shown in:\n",
      "    https://scikit-learn.org/stable/modules/preprocessing.html\n",
      "Please also refer to the documentation for alternative solver options:\n",
      "    https://scikit-learn.org/stable/modules/linear_model.html#logistic-regression\n",
      "  extra_warning_msg=_LOGISTIC_SOLVER_CONVERGENCE_MSG)\n",
      "C:\\Users\\Allen\\anaconda3\\lib\\site-packages\\sklearn\\linear_model\\_logistic.py:764: ConvergenceWarning: lbfgs failed to converge (status=1):\n",
      "STOP: TOTAL NO. of ITERATIONS REACHED LIMIT.\n",
      "\n",
      "Increase the number of iterations (max_iter) or scale the data as shown in:\n",
      "    https://scikit-learn.org/stable/modules/preprocessing.html\n",
      "Please also refer to the documentation for alternative solver options:\n",
      "    https://scikit-learn.org/stable/modules/linear_model.html#logistic-regression\n",
      "  extra_warning_msg=_LOGISTIC_SOLVER_CONVERGENCE_MSG)\n",
      "C:\\Users\\Allen\\anaconda3\\lib\\site-packages\\sklearn\\linear_model\\_logistic.py:764: ConvergenceWarning: lbfgs failed to converge (status=1):\n",
      "STOP: TOTAL NO. of ITERATIONS REACHED LIMIT.\n",
      "\n",
      "Increase the number of iterations (max_iter) or scale the data as shown in:\n",
      "    https://scikit-learn.org/stable/modules/preprocessing.html\n",
      "Please also refer to the documentation for alternative solver options:\n",
      "    https://scikit-learn.org/stable/modules/linear_model.html#logistic-regression\n",
      "  extra_warning_msg=_LOGISTIC_SOLVER_CONVERGENCE_MSG)\n",
      "C:\\Users\\Allen\\anaconda3\\lib\\site-packages\\sklearn\\linear_model\\_logistic.py:764: ConvergenceWarning: lbfgs failed to converge (status=1):\n",
      "STOP: TOTAL NO. of ITERATIONS REACHED LIMIT.\n",
      "\n",
      "Increase the number of iterations (max_iter) or scale the data as shown in:\n",
      "    https://scikit-learn.org/stable/modules/preprocessing.html\n",
      "Please also refer to the documentation for alternative solver options:\n",
      "    https://scikit-learn.org/stable/modules/linear_model.html#logistic-regression\n",
      "  extra_warning_msg=_LOGISTIC_SOLVER_CONVERGENCE_MSG)\n",
      "C:\\Users\\Allen\\anaconda3\\lib\\site-packages\\sklearn\\linear_model\\_logistic.py:764: ConvergenceWarning: lbfgs failed to converge (status=1):\n",
      "STOP: TOTAL NO. of ITERATIONS REACHED LIMIT.\n",
      "\n",
      "Increase the number of iterations (max_iter) or scale the data as shown in:\n",
      "    https://scikit-learn.org/stable/modules/preprocessing.html\n",
      "Please also refer to the documentation for alternative solver options:\n",
      "    https://scikit-learn.org/stable/modules/linear_model.html#logistic-regression\n",
      "  extra_warning_msg=_LOGISTIC_SOLVER_CONVERGENCE_MSG)\n",
      "C:\\Users\\Allen\\anaconda3\\lib\\site-packages\\sklearn\\linear_model\\_logistic.py:764: ConvergenceWarning: lbfgs failed to converge (status=1):\n",
      "STOP: TOTAL NO. of ITERATIONS REACHED LIMIT.\n",
      "\n",
      "Increase the number of iterations (max_iter) or scale the data as shown in:\n",
      "    https://scikit-learn.org/stable/modules/preprocessing.html\n",
      "Please also refer to the documentation for alternative solver options:\n",
      "    https://scikit-learn.org/stable/modules/linear_model.html#logistic-regression\n",
      "  extra_warning_msg=_LOGISTIC_SOLVER_CONVERGENCE_MSG)\n",
      "C:\\Users\\Allen\\anaconda3\\lib\\site-packages\\sklearn\\linear_model\\_logistic.py:764: ConvergenceWarning: lbfgs failed to converge (status=1):\n",
      "STOP: TOTAL NO. of ITERATIONS REACHED LIMIT.\n",
      "\n",
      "Increase the number of iterations (max_iter) or scale the data as shown in:\n",
      "    https://scikit-learn.org/stable/modules/preprocessing.html\n",
      "Please also refer to the documentation for alternative solver options:\n",
      "    https://scikit-learn.org/stable/modules/linear_model.html#logistic-regression\n",
      "  extra_warning_msg=_LOGISTIC_SOLVER_CONVERGENCE_MSG)\n",
      "C:\\Users\\Allen\\anaconda3\\lib\\site-packages\\sklearn\\linear_model\\_logistic.py:764: ConvergenceWarning: lbfgs failed to converge (status=1):\n",
      "STOP: TOTAL NO. of ITERATIONS REACHED LIMIT.\n",
      "\n",
      "Increase the number of iterations (max_iter) or scale the data as shown in:\n",
      "    https://scikit-learn.org/stable/modules/preprocessing.html\n",
      "Please also refer to the documentation for alternative solver options:\n",
      "    https://scikit-learn.org/stable/modules/linear_model.html#logistic-regression\n",
      "  extra_warning_msg=_LOGISTIC_SOLVER_CONVERGENCE_MSG)\n",
      "C:\\Users\\Allen\\anaconda3\\lib\\site-packages\\sklearn\\linear_model\\_logistic.py:764: ConvergenceWarning: lbfgs failed to converge (status=1):\n",
      "STOP: TOTAL NO. of ITERATIONS REACHED LIMIT.\n",
      "\n",
      "Increase the number of iterations (max_iter) or scale the data as shown in:\n",
      "    https://scikit-learn.org/stable/modules/preprocessing.html\n",
      "Please also refer to the documentation for alternative solver options:\n",
      "    https://scikit-learn.org/stable/modules/linear_model.html#logistic-regression\n",
      "  extra_warning_msg=_LOGISTIC_SOLVER_CONVERGENCE_MSG)\n",
      "C:\\Users\\Allen\\anaconda3\\lib\\site-packages\\sklearn\\linear_model\\_logistic.py:764: ConvergenceWarning: lbfgs failed to converge (status=1):\n",
      "STOP: TOTAL NO. of ITERATIONS REACHED LIMIT.\n",
      "\n",
      "Increase the number of iterations (max_iter) or scale the data as shown in:\n",
      "    https://scikit-learn.org/stable/modules/preprocessing.html\n",
      "Please also refer to the documentation for alternative solver options:\n",
      "    https://scikit-learn.org/stable/modules/linear_model.html#logistic-regression\n",
      "  extra_warning_msg=_LOGISTIC_SOLVER_CONVERGENCE_MSG)\n",
      "C:\\Users\\Allen\\anaconda3\\lib\\site-packages\\sklearn\\linear_model\\_logistic.py:764: ConvergenceWarning: lbfgs failed to converge (status=1):\n",
      "STOP: TOTAL NO. of ITERATIONS REACHED LIMIT.\n",
      "\n",
      "Increase the number of iterations (max_iter) or scale the data as shown in:\n",
      "    https://scikit-learn.org/stable/modules/preprocessing.html\n",
      "Please also refer to the documentation for alternative solver options:\n",
      "    https://scikit-learn.org/stable/modules/linear_model.html#logistic-regression\n",
      "  extra_warning_msg=_LOGISTIC_SOLVER_CONVERGENCE_MSG)\n"
     ]
    },
    {
     "name": "stderr",
     "output_type": "stream",
     "text": [
      "C:\\Users\\Allen\\anaconda3\\lib\\site-packages\\sklearn\\linear_model\\_logistic.py:764: ConvergenceWarning: lbfgs failed to converge (status=1):\n",
      "STOP: TOTAL NO. of ITERATIONS REACHED LIMIT.\n",
      "\n",
      "Increase the number of iterations (max_iter) or scale the data as shown in:\n",
      "    https://scikit-learn.org/stable/modules/preprocessing.html\n",
      "Please also refer to the documentation for alternative solver options:\n",
      "    https://scikit-learn.org/stable/modules/linear_model.html#logistic-regression\n",
      "  extra_warning_msg=_LOGISTIC_SOLVER_CONVERGENCE_MSG)\n",
      "C:\\Users\\Allen\\anaconda3\\lib\\site-packages\\sklearn\\linear_model\\_logistic.py:764: ConvergenceWarning: lbfgs failed to converge (status=1):\n",
      "STOP: TOTAL NO. of ITERATIONS REACHED LIMIT.\n",
      "\n",
      "Increase the number of iterations (max_iter) or scale the data as shown in:\n",
      "    https://scikit-learn.org/stable/modules/preprocessing.html\n",
      "Please also refer to the documentation for alternative solver options:\n",
      "    https://scikit-learn.org/stable/modules/linear_model.html#logistic-regression\n",
      "  extra_warning_msg=_LOGISTIC_SOLVER_CONVERGENCE_MSG)\n",
      "C:\\Users\\Allen\\anaconda3\\lib\\site-packages\\sklearn\\linear_model\\_logistic.py:764: ConvergenceWarning: lbfgs failed to converge (status=1):\n",
      "STOP: TOTAL NO. of ITERATIONS REACHED LIMIT.\n",
      "\n",
      "Increase the number of iterations (max_iter) or scale the data as shown in:\n",
      "    https://scikit-learn.org/stable/modules/preprocessing.html\n",
      "Please also refer to the documentation for alternative solver options:\n",
      "    https://scikit-learn.org/stable/modules/linear_model.html#logistic-regression\n",
      "  extra_warning_msg=_LOGISTIC_SOLVER_CONVERGENCE_MSG)\n",
      "C:\\Users\\Allen\\anaconda3\\lib\\site-packages\\sklearn\\linear_model\\_logistic.py:764: ConvergenceWarning: lbfgs failed to converge (status=1):\n",
      "STOP: TOTAL NO. of ITERATIONS REACHED LIMIT.\n",
      "\n",
      "Increase the number of iterations (max_iter) or scale the data as shown in:\n",
      "    https://scikit-learn.org/stable/modules/preprocessing.html\n",
      "Please also refer to the documentation for alternative solver options:\n",
      "    https://scikit-learn.org/stable/modules/linear_model.html#logistic-regression\n",
      "  extra_warning_msg=_LOGISTIC_SOLVER_CONVERGENCE_MSG)\n",
      "C:\\Users\\Allen\\anaconda3\\lib\\site-packages\\sklearn\\linear_model\\_logistic.py:764: ConvergenceWarning: lbfgs failed to converge (status=1):\n",
      "STOP: TOTAL NO. of ITERATIONS REACHED LIMIT.\n",
      "\n",
      "Increase the number of iterations (max_iter) or scale the data as shown in:\n",
      "    https://scikit-learn.org/stable/modules/preprocessing.html\n",
      "Please also refer to the documentation for alternative solver options:\n",
      "    https://scikit-learn.org/stable/modules/linear_model.html#logistic-regression\n",
      "  extra_warning_msg=_LOGISTIC_SOLVER_CONVERGENCE_MSG)\n",
      "C:\\Users\\Allen\\anaconda3\\lib\\site-packages\\sklearn\\linear_model\\_logistic.py:764: ConvergenceWarning: lbfgs failed to converge (status=1):\n",
      "STOP: TOTAL NO. of ITERATIONS REACHED LIMIT.\n",
      "\n",
      "Increase the number of iterations (max_iter) or scale the data as shown in:\n",
      "    https://scikit-learn.org/stable/modules/preprocessing.html\n",
      "Please also refer to the documentation for alternative solver options:\n",
      "    https://scikit-learn.org/stable/modules/linear_model.html#logistic-regression\n",
      "  extra_warning_msg=_LOGISTIC_SOLVER_CONVERGENCE_MSG)\n",
      "C:\\Users\\Allen\\anaconda3\\lib\\site-packages\\sklearn\\linear_model\\_logistic.py:764: ConvergenceWarning: lbfgs failed to converge (status=1):\n",
      "STOP: TOTAL NO. of ITERATIONS REACHED LIMIT.\n",
      "\n",
      "Increase the number of iterations (max_iter) or scale the data as shown in:\n",
      "    https://scikit-learn.org/stable/modules/preprocessing.html\n",
      "Please also refer to the documentation for alternative solver options:\n",
      "    https://scikit-learn.org/stable/modules/linear_model.html#logistic-regression\n",
      "  extra_warning_msg=_LOGISTIC_SOLVER_CONVERGENCE_MSG)\n",
      "C:\\Users\\Allen\\anaconda3\\lib\\site-packages\\sklearn\\linear_model\\_logistic.py:764: ConvergenceWarning: lbfgs failed to converge (status=1):\n",
      "STOP: TOTAL NO. of ITERATIONS REACHED LIMIT.\n",
      "\n",
      "Increase the number of iterations (max_iter) or scale the data as shown in:\n",
      "    https://scikit-learn.org/stable/modules/preprocessing.html\n",
      "Please also refer to the documentation for alternative solver options:\n",
      "    https://scikit-learn.org/stable/modules/linear_model.html#logistic-regression\n",
      "  extra_warning_msg=_LOGISTIC_SOLVER_CONVERGENCE_MSG)\n",
      "C:\\Users\\Allen\\anaconda3\\lib\\site-packages\\sklearn\\linear_model\\_logistic.py:764: ConvergenceWarning: lbfgs failed to converge (status=1):\n",
      "STOP: TOTAL NO. of ITERATIONS REACHED LIMIT.\n",
      "\n",
      "Increase the number of iterations (max_iter) or scale the data as shown in:\n",
      "    https://scikit-learn.org/stable/modules/preprocessing.html\n",
      "Please also refer to the documentation for alternative solver options:\n",
      "    https://scikit-learn.org/stable/modules/linear_model.html#logistic-regression\n",
      "  extra_warning_msg=_LOGISTIC_SOLVER_CONVERGENCE_MSG)\n",
      "C:\\Users\\Allen\\anaconda3\\lib\\site-packages\\sklearn\\linear_model\\_logistic.py:764: ConvergenceWarning: lbfgs failed to converge (status=1):\n",
      "STOP: TOTAL NO. of ITERATIONS REACHED LIMIT.\n",
      "\n",
      "Increase the number of iterations (max_iter) or scale the data as shown in:\n",
      "    https://scikit-learn.org/stable/modules/preprocessing.html\n",
      "Please also refer to the documentation for alternative solver options:\n",
      "    https://scikit-learn.org/stable/modules/linear_model.html#logistic-regression\n",
      "  extra_warning_msg=_LOGISTIC_SOLVER_CONVERGENCE_MSG)\n",
      "C:\\Users\\Allen\\anaconda3\\lib\\site-packages\\sklearn\\linear_model\\_logistic.py:764: ConvergenceWarning: lbfgs failed to converge (status=1):\n",
      "STOP: TOTAL NO. of ITERATIONS REACHED LIMIT.\n",
      "\n",
      "Increase the number of iterations (max_iter) or scale the data as shown in:\n",
      "    https://scikit-learn.org/stable/modules/preprocessing.html\n",
      "Please also refer to the documentation for alternative solver options:\n",
      "    https://scikit-learn.org/stable/modules/linear_model.html#logistic-regression\n",
      "  extra_warning_msg=_LOGISTIC_SOLVER_CONVERGENCE_MSG)\n",
      "C:\\Users\\Allen\\anaconda3\\lib\\site-packages\\sklearn\\linear_model\\_logistic.py:764: ConvergenceWarning: lbfgs failed to converge (status=1):\n",
      "STOP: TOTAL NO. of ITERATIONS REACHED LIMIT.\n",
      "\n",
      "Increase the number of iterations (max_iter) or scale the data as shown in:\n",
      "    https://scikit-learn.org/stable/modules/preprocessing.html\n",
      "Please also refer to the documentation for alternative solver options:\n",
      "    https://scikit-learn.org/stable/modules/linear_model.html#logistic-regression\n",
      "  extra_warning_msg=_LOGISTIC_SOLVER_CONVERGENCE_MSG)\n",
      "C:\\Users\\Allen\\anaconda3\\lib\\site-packages\\sklearn\\linear_model\\_logistic.py:764: ConvergenceWarning: lbfgs failed to converge (status=1):\n",
      "STOP: TOTAL NO. of ITERATIONS REACHED LIMIT.\n",
      "\n",
      "Increase the number of iterations (max_iter) or scale the data as shown in:\n",
      "    https://scikit-learn.org/stable/modules/preprocessing.html\n",
      "Please also refer to the documentation for alternative solver options:\n",
      "    https://scikit-learn.org/stable/modules/linear_model.html#logistic-regression\n",
      "  extra_warning_msg=_LOGISTIC_SOLVER_CONVERGENCE_MSG)\n",
      "C:\\Users\\Allen\\anaconda3\\lib\\site-packages\\sklearn\\linear_model\\_logistic.py:764: ConvergenceWarning: lbfgs failed to converge (status=1):\n",
      "STOP: TOTAL NO. of ITERATIONS REACHED LIMIT.\n",
      "\n",
      "Increase the number of iterations (max_iter) or scale the data as shown in:\n",
      "    https://scikit-learn.org/stable/modules/preprocessing.html\n",
      "Please also refer to the documentation for alternative solver options:\n",
      "    https://scikit-learn.org/stable/modules/linear_model.html#logistic-regression\n",
      "  extra_warning_msg=_LOGISTIC_SOLVER_CONVERGENCE_MSG)\n",
      "C:\\Users\\Allen\\anaconda3\\lib\\site-packages\\sklearn\\linear_model\\_logistic.py:764: ConvergenceWarning: lbfgs failed to converge (status=1):\n",
      "STOP: TOTAL NO. of ITERATIONS REACHED LIMIT.\n",
      "\n",
      "Increase the number of iterations (max_iter) or scale the data as shown in:\n",
      "    https://scikit-learn.org/stable/modules/preprocessing.html\n",
      "Please also refer to the documentation for alternative solver options:\n",
      "    https://scikit-learn.org/stable/modules/linear_model.html#logistic-regression\n",
      "  extra_warning_msg=_LOGISTIC_SOLVER_CONVERGENCE_MSG)\n",
      "C:\\Users\\Allen\\anaconda3\\lib\\site-packages\\sklearn\\linear_model\\_logistic.py:764: ConvergenceWarning: lbfgs failed to converge (status=1):\n",
      "STOP: TOTAL NO. of ITERATIONS REACHED LIMIT.\n",
      "\n",
      "Increase the number of iterations (max_iter) or scale the data as shown in:\n",
      "    https://scikit-learn.org/stable/modules/preprocessing.html\n",
      "Please also refer to the documentation for alternative solver options:\n",
      "    https://scikit-learn.org/stable/modules/linear_model.html#logistic-regression\n",
      "  extra_warning_msg=_LOGISTIC_SOLVER_CONVERGENCE_MSG)\n"
     ]
    },
    {
     "name": "stderr",
     "output_type": "stream",
     "text": [
      "C:\\Users\\Allen\\anaconda3\\lib\\site-packages\\sklearn\\linear_model\\_logistic.py:764: ConvergenceWarning: lbfgs failed to converge (status=1):\n",
      "STOP: TOTAL NO. of ITERATIONS REACHED LIMIT.\n",
      "\n",
      "Increase the number of iterations (max_iter) or scale the data as shown in:\n",
      "    https://scikit-learn.org/stable/modules/preprocessing.html\n",
      "Please also refer to the documentation for alternative solver options:\n",
      "    https://scikit-learn.org/stable/modules/linear_model.html#logistic-regression\n",
      "  extra_warning_msg=_LOGISTIC_SOLVER_CONVERGENCE_MSG)\n",
      "C:\\Users\\Allen\\anaconda3\\lib\\site-packages\\sklearn\\linear_model\\_logistic.py:764: ConvergenceWarning: lbfgs failed to converge (status=1):\n",
      "STOP: TOTAL NO. of ITERATIONS REACHED LIMIT.\n",
      "\n",
      "Increase the number of iterations (max_iter) or scale the data as shown in:\n",
      "    https://scikit-learn.org/stable/modules/preprocessing.html\n",
      "Please also refer to the documentation for alternative solver options:\n",
      "    https://scikit-learn.org/stable/modules/linear_model.html#logistic-regression\n",
      "  extra_warning_msg=_LOGISTIC_SOLVER_CONVERGENCE_MSG)\n",
      "C:\\Users\\Allen\\anaconda3\\lib\\site-packages\\sklearn\\linear_model\\_logistic.py:764: ConvergenceWarning: lbfgs failed to converge (status=1):\n",
      "STOP: TOTAL NO. of ITERATIONS REACHED LIMIT.\n",
      "\n",
      "Increase the number of iterations (max_iter) or scale the data as shown in:\n",
      "    https://scikit-learn.org/stable/modules/preprocessing.html\n",
      "Please also refer to the documentation for alternative solver options:\n",
      "    https://scikit-learn.org/stable/modules/linear_model.html#logistic-regression\n",
      "  extra_warning_msg=_LOGISTIC_SOLVER_CONVERGENCE_MSG)\n",
      "C:\\Users\\Allen\\anaconda3\\lib\\site-packages\\sklearn\\linear_model\\_logistic.py:764: ConvergenceWarning: lbfgs failed to converge (status=1):\n",
      "STOP: TOTAL NO. of ITERATIONS REACHED LIMIT.\n",
      "\n",
      "Increase the number of iterations (max_iter) or scale the data as shown in:\n",
      "    https://scikit-learn.org/stable/modules/preprocessing.html\n",
      "Please also refer to the documentation for alternative solver options:\n",
      "    https://scikit-learn.org/stable/modules/linear_model.html#logistic-regression\n",
      "  extra_warning_msg=_LOGISTIC_SOLVER_CONVERGENCE_MSG)\n",
      "C:\\Users\\Allen\\anaconda3\\lib\\site-packages\\sklearn\\linear_model\\_logistic.py:764: ConvergenceWarning: lbfgs failed to converge (status=1):\n",
      "STOP: TOTAL NO. of ITERATIONS REACHED LIMIT.\n",
      "\n",
      "Increase the number of iterations (max_iter) or scale the data as shown in:\n",
      "    https://scikit-learn.org/stable/modules/preprocessing.html\n",
      "Please also refer to the documentation for alternative solver options:\n",
      "    https://scikit-learn.org/stable/modules/linear_model.html#logistic-regression\n",
      "  extra_warning_msg=_LOGISTIC_SOLVER_CONVERGENCE_MSG)\n",
      "C:\\Users\\Allen\\anaconda3\\lib\\site-packages\\sklearn\\linear_model\\_logistic.py:764: ConvergenceWarning: lbfgs failed to converge (status=1):\n",
      "STOP: TOTAL NO. of ITERATIONS REACHED LIMIT.\n",
      "\n",
      "Increase the number of iterations (max_iter) or scale the data as shown in:\n",
      "    https://scikit-learn.org/stable/modules/preprocessing.html\n",
      "Please also refer to the documentation for alternative solver options:\n",
      "    https://scikit-learn.org/stable/modules/linear_model.html#logistic-regression\n",
      "  extra_warning_msg=_LOGISTIC_SOLVER_CONVERGENCE_MSG)\n",
      "C:\\Users\\Allen\\anaconda3\\lib\\site-packages\\sklearn\\linear_model\\_logistic.py:764: ConvergenceWarning: lbfgs failed to converge (status=1):\n",
      "STOP: TOTAL NO. of ITERATIONS REACHED LIMIT.\n",
      "\n",
      "Increase the number of iterations (max_iter) or scale the data as shown in:\n",
      "    https://scikit-learn.org/stable/modules/preprocessing.html\n",
      "Please also refer to the documentation for alternative solver options:\n",
      "    https://scikit-learn.org/stable/modules/linear_model.html#logistic-regression\n",
      "  extra_warning_msg=_LOGISTIC_SOLVER_CONVERGENCE_MSG)\n",
      "C:\\Users\\Allen\\anaconda3\\lib\\site-packages\\sklearn\\linear_model\\_logistic.py:764: ConvergenceWarning: lbfgs failed to converge (status=1):\n",
      "STOP: TOTAL NO. of ITERATIONS REACHED LIMIT.\n",
      "\n",
      "Increase the number of iterations (max_iter) or scale the data as shown in:\n",
      "    https://scikit-learn.org/stable/modules/preprocessing.html\n",
      "Please also refer to the documentation for alternative solver options:\n",
      "    https://scikit-learn.org/stable/modules/linear_model.html#logistic-regression\n",
      "  extra_warning_msg=_LOGISTIC_SOLVER_CONVERGENCE_MSG)\n",
      "C:\\Users\\Allen\\anaconda3\\lib\\site-packages\\sklearn\\linear_model\\_logistic.py:764: ConvergenceWarning: lbfgs failed to converge (status=1):\n",
      "STOP: TOTAL NO. of ITERATIONS REACHED LIMIT.\n",
      "\n",
      "Increase the number of iterations (max_iter) or scale the data as shown in:\n",
      "    https://scikit-learn.org/stable/modules/preprocessing.html\n",
      "Please also refer to the documentation for alternative solver options:\n",
      "    https://scikit-learn.org/stable/modules/linear_model.html#logistic-regression\n",
      "  extra_warning_msg=_LOGISTIC_SOLVER_CONVERGENCE_MSG)\n",
      "C:\\Users\\Allen\\anaconda3\\lib\\site-packages\\sklearn\\linear_model\\_logistic.py:764: ConvergenceWarning: lbfgs failed to converge (status=1):\n",
      "STOP: TOTAL NO. of ITERATIONS REACHED LIMIT.\n",
      "\n",
      "Increase the number of iterations (max_iter) or scale the data as shown in:\n",
      "    https://scikit-learn.org/stable/modules/preprocessing.html\n",
      "Please also refer to the documentation for alternative solver options:\n",
      "    https://scikit-learn.org/stable/modules/linear_model.html#logistic-regression\n",
      "  extra_warning_msg=_LOGISTIC_SOLVER_CONVERGENCE_MSG)\n",
      "C:\\Users\\Allen\\anaconda3\\lib\\site-packages\\sklearn\\linear_model\\_logistic.py:764: ConvergenceWarning: lbfgs failed to converge (status=1):\n",
      "STOP: TOTAL NO. of ITERATIONS REACHED LIMIT.\n",
      "\n",
      "Increase the number of iterations (max_iter) or scale the data as shown in:\n",
      "    https://scikit-learn.org/stable/modules/preprocessing.html\n",
      "Please also refer to the documentation for alternative solver options:\n",
      "    https://scikit-learn.org/stable/modules/linear_model.html#logistic-regression\n",
      "  extra_warning_msg=_LOGISTIC_SOLVER_CONVERGENCE_MSG)\n"
     ]
    },
    {
     "data": {
      "text/plain": [
       "RandomizedSearchCV(cv=5,\n",
       "                   estimator=LogisticRegression(C=1, class_weight='balanced',\n",
       "                                                max_iter=800),\n",
       "                   n_iter=20,\n",
       "                   param_distributions={'C': [100, 10, 1.0, 0.1, 0.01],\n",
       "                                        'max_iter': [100, 150, 200, 300, 400,\n",
       "                                                     450, 500, 800]})"
      ]
     },
     "execution_count": 818,
     "metadata": {},
     "output_type": "execute_result"
    }
   ],
   "source": [
    "lr_params = {'max_iter' : [100, 150, 200, 300, 400, 450, 500, 800], 'C' : [100, 10, 1.0, 0.1, 0.01]}\n",
    "clf4 = RandomizedSearchCV(lr2, lr_params ,n_iter = 20, cv = 5)\n",
    "clf4.fit(X_train2, y_train.values.ravel())"
   ]
  },
  {
   "cell_type": "code",
   "execution_count": 819,
   "metadata": {},
   "outputs": [
    {
     "data": {
      "text/plain": [
       "{'max_iter': 200, 'C': 1.0}"
      ]
     },
     "execution_count": 819,
     "metadata": {},
     "output_type": "execute_result"
    }
   ],
   "source": [
    "clf4.best_params_"
   ]
  },
  {
   "cell_type": "code",
   "execution_count": 820,
   "metadata": {
    "scrolled": false
   },
   "outputs": [
    {
     "name": "stdout",
     "output_type": "stream",
     "text": [
      "[[242  66]\n",
      " [ 15  45]]\n",
      "              precision    recall  f1-score   support\n",
      "\n",
      "           0       0.94      0.79      0.86       308\n",
      "           1       0.41      0.75      0.53        60\n",
      "\n",
      "    accuracy                           0.78       368\n",
      "   macro avg       0.67      0.77      0.69       368\n",
      "weighted avg       0.85      0.78      0.80       368\n",
      "\n"
     ]
    },
    {
     "data": {
      "text/plain": [
       "<sklearn.metrics._plot.roc_curve.RocCurveDisplay at 0x20543bae088>"
      ]
     },
     "execution_count": 820,
     "metadata": {},
     "output_type": "execute_result"
    },
    {
     "data": {
      "image/png": "[encoded data removed]",
      "text/plain": [
       "<Figure size 432x288 with 1 Axes>"
      ]
     },
     "metadata": {
      "needs_background": "light"
     },
     "output_type": "display_data"
    }
   ],
   "source": [
    "lr4 = LogisticRegression(class_weight = 'balanced', C  = 10, max_iter = 6600)\n",
    "lr4.fit(X_train2, y_train.values.ravel())\n",
    "train_predict4= lr4.predict(X_train2)\n",
    "lr_pred4= lr4.predict(X_test2)\n",
    "print(confusion_matrix(y_test,lr_pred4))\n",
    "print(classification_report(y_test,lr_pred4))\n",
    "plot_roc_curve(lr4, X_test2, y_test)"
   ]
  },
  {
   "cell_type": "code",
   "execution_count": 821,
   "metadata": {},
   "outputs": [
    {
     "name": "stdout",
     "output_type": "stream",
     "text": [
      "Model1: \n",
      " [[302   6]\n",
      " [ 33  27]]\n",
      "Model2: \n",
      " [[242  66]\n",
      " [ 14  46]]\n",
      "Model3: \n",
      " [[242  66]\n",
      " [ 14  46]]\n",
      "Model4: \n",
      " [[242  66]\n",
      " [ 15  45]]\n"
     ]
    }
   ],
   "source": [
    "print('Model1: \\n',confusion_matrix(y_test,lr_pred1))\n",
    "print('Model2: \\n',confusion_matrix(y_test,lr_pred2))\n",
    "print('Model3: \\n',confusion_matrix(y_test,lr_pred3))\n",
    "print('Model4: \\n',confusion_matrix(y_test,lr_pred4))"
   ]
  },
  {
   "cell_type": "markdown",
   "metadata": {},
   "source": [
    "The tuned models have a slight increase in F1 and AUC scores. As the hyperparemeters are tuned the models seem maintain the same range of correctly predicted Attrition cases while properly classifying more non attrition cases."
   ]
  },
  {
   "cell_type": "markdown",
   "metadata": {},
   "source": [
    "# LR 3/4 Results: \n",
    "## F1 Score: 0.55 AUC = .83"
   ]
  },
  {
   "cell_type": "markdown",
   "metadata": {},
   "source": [
    "# Random Forest Models"
   ]
  },
  {
   "cell_type": "markdown",
   "metadata": {},
   "source": [
    "# Random Forest 1"
   ]
  },
  {
   "cell_type": "code",
   "execution_count": 822,
   "metadata": {},
   "outputs": [
    {
     "name": "stdout",
     "output_type": "stream",
     "text": [
      "[[305   3]\n",
      " [ 50  10]]\n",
      "              precision    recall  f1-score   support\n",
      "\n",
      "           0       0.86      0.99      0.92       308\n",
      "           1       0.77      0.17      0.27        60\n",
      "\n",
      "    accuracy                           0.86       368\n",
      "   macro avg       0.81      0.58      0.60       368\n",
      "weighted avg       0.84      0.86      0.81       368\n",
      "\n"
     ]
    },
    {
     "data": {
      "text/plain": [
       "<sklearn.metrics._plot.roc_curve.RocCurveDisplay at 0x20543c48488>"
      ]
     },
     "execution_count": 822,
     "metadata": {},
     "output_type": "execute_result"
    },
    {
     "data": {
      "image/png": "[encoded data removed]",
      "text/plain": [
       "<Figure size 432x288 with 1 Axes>"
      ]
     },
     "metadata": {
      "needs_background": "light"
     },
     "output_type": "display_data"
    }
   ],
   "source": [
    "rf1 = RandomForestClassifier()\n",
    "rf1.fit(X_train, y_train.values.ravel())\n",
    "train_predict2 = rf1.predict(X_train)\n",
    "rf_pred1 = rf1.predict(X_test)\n",
    "print(confusion_matrix(y_test,rf_pred1))\n",
    "print(classification_report(y_test,rf_pred1))\n",
    "plot_roc_curve(rf1, X_test, y_test)"
   ]
  },
  {
   "cell_type": "markdown",
   "metadata": {},
   "source": [
    "The first random forest model had an f1 score of .25 and an AUC of .76. The model mostly predicted non attrition cases and was not useful for predicting attrition."
   ]
  },
  {
   "cell_type": "markdown",
   "metadata": {},
   "source": [
    "# RF 1 Results: \n",
    "## F1 Score: 0.25     AUC: .76"
   ]
  },
  {
   "cell_type": "code",
   "execution_count": 823,
   "metadata": {},
   "outputs": [],
   "source": [
    "# sklearn.utils.class"
   ]
  },
  {
   "cell_type": "markdown",
   "metadata": {},
   "source": [
    "# Random Forest 2"
   ]
  },
  {
   "cell_type": "code",
   "execution_count": 824,
   "metadata": {},
   "outputs": [
    {
     "name": "stdout",
     "output_type": "stream",
     "text": [
      "[[308   0]\n",
      " [ 52   8]]\n",
      "              precision    recall  f1-score   support\n",
      "\n",
      "           0       0.86      1.00      0.92       308\n",
      "           1       1.00      0.13      0.24        60\n",
      "\n",
      "    accuracy                           0.86       368\n",
      "   macro avg       0.93      0.57      0.58       368\n",
      "weighted avg       0.88      0.86      0.81       368\n",
      "\n"
     ]
    },
    {
     "data": {
      "text/plain": [
       "<sklearn.metrics._plot.roc_curve.RocCurveDisplay at 0x20543caeb88>"
      ]
     },
     "execution_count": 824,
     "metadata": {},
     "output_type": "execute_result"
    },
    {
     "data": {
      "image/png": "[encoded data removed]",
      "text/plain": [
       "<Figure size 432x288 with 1 Axes>"
      ]
     },
     "metadata": {
      "needs_background": "light"
     },
     "output_type": "display_data"
    }
   ],
   "source": [
    "rf2 = RandomForestClassifier(class_weight = 'balanced')\n",
    "rf2.fit(X_train, y_train.values.ravel())\n",
    "train_predict3 = rf2.predict(X_train)\n",
    "rf_pred2 = rf2.predict(X_test)\n",
    "print(confusion_matrix(y_test,rf_pred2))\n",
    "print(classification_report(y_test,rf_pred2))\n",
    "plot_roc_curve(rf2, X_test, y_test)"
   ]
  },
  {
   "cell_type": "markdown",
   "metadata": {},
   "source": [
    "### Balancing the data seemed to have little effect on the model results"
   ]
  },
  {
   "cell_type": "markdown",
   "metadata": {},
   "source": [
    "# RF 2 Results: \n",
    "## F1 Score: 0.23     AUC: .76"
   ]
  },
  {
   "cell_type": "code",
   "execution_count": 825,
   "metadata": {},
   "outputs": [
    {
     "name": "stderr",
     "output_type": "stream",
     "text": [
      "C:\\Users\\Allen\\anaconda3\\lib\\site-packages\\ipykernel_launcher.py:3: DataConversionWarning: A column-vector y was passed when a 1d array was expected. Please change the shape of y to (n_samples,), for example using ravel().\n",
      "  This is separate from the ipykernel package so we can avoid doing imports until\n"
     ]
    },
    {
     "name": "stdout",
     "output_type": "stream",
     "text": [
      "[[307   1]\n",
      " [ 54   6]]\n"
     ]
    },
    {
     "data": {
      "text/plain": [
       "<sklearn.metrics._plot.roc_curve.RocCurveDisplay at 0x20543d14dc8>"
      ]
     },
     "execution_count": 825,
     "metadata": {},
     "output_type": "execute_result"
    },
    {
     "data": {
      "image/png": "[encoded data removed]",
      "text/plain": [
       "<Figure size 432x288 with 1 Axes>"
      ]
     },
     "metadata": {
      "needs_background": "light"
     },
     "output_type": "display_data"
    }
   ],
   "source": [
    "# Test\n",
    "rfT = RandomForestClassifier(class_weight = 'balanced')\n",
    "rfT.fit(X_train2, y_train)\n",
    "train_predictT = rfT.predict(X_train2)\n",
    "rf_predT = rfT.predict(X_test2)\n",
    "print(confusion_matrix(y_test,rf_predT))\n",
    "plot_roc_curve(rfT, X_test2, y_test)"
   ]
  },
  {
   "cell_type": "markdown",
   "metadata": {},
   "source": [
    "# Random Forest 3"
   ]
  },
  {
   "cell_type": "markdown",
   "metadata": {},
   "source": [
    "I'll start modifying the parameters by running a Grid Search of several parameters. I'll then choose the parameters to ellicit the best results in order to run a new model. "
   ]
  },
  {
   "cell_type": "code",
   "execution_count": 826,
   "metadata": {},
   "outputs": [],
   "source": [
    "from sklearn.model_selection import GridSearchCV"
   ]
  },
  {
   "cell_type": "code",
   "execution_count": 827,
   "metadata": {},
   "outputs": [],
   "source": [
    "param_grid = {'bootstrap': [True],\n",
    " 'max_depth': [5, 10, 20, 30, None],\n",
    " 'max_features': ['auto'],\n",
    " 'min_samples_leaf': [1, 2, 4],\n",
    " 'min_samples_split': [2, 5, 10],\n",
    " 'n_estimators': [50, 100, 200, 400]}\n",
    "\n",
    "clf = GridSearchCV(model3, param_grid, cv = 5)\n"
   ]
  },
  {
   "cell_type": "code",
   "execution_count": 828,
   "metadata": {},
   "outputs": [
    {
     "data": {
      "text/plain": [
       "GridSearchCV(cv=5,\n",
       "             estimator=RandomForestClassifier(class_weight='balanced',\n",
       "                                              max_depth=3, min_samples_leaf=5,\n",
       "                                              n_estimators=1200),\n",
       "             param_grid={'bootstrap': [True],\n",
       "                         'max_depth': [5, 10, 20, 30, None],\n",
       "                         'max_features': ['auto'],\n",
       "                         'min_samples_leaf': [1, 2, 4],\n",
       "                         'min_samples_split': [2, 5, 10],\n",
       "                         'n_estimators': [50, 100, 200, 400]})"
      ]
     },
     "execution_count": 828,
     "metadata": {},
     "output_type": "execute_result"
    }
   ],
   "source": [
    "clf = GridSearchCV(model3, param_grid, cv = 5)\n",
    "clf.fit(X_train, y_train.values.ravel())"
   ]
  },
  {
   "cell_type": "code",
   "execution_count": 829,
   "metadata": {},
   "outputs": [
    {
     "data": {
      "text/plain": [
       "{'mean_fit_time': array([0.06986313, 0.13692412, 0.26343908, 0.52487602, 0.07126493,\n",
       "        0.13232021, 0.26123686, 0.52787933, 0.06746135, 0.13091879,\n",
       "        0.2670423 , 0.52047224, 0.06786113, 0.1339211 , 0.2634388 ,\n",
       "        0.52887998, 0.06626015, 0.13191948, 0.26383948, 0.52247415,\n",
       "        0.06846232, 0.13312078, 0.26203794, 0.52327528, 0.06706104,\n",
       "        0.13572297, 0.26263838, 0.52387547, 0.06746116, 0.13171973,\n",
       "        0.2636394 , 0.51887083, 0.0658597 , 0.13332095, 0.26003599,\n",
       "        0.52227421, 0.07887154, 0.15794344, 0.30988126, 0.61315637,\n",
       "        0.07887158, 0.15954509, 0.30848017, 0.6073513 , 0.07807088,\n",
       "        0.14893508, 0.29827075, 0.59313846, 0.07807107, 0.15193777,\n",
       "        0.30687885, 0.61355691, 0.07707   , 0.15253878, 0.30227451,\n",
       "        0.60855241, 0.07727032, 0.15193787, 0.30007229, 0.58773322,\n",
       "        0.07666941, 0.1471333 , 0.29746981, 0.59073591, 0.07686982,\n",
       "        0.14933548, 0.29426708, 0.58873434, 0.07426753, 0.14693336,\n",
       "        0.2982707 , 0.59093628, 0.08247523, 0.16174693, 0.3254952 ,\n",
       "        0.63978086, 0.08007293, 0.1587441 , 0.31768842, 0.61655955,\n",
       "        0.07686968, 0.15514073, 0.30507669, 0.60134592, 0.0782712 ,\n",
       "        0.15514078, 0.3078794 , 0.61836104, 0.08087325, 0.15814338,\n",
       "        0.30527701, 0.60334778, 0.07646885, 0.15273857, 0.30307484,\n",
       "        0.60354786, 0.07787051, 0.14773407, 0.30027242, 0.59634151,\n",
       "        0.07767072, 0.15253825, 0.29706974, 0.58973517, 0.07887163,\n",
       "        0.14713345, 0.29506779, 0.59133677, 0.08287492, 0.15734272,\n",
       "        0.31748824, 0.62897062, 0.08127379, 0.15654202, 0.31528597,\n",
       "        0.61615915, 0.0758687 , 0.15093684, 0.30227442, 0.61355667,\n",
       "        0.08087354, 0.15774312, 0.30827966, 0.61275606, 0.0786715 ,\n",
       "        0.15333905, 0.30888028, 0.61195545, 0.07666965, 0.15133734,\n",
       "        0.29686942, 0.59934382, 0.07987237, 0.14953566, 0.29726977,\n",
       "        0.59213738, 0.07406716, 0.14933605, 0.29686942, 0.58593192,\n",
       "        0.07566867, 0.14693351, 0.29747005, 0.58893466, 0.08147402,\n",
       "        0.16114626, 0.32169189, 0.64138236, 0.08367586, 0.15934448,\n",
       "        0.31308408, 0.61936226, 0.0774703 , 0.15153766, 0.29847078,\n",
       "        0.60735116, 0.07967215, 0.15574121, 0.30767903, 0.624967  ,\n",
       "        0.08107362, 0.15674229, 0.3140851 , 0.61816077, 0.07626939,\n",
       "        0.15173774, 0.29987178, 0.60154591, 0.0758688 , 0.15434027,\n",
       "        0.29766998, 0.60354795, 0.0754683 , 0.15073676, 0.29987216,\n",
       "        0.59854307, 0.0762692 , 0.14733405, 0.29106441, 0.60014472]),\n",
       " 'std_fit_time': array([0.00248381, 0.00598535, 0.0042657 , 0.00265555, 0.00371253,\n",
       "        0.00319045, 0.0030362 , 0.01192056, 0.00250038, 0.00160131,\n",
       "        0.00931219, 0.00562631, 0.00365846, 0.00671118, 0.00668155,\n",
       "        0.0130443 , 0.00074902, 0.00349042, 0.00589068, 0.00385054,\n",
       "        0.00224695, 0.00268565, 0.00376648, 0.00875838, 0.00089532,\n",
       "        0.00463473, 0.00441316, 0.00709428, 0.00287317, 0.00320266,\n",
       "        0.00344372, 0.00398343, 0.00040014, 0.00248431, 0.00319029,\n",
       "        0.00574625, 0.00172228, 0.00523536, 0.00925197, 0.00393307,\n",
       "        0.00183444, 0.00500858, 0.00349051, 0.01076892, 0.00219282,\n",
       "        0.00256352, 0.00303568, 0.00907684, 0.00141532, 0.00292829,\n",
       "        0.00656647, 0.00888502, 0.00310078, 0.0025793 , 0.00494441,\n",
       "        0.00960017, 0.00312707, 0.00598525, 0.00731148, 0.00504062,\n",
       "        0.00326475, 0.00089516, 0.00412152, 0.00556926, 0.00365854,\n",
       "        0.00417014, 0.00529661, 0.00935471, 0.00098056, 0.00231708,\n",
       "        0.00390219, 0.00755925, 0.00338523, 0.00350178, 0.00331347,\n",
       "        0.00640587, 0.00261   , 0.00508806, 0.00602547, 0.01042083,\n",
       "        0.00147103, 0.0012661 , 0.00854979, 0.00397348, 0.00074902,\n",
       "        0.00261051, 0.00427482, 0.00564057, 0.00392286, 0.00533391,\n",
       "        0.00316535, 0.00417061, 0.00350232, 0.00300947, 0.00618306,\n",
       "        0.00908554, 0.00147074, 0.00102064, 0.00460852, 0.00659129,\n",
       "        0.00265579, 0.00595863, 0.00605182, 0.00278803, 0.00360337,\n",
       "        0.00089522, 0.00444935, 0.0081657 , 0.00248414, 0.00098048,\n",
       "        0.00608484, 0.00979881, 0.00504025, 0.00398366, 0.00583623,\n",
       "        0.00850717, 0.00074905, 0.0016014 , 0.00261031, 0.00815623,\n",
       "        0.00714506, 0.0048044 , 0.00438571, 0.00453839, 0.00185617,\n",
       "        0.00222905, 0.00653593, 0.00656642, 0.00257915, 0.00278861,\n",
       "        0.00535643, 0.00685889, 0.00491956, 0.00300903, 0.00912949,\n",
       "        0.00463436, 0.00109645, 0.00248441, 0.00543077, 0.0051269 ,\n",
       "        0.00185649, 0.00098073, 0.00574644, 0.00492781, 0.00196119,\n",
       "        0.00469467, 0.00120118, 0.01353853, 0.00445842, 0.00387139,\n",
       "        0.00763302, 0.00574644, 0.00250009, 0.002061  , 0.00248415,\n",
       "        0.00958791, 0.0017449 , 0.00488717, 0.0042745 , 0.01145759,\n",
       "        0.0033493 , 0.00665731, 0.00744744, 0.00955057, 0.00204144,\n",
       "        0.00265585, 0.00715053, 0.01004905, 0.00147113, 0.00571129,\n",
       "        0.00422756, 0.00972483, 0.00102063, 0.00185641, 0.00344416,\n",
       "        0.00490308, 0.0029285 , 0.0021374 , 0.00074919, 0.01260664]),\n",
       " 'mean_score_time': array([0.00500455, 0.00980906, 0.01501365, 0.0290266 , 0.00560489,\n",
       "        0.00920796, 0.01481347, 0.02862587, 0.00540481, 0.00940852,\n",
       "        0.01661534, 0.02862597, 0.00540538, 0.00880842, 0.01461329,\n",
       "        0.02802525, 0.00480437, 0.00820751, 0.0150135 , 0.02902646,\n",
       "        0.00460396, 0.00940847, 0.01481357, 0.02962661, 0.00560489,\n",
       "        0.00920849, 0.01521392, 0.02802548, 0.00500455, 0.00840745,\n",
       "        0.01601453, 0.03002729, 0.00480437, 0.00860777, 0.01521378,\n",
       "        0.02802505, 0.00520473, 0.00980887, 0.01641479, 0.0316287 ,\n",
       "        0.00540495, 0.01000862, 0.01601443, 0.03102803, 0.00520482,\n",
       "        0.00920844, 0.01601453, 0.03022723, 0.00520458, 0.00900831,\n",
       "        0.01701508, 0.03142848, 0.00520449, 0.00980859, 0.0168149 ,\n",
       "        0.03062782, 0.00500436, 0.00960908, 0.01681523, 0.03222952,\n",
       "        0.00500469, 0.00900836, 0.01601453, 0.0316287 , 0.00540476,\n",
       "        0.00960879, 0.01721554, 0.03222914, 0.00500469, 0.00940862,\n",
       "        0.0166152 , 0.03182883, 0.00560474, 0.0096086 , 0.01661515,\n",
       "        0.03122821, 0.00540466, 0.00900817, 0.01701536, 0.03162866,\n",
       "        0.00520473, 0.00940866, 0.01701541, 0.03162856, 0.00540476,\n",
       "        0.00960898, 0.01661501, 0.03222942, 0.00680647, 0.00900817,\n",
       "        0.01741571, 0.03102784, 0.00520496, 0.00940862, 0.01741605,\n",
       "        0.03022728, 0.00520473, 0.00920849, 0.01661506, 0.03062758,\n",
       "        0.00500431, 0.0086082 , 0.01621475, 0.03062754, 0.00520468,\n",
       "        0.00900836, 0.01661515, 0.03262959, 0.00560541, 0.00920873,\n",
       "        0.0170155 , 0.03182907, 0.00520473, 0.00900836, 0.01641498,\n",
       "        0.03182888, 0.00520492, 0.00920844, 0.01601443, 0.03082819,\n",
       "        0.00560498, 0.00900836, 0.01681533, 0.03262997, 0.00540495,\n",
       "        0.00900817, 0.01701546, 0.03282976, 0.0054049 , 0.00900812,\n",
       "        0.01621461, 0.03082809, 0.00500464, 0.01040931, 0.0162147 ,\n",
       "        0.03262959, 0.00560513, 0.00900769, 0.01681528, 0.03302989,\n",
       "        0.00520477, 0.00940843, 0.01781616, 0.03042746, 0.00540485,\n",
       "        0.00880799, 0.01861691, 0.0354321 , 0.00560508, 0.00900822,\n",
       "        0.0162147 , 0.03082786, 0.00540495, 0.00960865, 0.0162148 ,\n",
       "        0.03042779, 0.00600567, 0.00940876, 0.01641521, 0.03423114,\n",
       "        0.00520458, 0.00920839, 0.01761603, 0.03062787, 0.00520463,\n",
       "        0.00900817, 0.01661525, 0.03102813, 0.00500445, 0.00880785,\n",
       "        0.01701531, 0.03102818, 0.00520492, 0.00900812, 0.0158144 ,\n",
       "        0.0304275 , 0.00540495, 0.00840731, 0.01661487, 0.03262963]),\n",
       " 'std_score_time': array([2.43140197e-07, 2.22906398e-03, 6.32786722e-04, 2.00183395e-03,\n",
       "        8.00979224e-04, 1.94082005e-03, 7.48914517e-04, 1.74513982e-03,\n",
       "        8.00442715e-04, 1.35759103e-03, 2.57897945e-03, 1.74521633e-03,\n",
       "        4.90310214e-04, 3.99971207e-04, 4.90582749e-04, 6.33088321e-04,\n",
       "        4.00543355e-04, 4.00447902e-04, 6.32786686e-04, 1.26628962e-03,\n",
       "        4.90057140e-04, 1.85652262e-03, 4.00376473e-04, 1.02053438e-03,\n",
       "        8.00502337e-04, 7.48825435e-04, 4.00447959e-04, 2.43140197e-07,\n",
       "        2.43140197e-07, 4.90290742e-04, 2.00154782e-03, 1.89911397e-03,\n",
       "        4.00304865e-04, 4.90582726e-04, 4.00400233e-04, 4.42200589e-07,\n",
       "        4.00400176e-04, 1.16709538e-03, 4.90446561e-04, 1.35773870e-03,\n",
       "        4.90173964e-04, 2.09921606e-03, 2.86102295e-07, 6.32862131e-04,\n",
       "        4.00352620e-04, 9.80591159e-04, 6.32711296e-04, 4.00519410e-04,\n",
       "        4.00352563e-04, 1.90734863e-07, 6.33013003e-04, 1.96129911e-03,\n",
       "        4.00161772e-04, 1.16733261e-03, 9.80484125e-04, 4.90446607e-04,\n",
       "        4.62310777e-07, 1.35738731e-03, 2.13758320e-03, 2.40233742e-03,\n",
       "        9.53674316e-08, 1.78416128e-07, 1.09654106e-03, 1.96159112e-03,\n",
       "        4.90232393e-04, 2.24690475e-03, 2.40228177e-03, 2.04130692e-03,\n",
       "        3.50402318e-07, 1.02061866e-03, 1.20100977e-03, 2.22920530e-03,\n",
       "        4.90368609e-04, 8.00776501e-04, 4.90271342e-04, 4.00352563e-04,\n",
       "        4.90115685e-04, 2.13248060e-07, 3.23406696e-07, 4.90115569e-04,\n",
       "        4.00400233e-04, 1.35768943e-03, 1.55074317e-03, 1.85607530e-03,\n",
       "        4.90524366e-04, 8.00669411e-04, 8.00716914e-04, 9.80639852e-04,\n",
       "        1.47089166e-03, 2.61174468e-07, 2.33400262e-03, 5.30983387e-07,\n",
       "        4.00996219e-04, 1.35763320e-03, 2.33468139e-03, 4.00137997e-04,\n",
       "        4.00280992e-04, 4.00161942e-04, 8.00859933e-04, 4.90252156e-04,\n",
       "        1.16800773e-07, 4.90154495e-04, 4.00471840e-04, 4.90407565e-04,\n",
       "        4.00424071e-04, 6.32937475e-04, 1.74507959e-03, 2.41874266e-03,\n",
       "        4.90232393e-04, 4.00519467e-04, 5.30983387e-07, 4.00400290e-04,\n",
       "        4.00280963e-04, 1.78416128e-07, 4.90290742e-04, 7.49029174e-04,\n",
       "        4.00185681e-04, 9.81029187e-04, 2.43140197e-07, 3.99923367e-04,\n",
       "        4.90271273e-04, 5.09122765e-07, 4.00376444e-04, 2.06099618e-03,\n",
       "        4.90660616e-04, 1.50789149e-07, 2.00188161e-03, 2.22920959e-03,\n",
       "        8.00752675e-04, 5.51978917e-07, 4.00424043e-04, 7.49245801e-04,\n",
       "        1.50789149e-07, 1.74525462e-03, 9.80523039e-04, 1.85641465e-03,\n",
       "        4.90388074e-04, 5.00111031e-07, 7.49118348e-04, 2.45166770e-03,\n",
       "        4.00376359e-04, 1.35768945e-03, 3.12697493e-03, 4.90271273e-04,\n",
       "        4.90446491e-04, 4.00591053e-04, 2.06101926e-03, 4.03347969e-03,\n",
       "        1.20110514e-03, 9.53674316e-08, 4.00257111e-04, 4.00352535e-04,\n",
       "        4.90076613e-04, 8.00859961e-04, 4.00328647e-04, 4.90290742e-04,\n",
       "        8.95375349e-04, 4.90621675e-04, 4.90874769e-04, 3.12681924e-03,\n",
       "        4.00233336e-04, 4.00328704e-04, 2.24708741e-03, 8.00561969e-04,\n",
       "        4.00447959e-04, 2.61174468e-07, 8.00657294e-04, 1.26587492e-03,\n",
       "        3.16297988e-07, 4.00280992e-04, 2.00171472e-03, 6.33239075e-04,\n",
       "        4.00543298e-04, 4.10190833e-07, 4.00114074e-04, 4.90329667e-04,\n",
       "        4.90368609e-04, 4.90602233e-04, 8.00347348e-04, 3.07495779e-03]),\n",
       " 'param_bootstrap': masked_array(data=[True, True, True, True, True, True, True, True, True,\n",
       "                    True, True, True, True, True, True, True, True, True,\n",
       "                    True, True, True, True, True, True, True, True, True,\n",
       "                    True, True, True, True, True, True, True, True, True,\n",
       "                    True, True, True, True, True, True, True, True, True,\n",
       "                    True, True, True, True, True, True, True, True, True,\n",
       "                    True, True, True, True, True, True, True, True, True,\n",
       "                    True, True, True, True, True, True, True, True, True,\n",
       "                    True, True, True, True, True, True, True, True, True,\n",
       "                    True, True, True, True, True, True, True, True, True,\n",
       "                    True, True, True, True, True, True, True, True, True,\n",
       "                    True, True, True, True, True, True, True, True, True,\n",
       "                    True, True, True, True, True, True, True, True, True,\n",
       "                    True, True, True, True, True, True, True, True, True,\n",
       "                    True, True, True, True, True, True, True, True, True,\n",
       "                    True, True, True, True, True, True, True, True, True,\n",
       "                    True, True, True, True, True, True, True, True, True,\n",
       "                    True, True, True, True, True, True, True, True, True,\n",
       "                    True, True, True, True, True, True, True, True, True,\n",
       "                    True, True, True, True, True, True, True, True, True],\n",
       "              mask=[False, False, False, False, False, False, False, False,\n",
       "                    False, False, False, False, False, False, False, False,\n",
       "                    False, False, False, False, False, False, False, False,\n",
       "                    False, False, False, False, False, False, False, False,\n",
       "                    False, False, False, False, False, False, False, False,\n",
       "                    False, False, False, False, False, False, False, False,\n",
       "                    False, False, False, False, False, False, False, False,\n",
       "                    False, False, False, False, False, False, False, False,\n",
       "                    False, False, False, False, False, False, False, False,\n",
       "                    False, False, False, False, False, False, False, False,\n",
       "                    False, False, False, False, False, False, False, False,\n",
       "                    False, False, False, False, False, False, False, False,\n",
       "                    False, False, False, False, False, False, False, False,\n",
       "                    False, False, False, False, False, False, False, False,\n",
       "                    False, False, False, False, False, False, False, False,\n",
       "                    False, False, False, False, False, False, False, False,\n",
       "                    False, False, False, False, False, False, False, False,\n",
       "                    False, False, False, False, False, False, False, False,\n",
       "                    False, False, False, False, False, False, False, False,\n",
       "                    False, False, False, False, False, False, False, False,\n",
       "                    False, False, False, False, False, False, False, False,\n",
       "                    False, False, False, False, False, False, False, False,\n",
       "                    False, False, False, False],\n",
       "        fill_value='?',\n",
       "             dtype=object),\n",
       " 'param_max_depth': masked_array(data=[5, 5, 5, 5, 5, 5, 5, 5, 5, 5, 5, 5, 5, 5, 5, 5, 5, 5,\n",
       "                    5, 5, 5, 5, 5, 5, 5, 5, 5, 5, 5, 5, 5, 5, 5, 5, 5, 5,\n",
       "                    10, 10, 10, 10, 10, 10, 10, 10, 10, 10, 10, 10, 10, 10,\n",
       "                    10, 10, 10, 10, 10, 10, 10, 10, 10, 10, 10, 10, 10, 10,\n",
       "                    10, 10, 10, 10, 10, 10, 10, 10, 20, 20, 20, 20, 20, 20,\n",
       "                    20, 20, 20, 20, 20, 20, 20, 20, 20, 20, 20, 20, 20, 20,\n",
       "                    20, 20, 20, 20, 20, 20, 20, 20, 20, 20, 20, 20, 20, 20,\n",
       "                    20, 20, 30, 30, 30, 30, 30, 30, 30, 30, 30, 30, 30, 30,\n",
       "                    30, 30, 30, 30, 30, 30, 30, 30, 30, 30, 30, 30, 30, 30,\n",
       "                    30, 30, 30, 30, 30, 30, 30, 30, 30, 30, None, None,\n",
       "                    None, None, None, None, None, None, None, None, None,\n",
       "                    None, None, None, None, None, None, None, None, None,\n",
       "                    None, None, None, None, None, None, None, None, None,\n",
       "                    None, None, None, None, None, None, None],\n",
       "              mask=[False, False, False, False, False, False, False, False,\n",
       "                    False, False, False, False, False, False, False, False,\n",
       "                    False, False, False, False, False, False, False, False,\n",
       "                    False, False, False, False, False, False, False, False,\n",
       "                    False, False, False, False, False, False, False, False,\n",
       "                    False, False, False, False, False, False, False, False,\n",
       "                    False, False, False, False, False, False, False, False,\n",
       "                    False, False, False, False, False, False, False, False,\n",
       "                    False, False, False, False, False, False, False, False,\n",
       "                    False, False, False, False, False, False, False, False,\n",
       "                    False, False, False, False, False, False, False, False,\n",
       "                    False, False, False, False, False, False, False, False,\n",
       "                    False, False, False, False, False, False, False, False,\n",
       "                    False, False, False, False, False, False, False, False,\n",
       "                    False, False, False, False, False, False, False, False,\n",
       "                    False, False, False, False, False, False, False, False,\n",
       "                    False, False, False, False, False, False, False, False,\n",
       "                    False, False, False, False, False, False, False, False,\n",
       "                    False, False, False, False, False, False, False, False,\n",
       "                    False, False, False, False, False, False, False, False,\n",
       "                    False, False, False, False, False, False, False, False,\n",
       "                    False, False, False, False, False, False, False, False,\n",
       "                    False, False, False, False],\n",
       "        fill_value='?',\n",
       "             dtype=object),\n",
       " 'param_max_features': masked_array(data=['auto', 'auto', 'auto', 'auto', 'auto', 'auto', 'auto',\n",
       "                    'auto', 'auto', 'auto', 'auto', 'auto', 'auto', 'auto',\n",
       "                    'auto', 'auto', 'auto', 'auto', 'auto', 'auto', 'auto',\n",
       "                    'auto', 'auto', 'auto', 'auto', 'auto', 'auto', 'auto',\n",
       "                    'auto', 'auto', 'auto', 'auto', 'auto', 'auto', 'auto',\n",
       "                    'auto', 'auto', 'auto', 'auto', 'auto', 'auto', 'auto',\n",
       "                    'auto', 'auto', 'auto', 'auto', 'auto', 'auto', 'auto',\n",
       "                    'auto', 'auto', 'auto', 'auto', 'auto', 'auto', 'auto',\n",
       "                    'auto', 'auto', 'auto', 'auto', 'auto', 'auto', 'auto',\n",
       "                    'auto', 'auto', 'auto', 'auto', 'auto', 'auto', 'auto',\n",
       "                    'auto', 'auto', 'auto', 'auto', 'auto', 'auto', 'auto',\n",
       "                    'auto', 'auto', 'auto', 'auto', 'auto', 'auto', 'auto',\n",
       "                    'auto', 'auto', 'auto', 'auto', 'auto', 'auto', 'auto',\n",
       "                    'auto', 'auto', 'auto', 'auto', 'auto', 'auto', 'auto',\n",
       "                    'auto', 'auto', 'auto', 'auto', 'auto', 'auto', 'auto',\n",
       "                    'auto', 'auto', 'auto', 'auto', 'auto', 'auto', 'auto',\n",
       "                    'auto', 'auto', 'auto', 'auto', 'auto', 'auto', 'auto',\n",
       "                    'auto', 'auto', 'auto', 'auto', 'auto', 'auto', 'auto',\n",
       "                    'auto', 'auto', 'auto', 'auto', 'auto', 'auto', 'auto',\n",
       "                    'auto', 'auto', 'auto', 'auto', 'auto', 'auto', 'auto',\n",
       "                    'auto', 'auto', 'auto', 'auto', 'auto', 'auto', 'auto',\n",
       "                    'auto', 'auto', 'auto', 'auto', 'auto', 'auto', 'auto',\n",
       "                    'auto', 'auto', 'auto', 'auto', 'auto', 'auto', 'auto',\n",
       "                    'auto', 'auto', 'auto', 'auto', 'auto', 'auto', 'auto',\n",
       "                    'auto', 'auto', 'auto', 'auto', 'auto', 'auto', 'auto',\n",
       "                    'auto', 'auto', 'auto', 'auto', 'auto'],\n",
       "              mask=[False, False, False, False, False, False, False, False,\n",
       "                    False, False, False, False, False, False, False, False,\n",
       "                    False, False, False, False, False, False, False, False,\n",
       "                    False, False, False, False, False, False, False, False,\n",
       "                    False, False, False, False, False, False, False, False,\n",
       "                    False, False, False, False, False, False, False, False,\n",
       "                    False, False, False, False, False, False, False, False,\n",
       "                    False, False, False, False, False, False, False, False,\n",
       "                    False, False, False, False, False, False, False, False,\n",
       "                    False, False, False, False, False, False, False, False,\n",
       "                    False, False, False, False, False, False, False, False,\n",
       "                    False, False, False, False, False, False, False, False,\n",
       "                    False, False, False, False, False, False, False, False,\n",
       "                    False, False, False, False, False, False, False, False,\n",
       "                    False, False, False, False, False, False, False, False,\n",
       "                    False, False, False, False, False, False, False, False,\n",
       "                    False, False, False, False, False, False, False, False,\n",
       "                    False, False, False, False, False, False, False, False,\n",
       "                    False, False, False, False, False, False, False, False,\n",
       "                    False, False, False, False, False, False, False, False,\n",
       "                    False, False, False, False, False, False, False, False,\n",
       "                    False, False, False, False, False, False, False, False,\n",
       "                    False, False, False, False],\n",
       "        fill_value='?',\n",
       "             dtype=object),\n",
       " 'param_min_samples_leaf': masked_array(data=[1, 1, 1, 1, 1, 1, 1, 1, 1, 1, 1, 1, 2, 2, 2, 2, 2, 2,\n",
       "                    2, 2, 2, 2, 2, 2, 4, 4, 4, 4, 4, 4, 4, 4, 4, 4, 4, 4,\n",
       "                    1, 1, 1, 1, 1, 1, 1, 1, 1, 1, 1, 1, 2, 2, 2, 2, 2, 2,\n",
       "                    2, 2, 2, 2, 2, 2, 4, 4, 4, 4, 4, 4, 4, 4, 4, 4, 4, 4,\n",
       "                    1, 1, 1, 1, 1, 1, 1, 1, 1, 1, 1, 1, 2, 2, 2, 2, 2, 2,\n",
       "                    2, 2, 2, 2, 2, 2, 4, 4, 4, 4, 4, 4, 4, 4, 4, 4, 4, 4,\n",
       "                    1, 1, 1, 1, 1, 1, 1, 1, 1, 1, 1, 1, 2, 2, 2, 2, 2, 2,\n",
       "                    2, 2, 2, 2, 2, 2, 4, 4, 4, 4, 4, 4, 4, 4, 4, 4, 4, 4,\n",
       "                    1, 1, 1, 1, 1, 1, 1, 1, 1, 1, 1, 1, 2, 2, 2, 2, 2, 2,\n",
       "                    2, 2, 2, 2, 2, 2, 4, 4, 4, 4, 4, 4, 4, 4, 4, 4, 4, 4],\n",
       "              mask=[False, False, False, False, False, False, False, False,\n",
       "                    False, False, False, False, False, False, False, False,\n",
       "                    False, False, False, False, False, False, False, False,\n",
       "                    False, False, False, False, False, False, False, False,\n",
       "                    False, False, False, False, False, False, False, False,\n",
       "                    False, False, False, False, False, False, False, False,\n",
       "                    False, False, False, False, False, False, False, False,\n",
       "                    False, False, False, False, False, False, False, False,\n",
       "                    False, False, False, False, False, False, False, False,\n",
       "                    False, False, False, False, False, False, False, False,\n",
       "                    False, False, False, False, False, False, False, False,\n",
       "                    False, False, False, False, False, False, False, False,\n",
       "                    False, False, False, False, False, False, False, False,\n",
       "                    False, False, False, False, False, False, False, False,\n",
       "                    False, False, False, False, False, False, False, False,\n",
       "                    False, False, False, False, False, False, False, False,\n",
       "                    False, False, False, False, False, False, False, False,\n",
       "                    False, False, False, False, False, False, False, False,\n",
       "                    False, False, False, False, False, False, False, False,\n",
       "                    False, False, False, False, False, False, False, False,\n",
       "                    False, False, False, False, False, False, False, False,\n",
       "                    False, False, False, False, False, False, False, False,\n",
       "                    False, False, False, False],\n",
       "        fill_value='?',\n",
       "             dtype=object),\n",
       " 'param_min_samples_split': masked_array(data=[2, 2, 2, 2, 5, 5, 5, 5, 10, 10, 10, 10, 2, 2, 2, 2, 5,\n",
       "                    5, 5, 5, 10, 10, 10, 10, 2, 2, 2, 2, 5, 5, 5, 5, 10,\n",
       "                    10, 10, 10, 2, 2, 2, 2, 5, 5, 5, 5, 10, 10, 10, 10, 2,\n",
       "                    2, 2, 2, 5, 5, 5, 5, 10, 10, 10, 10, 2, 2, 2, 2, 5, 5,\n",
       "                    5, 5, 10, 10, 10, 10, 2, 2, 2, 2, 5, 5, 5, 5, 10, 10,\n",
       "                    10, 10, 2, 2, 2, 2, 5, 5, 5, 5, 10, 10, 10, 10, 2, 2,\n",
       "                    2, 2, 5, 5, 5, 5, 10, 10, 10, 10, 2, 2, 2, 2, 5, 5, 5,\n",
       "                    5, 10, 10, 10, 10, 2, 2, 2, 2, 5, 5, 5, 5, 10, 10, 10,\n",
       "                    10, 2, 2, 2, 2, 5, 5, 5, 5, 10, 10, 10, 10, 2, 2, 2, 2,\n",
       "                    5, 5, 5, 5, 10, 10, 10, 10, 2, 2, 2, 2, 5, 5, 5, 5, 10,\n",
       "                    10, 10, 10, 2, 2, 2, 2, 5, 5, 5, 5, 10, 10, 10, 10],\n",
       "              mask=[False, False, False, False, False, False, False, False,\n",
       "                    False, False, False, False, False, False, False, False,\n",
       "                    False, False, False, False, False, False, False, False,\n",
       "                    False, False, False, False, False, False, False, False,\n",
       "                    False, False, False, False, False, False, False, False,\n",
       "                    False, False, False, False, False, False, False, False,\n",
       "                    False, False, False, False, False, False, False, False,\n",
       "                    False, False, False, False, False, False, False, False,\n",
       "                    False, False, False, False, False, False, False, False,\n",
       "                    False, False, False, False, False, False, False, False,\n",
       "                    False, False, False, False, False, False, False, False,\n",
       "                    False, False, False, False, False, False, False, False,\n",
       "                    False, False, False, False, False, False, False, False,\n",
       "                    False, False, False, False, False, False, False, False,\n",
       "                    False, False, False, False, False, False, False, False,\n",
       "                    False, False, False, False, False, False, False, False,\n",
       "                    False, False, False, False, False, False, False, False,\n",
       "                    False, False, False, False, False, False, False, False,\n",
       "                    False, False, False, False, False, False, False, False,\n",
       "                    False, False, False, False, False, False, False, False,\n",
       "                    False, False, False, False, False, False, False, False,\n",
       "                    False, False, False, False, False, False, False, False,\n",
       "                    False, False, False, False],\n",
       "        fill_value='?',\n",
       "             dtype=object),\n",
       " 'param_n_estimators': masked_array(data=[50, 100, 200, 400, 50, 100, 200, 400, 50, 100, 200,\n",
       "                    400, 50, 100, 200, 400, 50, 100, 200, 400, 50, 100,\n",
       "                    200, 400, 50, 100, 200, 400, 50, 100, 200, 400, 50,\n",
       "                    100, 200, 400, 50, 100, 200, 400, 50, 100, 200, 400,\n",
       "                    50, 100, 200, 400, 50, 100, 200, 400, 50, 100, 200,\n",
       "                    400, 50, 100, 200, 400, 50, 100, 200, 400, 50, 100,\n",
       "                    200, 400, 50, 100, 200, 400, 50, 100, 200, 400, 50,\n",
       "                    100, 200, 400, 50, 100, 200, 400, 50, 100, 200, 400,\n",
       "                    50, 100, 200, 400, 50, 100, 200, 400, 50, 100, 200,\n",
       "                    400, 50, 100, 200, 400, 50, 100, 200, 400, 50, 100,\n",
       "                    200, 400, 50, 100, 200, 400, 50, 100, 200, 400, 50,\n",
       "                    100, 200, 400, 50, 100, 200, 400, 50, 100, 200, 400,\n",
       "                    50, 100, 200, 400, 50, 100, 200, 400, 50, 100, 200,\n",
       "                    400, 50, 100, 200, 400, 50, 100, 200, 400, 50, 100,\n",
       "                    200, 400, 50, 100, 200, 400, 50, 100, 200, 400, 50,\n",
       "                    100, 200, 400, 50, 100, 200, 400, 50, 100, 200, 400,\n",
       "                    50, 100, 200, 400],\n",
       "              mask=[False, False, False, False, False, False, False, False,\n",
       "                    False, False, False, False, False, False, False, False,\n",
       "                    False, False, False, False, False, False, False, False,\n",
       "                    False, False, False, False, False, False, False, False,\n",
       "                    False, False, False, False, False, False, False, False,\n",
       "                    False, False, False, False, False, False, False, False,\n",
       "                    False, False, False, False, False, False, False, False,\n",
       "                    False, False, False, False, False, False, False, False,\n",
       "                    False, False, False, False, False, False, False, False,\n",
       "                    False, False, False, False, False, False, False, False,\n",
       "                    False, False, False, False, False, False, False, False,\n",
       "                    False, False, False, False, False, False, False, False,\n",
       "                    False, False, False, False, False, False, False, False,\n",
       "                    False, False, False, False, False, False, False, False,\n",
       "                    False, False, False, False, False, False, False, False,\n",
       "                    False, False, False, False, False, False, False, False,\n",
       "                    False, False, False, False, False, False, False, False,\n",
       "                    False, False, False, False, False, False, False, False,\n",
       "                    False, False, False, False, False, False, False, False,\n",
       "                    False, False, False, False, False, False, False, False,\n",
       "                    False, False, False, False, False, False, False, False,\n",
       "                    False, False, False, False, False, False, False, False,\n",
       "                    False, False, False, False],\n",
       "        fill_value='?',\n",
       "             dtype=object),\n",
       " 'params': [{'bootstrap': True,\n",
       "   'max_depth': 5,\n",
       "   'max_features': 'auto',\n",
       "   'min_samples_leaf': 1,\n",
       "   'min_samples_split': 2,\n",
       "   'n_estimators': 50},\n",
       "  {'bootstrap': True,\n",
       "   'max_depth': 5,\n",
       "   'max_features': 'auto',\n",
       "   'min_samples_leaf': 1,\n",
       "   'min_samples_split': 2,\n",
       "   'n_estimators': 100},\n",
       "  {'bootstrap': True,\n",
       "   'max_depth': 5,\n",
       "   'max_features': 'auto',\n",
       "   'min_samples_leaf': 1,\n",
       "   'min_samples_split': 2,\n",
       "   'n_estimators': 200},\n",
       "  {'bootstrap': True,\n",
       "   'max_depth': 5,\n",
       "   'max_features': 'auto',\n",
       "   'min_samples_leaf': 1,\n",
       "   'min_samples_split': 2,\n",
       "   'n_estimators': 400},\n",
       "  {'bootstrap': True,\n",
       "   'max_depth': 5,\n",
       "   'max_features': 'auto',\n",
       "   'min_samples_leaf': 1,\n",
       "   'min_samples_split': 5,\n",
       "   'n_estimators': 50},\n",
       "  {'bootstrap': True,\n",
       "   'max_depth': 5,\n",
       "   'max_features': 'auto',\n",
       "   'min_samples_leaf': 1,\n",
       "   'min_samples_split': 5,\n",
       "   'n_estimators': 100},\n",
       "  {'bootstrap': True,\n",
       "   'max_depth': 5,\n",
       "   'max_features': 'auto',\n",
       "   'min_samples_leaf': 1,\n",
       "   'min_samples_split': 5,\n",
       "   'n_estimators': 200},\n",
       "  {'bootstrap': True,\n",
       "   'max_depth': 5,\n",
       "   'max_features': 'auto',\n",
       "   'min_samples_leaf': 1,\n",
       "   'min_samples_split': 5,\n",
       "   'n_estimators': 400},\n",
       "  {'bootstrap': True,\n",
       "   'max_depth': 5,\n",
       "   'max_features': 'auto',\n",
       "   'min_samples_leaf': 1,\n",
       "   'min_samples_split': 10,\n",
       "   'n_estimators': 50},\n",
       "  {'bootstrap': True,\n",
       "   'max_depth': 5,\n",
       "   'max_features': 'auto',\n",
       "   'min_samples_leaf': 1,\n",
       "   'min_samples_split': 10,\n",
       "   'n_estimators': 100},\n",
       "  {'bootstrap': True,\n",
       "   'max_depth': 5,\n",
       "   'max_features': 'auto',\n",
       "   'min_samples_leaf': 1,\n",
       "   'min_samples_split': 10,\n",
       "   'n_estimators': 200},\n",
       "  {'bootstrap': True,\n",
       "   'max_depth': 5,\n",
       "   'max_features': 'auto',\n",
       "   'min_samples_leaf': 1,\n",
       "   'min_samples_split': 10,\n",
       "   'n_estimators': 400},\n",
       "  {'bootstrap': True,\n",
       "   'max_depth': 5,\n",
       "   'max_features': 'auto',\n",
       "   'min_samples_leaf': 2,\n",
       "   'min_samples_split': 2,\n",
       "   'n_estimators': 50},\n",
       "  {'bootstrap': True,\n",
       "   'max_depth': 5,\n",
       "   'max_features': 'auto',\n",
       "   'min_samples_leaf': 2,\n",
       "   'min_samples_split': 2,\n",
       "   'n_estimators': 100},\n",
       "  {'bootstrap': True,\n",
       "   'max_depth': 5,\n",
       "   'max_features': 'auto',\n",
       "   'min_samples_leaf': 2,\n",
       "   'min_samples_split': 2,\n",
       "   'n_estimators': 200},\n",
       "  {'bootstrap': True,\n",
       "   'max_depth': 5,\n",
       "   'max_features': 'auto',\n",
       "   'min_samples_leaf': 2,\n",
       "   'min_samples_split': 2,\n",
       "   'n_estimators': 400},\n",
       "  {'bootstrap': True,\n",
       "   'max_depth': 5,\n",
       "   'max_features': 'auto',\n",
       "   'min_samples_leaf': 2,\n",
       "   'min_samples_split': 5,\n",
       "   'n_estimators': 50},\n",
       "  {'bootstrap': True,\n",
       "   'max_depth': 5,\n",
       "   'max_features': 'auto',\n",
       "   'min_samples_leaf': 2,\n",
       "   'min_samples_split': 5,\n",
       "   'n_estimators': 100},\n",
       "  {'bootstrap': True,\n",
       "   'max_depth': 5,\n",
       "   'max_features': 'auto',\n",
       "   'min_samples_leaf': 2,\n",
       "   'min_samples_split': 5,\n",
       "   'n_estimators': 200},\n",
       "  {'bootstrap': True,\n",
       "   'max_depth': 5,\n",
       "   'max_features': 'auto',\n",
       "   'min_samples_leaf': 2,\n",
       "   'min_samples_split': 5,\n",
       "   'n_estimators': 400},\n",
       "  {'bootstrap': True,\n",
       "   'max_depth': 5,\n",
       "   'max_features': 'auto',\n",
       "   'min_samples_leaf': 2,\n",
       "   'min_samples_split': 10,\n",
       "   'n_estimators': 50},\n",
       "  {'bootstrap': True,\n",
       "   'max_depth': 5,\n",
       "   'max_features': 'auto',\n",
       "   'min_samples_leaf': 2,\n",
       "   'min_samples_split': 10,\n",
       "   'n_estimators': 100},\n",
       "  {'bootstrap': True,\n",
       "   'max_depth': 5,\n",
       "   'max_features': 'auto',\n",
       "   'min_samples_leaf': 2,\n",
       "   'min_samples_split': 10,\n",
       "   'n_estimators': 200},\n",
       "  {'bootstrap': True,\n",
       "   'max_depth': 5,\n",
       "   'max_features': 'auto',\n",
       "   'min_samples_leaf': 2,\n",
       "   'min_samples_split': 10,\n",
       "   'n_estimators': 400},\n",
       "  {'bootstrap': True,\n",
       "   'max_depth': 5,\n",
       "   'max_features': 'auto',\n",
       "   'min_samples_leaf': 4,\n",
       "   'min_samples_split': 2,\n",
       "   'n_estimators': 50},\n",
       "  {'bootstrap': True,\n",
       "   'max_depth': 5,\n",
       "   'max_features': 'auto',\n",
       "   'min_samples_leaf': 4,\n",
       "   'min_samples_split': 2,\n",
       "   'n_estimators': 100},\n",
       "  {'bootstrap': True,\n",
       "   'max_depth': 5,\n",
       "   'max_features': 'auto',\n",
       "   'min_samples_leaf': 4,\n",
       "   'min_samples_split': 2,\n",
       "   'n_estimators': 200},\n",
       "  {'bootstrap': True,\n",
       "   'max_depth': 5,\n",
       "   'max_features': 'auto',\n",
       "   'min_samples_leaf': 4,\n",
       "   'min_samples_split': 2,\n",
       "   'n_estimators': 400},\n",
       "  {'bootstrap': True,\n",
       "   'max_depth': 5,\n",
       "   'max_features': 'auto',\n",
       "   'min_samples_leaf': 4,\n",
       "   'min_samples_split': 5,\n",
       "   'n_estimators': 50},\n",
       "  {'bootstrap': True,\n",
       "   'max_depth': 5,\n",
       "   'max_features': 'auto',\n",
       "   'min_samples_leaf': 4,\n",
       "   'min_samples_split': 5,\n",
       "   'n_estimators': 100},\n",
       "  {'bootstrap': True,\n",
       "   'max_depth': 5,\n",
       "   'max_features': 'auto',\n",
       "   'min_samples_leaf': 4,\n",
       "   'min_samples_split': 5,\n",
       "   'n_estimators': 200},\n",
       "  {'bootstrap': True,\n",
       "   'max_depth': 5,\n",
       "   'max_features': 'auto',\n",
       "   'min_samples_leaf': 4,\n",
       "   'min_samples_split': 5,\n",
       "   'n_estimators': 400},\n",
       "  {'bootstrap': True,\n",
       "   'max_depth': 5,\n",
       "   'max_features': 'auto',\n",
       "   'min_samples_leaf': 4,\n",
       "   'min_samples_split': 10,\n",
       "   'n_estimators': 50},\n",
       "  {'bootstrap': True,\n",
       "   'max_depth': 5,\n",
       "   'max_features': 'auto',\n",
       "   'min_samples_leaf': 4,\n",
       "   'min_samples_split': 10,\n",
       "   'n_estimators': 100},\n",
       "  {'bootstrap': True,\n",
       "   'max_depth': 5,\n",
       "   'max_features': 'auto',\n",
       "   'min_samples_leaf': 4,\n",
       "   'min_samples_split': 10,\n",
       "   'n_estimators': 200},\n",
       "  {'bootstrap': True,\n",
       "   'max_depth': 5,\n",
       "   'max_features': 'auto',\n",
       "   'min_samples_leaf': 4,\n",
       "   'min_samples_split': 10,\n",
       "   'n_estimators': 400},\n",
       "  {'bootstrap': True,\n",
       "   'max_depth': 10,\n",
       "   'max_features': 'auto',\n",
       "   'min_samples_leaf': 1,\n",
       "   'min_samples_split': 2,\n",
       "   'n_estimators': 50},\n",
       "  {'bootstrap': True,\n",
       "   'max_depth': 10,\n",
       "   'max_features': 'auto',\n",
       "   'min_samples_leaf': 1,\n",
       "   'min_samples_split': 2,\n",
       "   'n_estimators': 100},\n",
       "  {'bootstrap': True,\n",
       "   'max_depth': 10,\n",
       "   'max_features': 'auto',\n",
       "   'min_samples_leaf': 1,\n",
       "   'min_samples_split': 2,\n",
       "   'n_estimators': 200},\n",
       "  {'bootstrap': True,\n",
       "   'max_depth': 10,\n",
       "   'max_features': 'auto',\n",
       "   'min_samples_leaf': 1,\n",
       "   'min_samples_split': 2,\n",
       "   'n_estimators': 400},\n",
       "  {'bootstrap': True,\n",
       "   'max_depth': 10,\n",
       "   'max_features': 'auto',\n",
       "   'min_samples_leaf': 1,\n",
       "   'min_samples_split': 5,\n",
       "   'n_estimators': 50},\n",
       "  {'bootstrap': True,\n",
       "   'max_depth': 10,\n",
       "   'max_features': 'auto',\n",
       "   'min_samples_leaf': 1,\n",
       "   'min_samples_split': 5,\n",
       "   'n_estimators': 100},\n",
       "  {'bootstrap': True,\n",
       "   'max_depth': 10,\n",
       "   'max_features': 'auto',\n",
       "   'min_samples_leaf': 1,\n",
       "   'min_samples_split': 5,\n",
       "   'n_estimators': 200},\n",
       "  {'bootstrap': True,\n",
       "   'max_depth': 10,\n",
       "   'max_features': 'auto',\n",
       "   'min_samples_leaf': 1,\n",
       "   'min_samples_split': 5,\n",
       "   'n_estimators': 400},\n",
       "  {'bootstrap': True,\n",
       "   'max_depth': 10,\n",
       "   'max_features': 'auto',\n",
       "   'min_samples_leaf': 1,\n",
       "   'min_samples_split': 10,\n",
       "   'n_estimators': 50},\n",
       "  {'bootstrap': True,\n",
       "   'max_depth': 10,\n",
       "   'max_features': 'auto',\n",
       "   'min_samples_leaf': 1,\n",
       "   'min_samples_split': 10,\n",
       "   'n_estimators': 100},\n",
       "  {'bootstrap': True,\n",
       "   'max_depth': 10,\n",
       "   'max_features': 'auto',\n",
       "   'min_samples_leaf': 1,\n",
       "   'min_samples_split': 10,\n",
       "   'n_estimators': 200},\n",
       "  {'bootstrap': True,\n",
       "   'max_depth': 10,\n",
       "   'max_features': 'auto',\n",
       "   'min_samples_leaf': 1,\n",
       "   'min_samples_split': 10,\n",
       "   'n_estimators': 400},\n",
       "  {'bootstrap': True,\n",
       "   'max_depth': 10,\n",
       "   'max_features': 'auto',\n",
       "   'min_samples_leaf': 2,\n",
       "   'min_samples_split': 2,\n",
       "   'n_estimators': 50},\n",
       "  {'bootstrap': True,\n",
       "   'max_depth': 10,\n",
       "   'max_features': 'auto',\n",
       "   'min_samples_leaf': 2,\n",
       "   'min_samples_split': 2,\n",
       "   'n_estimators': 100},\n",
       "  {'bootstrap': True,\n",
       "   'max_depth': 10,\n",
       "   'max_features': 'auto',\n",
       "   'min_samples_leaf': 2,\n",
       "   'min_samples_split': 2,\n",
       "   'n_estimators': 200},\n",
       "  {'bootstrap': True,\n",
       "   'max_depth': 10,\n",
       "   'max_features': 'auto',\n",
       "   'min_samples_leaf': 2,\n",
       "   'min_samples_split': 2,\n",
       "   'n_estimators': 400},\n",
       "  {'bootstrap': True,\n",
       "   'max_depth': 10,\n",
       "   'max_features': 'auto',\n",
       "   'min_samples_leaf': 2,\n",
       "   'min_samples_split': 5,\n",
       "   'n_estimators': 50},\n",
       "  {'bootstrap': True,\n",
       "   'max_depth': 10,\n",
       "   'max_features': 'auto',\n",
       "   'min_samples_leaf': 2,\n",
       "   'min_samples_split': 5,\n",
       "   'n_estimators': 100},\n",
       "  {'bootstrap': True,\n",
       "   'max_depth': 10,\n",
       "   'max_features': 'auto',\n",
       "   'min_samples_leaf': 2,\n",
       "   'min_samples_split': 5,\n",
       "   'n_estimators': 200},\n",
       "  {'bootstrap': True,\n",
       "   'max_depth': 10,\n",
       "   'max_features': 'auto',\n",
       "   'min_samples_leaf': 2,\n",
       "   'min_samples_split': 5,\n",
       "   'n_estimators': 400},\n",
       "  {'bootstrap': True,\n",
       "   'max_depth': 10,\n",
       "   'max_features': 'auto',\n",
       "   'min_samples_leaf': 2,\n",
       "   'min_samples_split': 10,\n",
       "   'n_estimators': 50},\n",
       "  {'bootstrap': True,\n",
       "   'max_depth': 10,\n",
       "   'max_features': 'auto',\n",
       "   'min_samples_leaf': 2,\n",
       "   'min_samples_split': 10,\n",
       "   'n_estimators': 100},\n",
       "  {'bootstrap': True,\n",
       "   'max_depth': 10,\n",
       "   'max_features': 'auto',\n",
       "   'min_samples_leaf': 2,\n",
       "   'min_samples_split': 10,\n",
       "   'n_estimators': 200},\n",
       "  {'bootstrap': True,\n",
       "   'max_depth': 10,\n",
       "   'max_features': 'auto',\n",
       "   'min_samples_leaf': 2,\n",
       "   'min_samples_split': 10,\n",
       "   'n_estimators': 400},\n",
       "  {'bootstrap': True,\n",
       "   'max_depth': 10,\n",
       "   'max_features': 'auto',\n",
       "   'min_samples_leaf': 4,\n",
       "   'min_samples_split': 2,\n",
       "   'n_estimators': 50},\n",
       "  {'bootstrap': True,\n",
       "   'max_depth': 10,\n",
       "   'max_features': 'auto',\n",
       "   'min_samples_leaf': 4,\n",
       "   'min_samples_split': 2,\n",
       "   'n_estimators': 100},\n",
       "  {'bootstrap': True,\n",
       "   'max_depth': 10,\n",
       "   'max_features': 'auto',\n",
       "   'min_samples_leaf': 4,\n",
       "   'min_samples_split': 2,\n",
       "   'n_estimators': 200},\n",
       "  {'bootstrap': True,\n",
       "   'max_depth': 10,\n",
       "   'max_features': 'auto',\n",
       "   'min_samples_leaf': 4,\n",
       "   'min_samples_split': 2,\n",
       "   'n_estimators': 400},\n",
       "  {'bootstrap': True,\n",
       "   'max_depth': 10,\n",
       "   'max_features': 'auto',\n",
       "   'min_samples_leaf': 4,\n",
       "   'min_samples_split': 5,\n",
       "   'n_estimators': 50},\n",
       "  {'bootstrap': True,\n",
       "   'max_depth': 10,\n",
       "   'max_features': 'auto',\n",
       "   'min_samples_leaf': 4,\n",
       "   'min_samples_split': 5,\n",
       "   'n_estimators': 100},\n",
       "  {'bootstrap': True,\n",
       "   'max_depth': 10,\n",
       "   'max_features': 'auto',\n",
       "   'min_samples_leaf': 4,\n",
       "   'min_samples_split': 5,\n",
       "   'n_estimators': 200},\n",
       "  {'bootstrap': True,\n",
       "   'max_depth': 10,\n",
       "   'max_features': 'auto',\n",
       "   'min_samples_leaf': 4,\n",
       "   'min_samples_split': 5,\n",
       "   'n_estimators': 400},\n",
       "  {'bootstrap': True,\n",
       "   'max_depth': 10,\n",
       "   'max_features': 'auto',\n",
       "   'min_samples_leaf': 4,\n",
       "   'min_samples_split': 10,\n",
       "   'n_estimators': 50},\n",
       "  {'bootstrap': True,\n",
       "   'max_depth': 10,\n",
       "   'max_features': 'auto',\n",
       "   'min_samples_leaf': 4,\n",
       "   'min_samples_split': 10,\n",
       "   'n_estimators': 100},\n",
       "  {'bootstrap': True,\n",
       "   'max_depth': 10,\n",
       "   'max_features': 'auto',\n",
       "   'min_samples_leaf': 4,\n",
       "   'min_samples_split': 10,\n",
       "   'n_estimators': 200},\n",
       "  {'bootstrap': True,\n",
       "   'max_depth': 10,\n",
       "   'max_features': 'auto',\n",
       "   'min_samples_leaf': 4,\n",
       "   'min_samples_split': 10,\n",
       "   'n_estimators': 400},\n",
       "  {'bootstrap': True,\n",
       "   'max_depth': 20,\n",
       "   'max_features': 'auto',\n",
       "   'min_samples_leaf': 1,\n",
       "   'min_samples_split': 2,\n",
       "   'n_estimators': 50},\n",
       "  {'bootstrap': True,\n",
       "   'max_depth': 20,\n",
       "   'max_features': 'auto',\n",
       "   'min_samples_leaf': 1,\n",
       "   'min_samples_split': 2,\n",
       "   'n_estimators': 100},\n",
       "  {'bootstrap': True,\n",
       "   'max_depth': 20,\n",
       "   'max_features': 'auto',\n",
       "   'min_samples_leaf': 1,\n",
       "   'min_samples_split': 2,\n",
       "   'n_estimators': 200},\n",
       "  {'bootstrap': True,\n",
       "   'max_depth': 20,\n",
       "   'max_features': 'auto',\n",
       "   'min_samples_leaf': 1,\n",
       "   'min_samples_split': 2,\n",
       "   'n_estimators': 400},\n",
       "  {'bootstrap': True,\n",
       "   'max_depth': 20,\n",
       "   'max_features': 'auto',\n",
       "   'min_samples_leaf': 1,\n",
       "   'min_samples_split': 5,\n",
       "   'n_estimators': 50},\n",
       "  {'bootstrap': True,\n",
       "   'max_depth': 20,\n",
       "   'max_features': 'auto',\n",
       "   'min_samples_leaf': 1,\n",
       "   'min_samples_split': 5,\n",
       "   'n_estimators': 100},\n",
       "  {'bootstrap': True,\n",
       "   'max_depth': 20,\n",
       "   'max_features': 'auto',\n",
       "   'min_samples_leaf': 1,\n",
       "   'min_samples_split': 5,\n",
       "   'n_estimators': 200},\n",
       "  {'bootstrap': True,\n",
       "   'max_depth': 20,\n",
       "   'max_features': 'auto',\n",
       "   'min_samples_leaf': 1,\n",
       "   'min_samples_split': 5,\n",
       "   'n_estimators': 400},\n",
       "  {'bootstrap': True,\n",
       "   'max_depth': 20,\n",
       "   'max_features': 'auto',\n",
       "   'min_samples_leaf': 1,\n",
       "   'min_samples_split': 10,\n",
       "   'n_estimators': 50},\n",
       "  {'bootstrap': True,\n",
       "   'max_depth': 20,\n",
       "   'max_features': 'auto',\n",
       "   'min_samples_leaf': 1,\n",
       "   'min_samples_split': 10,\n",
       "   'n_estimators': 100},\n",
       "  {'bootstrap': True,\n",
       "   'max_depth': 20,\n",
       "   'max_features': 'auto',\n",
       "   'min_samples_leaf': 1,\n",
       "   'min_samples_split': 10,\n",
       "   'n_estimators': 200},\n",
       "  {'bootstrap': True,\n",
       "   'max_depth': 20,\n",
       "   'max_features': 'auto',\n",
       "   'min_samples_leaf': 1,\n",
       "   'min_samples_split': 10,\n",
       "   'n_estimators': 400},\n",
       "  {'bootstrap': True,\n",
       "   'max_depth': 20,\n",
       "   'max_features': 'auto',\n",
       "   'min_samples_leaf': 2,\n",
       "   'min_samples_split': 2,\n",
       "   'n_estimators': 50},\n",
       "  {'bootstrap': True,\n",
       "   'max_depth': 20,\n",
       "   'max_features': 'auto',\n",
       "   'min_samples_leaf': 2,\n",
       "   'min_samples_split': 2,\n",
       "   'n_estimators': 100},\n",
       "  {'bootstrap': True,\n",
       "   'max_depth': 20,\n",
       "   'max_features': 'auto',\n",
       "   'min_samples_leaf': 2,\n",
       "   'min_samples_split': 2,\n",
       "   'n_estimators': 200},\n",
       "  {'bootstrap': True,\n",
       "   'max_depth': 20,\n",
       "   'max_features': 'auto',\n",
       "   'min_samples_leaf': 2,\n",
       "   'min_samples_split': 2,\n",
       "   'n_estimators': 400},\n",
       "  {'bootstrap': True,\n",
       "   'max_depth': 20,\n",
       "   'max_features': 'auto',\n",
       "   'min_samples_leaf': 2,\n",
       "   'min_samples_split': 5,\n",
       "   'n_estimators': 50},\n",
       "  {'bootstrap': True,\n",
       "   'max_depth': 20,\n",
       "   'max_features': 'auto',\n",
       "   'min_samples_leaf': 2,\n",
       "   'min_samples_split': 5,\n",
       "   'n_estimators': 100},\n",
       "  {'bootstrap': True,\n",
       "   'max_depth': 20,\n",
       "   'max_features': 'auto',\n",
       "   'min_samples_leaf': 2,\n",
       "   'min_samples_split': 5,\n",
       "   'n_estimators': 200},\n",
       "  {'bootstrap': True,\n",
       "   'max_depth': 20,\n",
       "   'max_features': 'auto',\n",
       "   'min_samples_leaf': 2,\n",
       "   'min_samples_split': 5,\n",
       "   'n_estimators': 400},\n",
       "  {'bootstrap': True,\n",
       "   'max_depth': 20,\n",
       "   'max_features': 'auto',\n",
       "   'min_samples_leaf': 2,\n",
       "   'min_samples_split': 10,\n",
       "   'n_estimators': 50},\n",
       "  {'bootstrap': True,\n",
       "   'max_depth': 20,\n",
       "   'max_features': 'auto',\n",
       "   'min_samples_leaf': 2,\n",
       "   'min_samples_split': 10,\n",
       "   'n_estimators': 100},\n",
       "  {'bootstrap': True,\n",
       "   'max_depth': 20,\n",
       "   'max_features': 'auto',\n",
       "   'min_samples_leaf': 2,\n",
       "   'min_samples_split': 10,\n",
       "   'n_estimators': 200},\n",
       "  {'bootstrap': True,\n",
       "   'max_depth': 20,\n",
       "   'max_features': 'auto',\n",
       "   'min_samples_leaf': 2,\n",
       "   'min_samples_split': 10,\n",
       "   'n_estimators': 400},\n",
       "  {'bootstrap': True,\n",
       "   'max_depth': 20,\n",
       "   'max_features': 'auto',\n",
       "   'min_samples_leaf': 4,\n",
       "   'min_samples_split': 2,\n",
       "   'n_estimators': 50},\n",
       "  {'bootstrap': True,\n",
       "   'max_depth': 20,\n",
       "   'max_features': 'auto',\n",
       "   'min_samples_leaf': 4,\n",
       "   'min_samples_split': 2,\n",
       "   'n_estimators': 100},\n",
       "  {'bootstrap': True,\n",
       "   'max_depth': 20,\n",
       "   'max_features': 'auto',\n",
       "   'min_samples_leaf': 4,\n",
       "   'min_samples_split': 2,\n",
       "   'n_estimators': 200},\n",
       "  {'bootstrap': True,\n",
       "   'max_depth': 20,\n",
       "   'max_features': 'auto',\n",
       "   'min_samples_leaf': 4,\n",
       "   'min_samples_split': 2,\n",
       "   'n_estimators': 400},\n",
       "  {'bootstrap': True,\n",
       "   'max_depth': 20,\n",
       "   'max_features': 'auto',\n",
       "   'min_samples_leaf': 4,\n",
       "   'min_samples_split': 5,\n",
       "   'n_estimators': 50},\n",
       "  {'bootstrap': True,\n",
       "   'max_depth': 20,\n",
       "   'max_features': 'auto',\n",
       "   'min_samples_leaf': 4,\n",
       "   'min_samples_split': 5,\n",
       "   'n_estimators': 100},\n",
       "  {'bootstrap': True,\n",
       "   'max_depth': 20,\n",
       "   'max_features': 'auto',\n",
       "   'min_samples_leaf': 4,\n",
       "   'min_samples_split': 5,\n",
       "   'n_estimators': 200},\n",
       "  {'bootstrap': True,\n",
       "   'max_depth': 20,\n",
       "   'max_features': 'auto',\n",
       "   'min_samples_leaf': 4,\n",
       "   'min_samples_split': 5,\n",
       "   'n_estimators': 400},\n",
       "  {'bootstrap': True,\n",
       "   'max_depth': 20,\n",
       "   'max_features': 'auto',\n",
       "   'min_samples_leaf': 4,\n",
       "   'min_samples_split': 10,\n",
       "   'n_estimators': 50},\n",
       "  {'bootstrap': True,\n",
       "   'max_depth': 20,\n",
       "   'max_features': 'auto',\n",
       "   'min_samples_leaf': 4,\n",
       "   'min_samples_split': 10,\n",
       "   'n_estimators': 100},\n",
       "  {'bootstrap': True,\n",
       "   'max_depth': 20,\n",
       "   'max_features': 'auto',\n",
       "   'min_samples_leaf': 4,\n",
       "   'min_samples_split': 10,\n",
       "   'n_estimators': 200},\n",
       "  {'bootstrap': True,\n",
       "   'max_depth': 20,\n",
       "   'max_features': 'auto',\n",
       "   'min_samples_leaf': 4,\n",
       "   'min_samples_split': 10,\n",
       "   'n_estimators': 400},\n",
       "  {'bootstrap': True,\n",
       "   'max_depth': 30,\n",
       "   'max_features': 'auto',\n",
       "   'min_samples_leaf': 1,\n",
       "   'min_samples_split': 2,\n",
       "   'n_estimators': 50},\n",
       "  {'bootstrap': True,\n",
       "   'max_depth': 30,\n",
       "   'max_features': 'auto',\n",
       "   'min_samples_leaf': 1,\n",
       "   'min_samples_split': 2,\n",
       "   'n_estimators': 100},\n",
       "  {'bootstrap': True,\n",
       "   'max_depth': 30,\n",
       "   'max_features': 'auto',\n",
       "   'min_samples_leaf': 1,\n",
       "   'min_samples_split': 2,\n",
       "   'n_estimators': 200},\n",
       "  {'bootstrap': True,\n",
       "   'max_depth': 30,\n",
       "   'max_features': 'auto',\n",
       "   'min_samples_leaf': 1,\n",
       "   'min_samples_split': 2,\n",
       "   'n_estimators': 400},\n",
       "  {'bootstrap': True,\n",
       "   'max_depth': 30,\n",
       "   'max_features': 'auto',\n",
       "   'min_samples_leaf': 1,\n",
       "   'min_samples_split': 5,\n",
       "   'n_estimators': 50},\n",
       "  {'bootstrap': True,\n",
       "   'max_depth': 30,\n",
       "   'max_features': 'auto',\n",
       "   'min_samples_leaf': 1,\n",
       "   'min_samples_split': 5,\n",
       "   'n_estimators': 100},\n",
       "  {'bootstrap': True,\n",
       "   'max_depth': 30,\n",
       "   'max_features': 'auto',\n",
       "   'min_samples_leaf': 1,\n",
       "   'min_samples_split': 5,\n",
       "   'n_estimators': 200},\n",
       "  {'bootstrap': True,\n",
       "   'max_depth': 30,\n",
       "   'max_features': 'auto',\n",
       "   'min_samples_leaf': 1,\n",
       "   'min_samples_split': 5,\n",
       "   'n_estimators': 400},\n",
       "  {'bootstrap': True,\n",
       "   'max_depth': 30,\n",
       "   'max_features': 'auto',\n",
       "   'min_samples_leaf': 1,\n",
       "   'min_samples_split': 10,\n",
       "   'n_estimators': 50},\n",
       "  {'bootstrap': True,\n",
       "   'max_depth': 30,\n",
       "   'max_features': 'auto',\n",
       "   'min_samples_leaf': 1,\n",
       "   'min_samples_split': 10,\n",
       "   'n_estimators': 100},\n",
       "  {'bootstrap': True,\n",
       "   'max_depth': 30,\n",
       "   'max_features': 'auto',\n",
       "   'min_samples_leaf': 1,\n",
       "   'min_samples_split': 10,\n",
       "   'n_estimators': 200},\n",
       "  {'bootstrap': True,\n",
       "   'max_depth': 30,\n",
       "   'max_features': 'auto',\n",
       "   'min_samples_leaf': 1,\n",
       "   'min_samples_split': 10,\n",
       "   'n_estimators': 400},\n",
       "  {'bootstrap': True,\n",
       "   'max_depth': 30,\n",
       "   'max_features': 'auto',\n",
       "   'min_samples_leaf': 2,\n",
       "   'min_samples_split': 2,\n",
       "   'n_estimators': 50},\n",
       "  {'bootstrap': True,\n",
       "   'max_depth': 30,\n",
       "   'max_features': 'auto',\n",
       "   'min_samples_leaf': 2,\n",
       "   'min_samples_split': 2,\n",
       "   'n_estimators': 100},\n",
       "  {'bootstrap': True,\n",
       "   'max_depth': 30,\n",
       "   'max_features': 'auto',\n",
       "   'min_samples_leaf': 2,\n",
       "   'min_samples_split': 2,\n",
       "   'n_estimators': 200},\n",
       "  {'bootstrap': True,\n",
       "   'max_depth': 30,\n",
       "   'max_features': 'auto',\n",
       "   'min_samples_leaf': 2,\n",
       "   'min_samples_split': 2,\n",
       "   'n_estimators': 400},\n",
       "  {'bootstrap': True,\n",
       "   'max_depth': 30,\n",
       "   'max_features': 'auto',\n",
       "   'min_samples_leaf': 2,\n",
       "   'min_samples_split': 5,\n",
       "   'n_estimators': 50},\n",
       "  {'bootstrap': True,\n",
       "   'max_depth': 30,\n",
       "   'max_features': 'auto',\n",
       "   'min_samples_leaf': 2,\n",
       "   'min_samples_split': 5,\n",
       "   'n_estimators': 100},\n",
       "  {'bootstrap': True,\n",
       "   'max_depth': 30,\n",
       "   'max_features': 'auto',\n",
       "   'min_samples_leaf': 2,\n",
       "   'min_samples_split': 5,\n",
       "   'n_estimators': 200},\n",
       "  {'bootstrap': True,\n",
       "   'max_depth': 30,\n",
       "   'max_features': 'auto',\n",
       "   'min_samples_leaf': 2,\n",
       "   'min_samples_split': 5,\n",
       "   'n_estimators': 400},\n",
       "  {'bootstrap': True,\n",
       "   'max_depth': 30,\n",
       "   'max_features': 'auto',\n",
       "   'min_samples_leaf': 2,\n",
       "   'min_samples_split': 10,\n",
       "   'n_estimators': 50},\n",
       "  {'bootstrap': True,\n",
       "   'max_depth': 30,\n",
       "   'max_features': 'auto',\n",
       "   'min_samples_leaf': 2,\n",
       "   'min_samples_split': 10,\n",
       "   'n_estimators': 100},\n",
       "  {'bootstrap': True,\n",
       "   'max_depth': 30,\n",
       "   'max_features': 'auto',\n",
       "   'min_samples_leaf': 2,\n",
       "   'min_samples_split': 10,\n",
       "   'n_estimators': 200},\n",
       "  {'bootstrap': True,\n",
       "   'max_depth': 30,\n",
       "   'max_features': 'auto',\n",
       "   'min_samples_leaf': 2,\n",
       "   'min_samples_split': 10,\n",
       "   'n_estimators': 400},\n",
       "  {'bootstrap': True,\n",
       "   'max_depth': 30,\n",
       "   'max_features': 'auto',\n",
       "   'min_samples_leaf': 4,\n",
       "   'min_samples_split': 2,\n",
       "   'n_estimators': 50},\n",
       "  {'bootstrap': True,\n",
       "   'max_depth': 30,\n",
       "   'max_features': 'auto',\n",
       "   'min_samples_leaf': 4,\n",
       "   'min_samples_split': 2,\n",
       "   'n_estimators': 100},\n",
       "  {'bootstrap': True,\n",
       "   'max_depth': 30,\n",
       "   'max_features': 'auto',\n",
       "   'min_samples_leaf': 4,\n",
       "   'min_samples_split': 2,\n",
       "   'n_estimators': 200},\n",
       "  {'bootstrap': True,\n",
       "   'max_depth': 30,\n",
       "   'max_features': 'auto',\n",
       "   'min_samples_leaf': 4,\n",
       "   'min_samples_split': 2,\n",
       "   'n_estimators': 400},\n",
       "  {'bootstrap': True,\n",
       "   'max_depth': 30,\n",
       "   'max_features': 'auto',\n",
       "   'min_samples_leaf': 4,\n",
       "   'min_samples_split': 5,\n",
       "   'n_estimators': 50},\n",
       "  {'bootstrap': True,\n",
       "   'max_depth': 30,\n",
       "   'max_features': 'auto',\n",
       "   'min_samples_leaf': 4,\n",
       "   'min_samples_split': 5,\n",
       "   'n_estimators': 100},\n",
       "  {'bootstrap': True,\n",
       "   'max_depth': 30,\n",
       "   'max_features': 'auto',\n",
       "   'min_samples_leaf': 4,\n",
       "   'min_samples_split': 5,\n",
       "   'n_estimators': 200},\n",
       "  {'bootstrap': True,\n",
       "   'max_depth': 30,\n",
       "   'max_features': 'auto',\n",
       "   'min_samples_leaf': 4,\n",
       "   'min_samples_split': 5,\n",
       "   'n_estimators': 400},\n",
       "  {'bootstrap': True,\n",
       "   'max_depth': 30,\n",
       "   'max_features': 'auto',\n",
       "   'min_samples_leaf': 4,\n",
       "   'min_samples_split': 10,\n",
       "   'n_estimators': 50},\n",
       "  {'bootstrap': True,\n",
       "   'max_depth': 30,\n",
       "   'max_features': 'auto',\n",
       "   'min_samples_leaf': 4,\n",
       "   'min_samples_split': 10,\n",
       "   'n_estimators': 100},\n",
       "  {'bootstrap': True,\n",
       "   'max_depth': 30,\n",
       "   'max_features': 'auto',\n",
       "   'min_samples_leaf': 4,\n",
       "   'min_samples_split': 10,\n",
       "   'n_estimators': 200},\n",
       "  {'bootstrap': True,\n",
       "   'max_depth': 30,\n",
       "   'max_features': 'auto',\n",
       "   'min_samples_leaf': 4,\n",
       "   'min_samples_split': 10,\n",
       "   'n_estimators': 400},\n",
       "  {'bootstrap': True,\n",
       "   'max_depth': None,\n",
       "   'max_features': 'auto',\n",
       "   'min_samples_leaf': 1,\n",
       "   'min_samples_split': 2,\n",
       "   'n_estimators': 50},\n",
       "  {'bootstrap': True,\n",
       "   'max_depth': None,\n",
       "   'max_features': 'auto',\n",
       "   'min_samples_leaf': 1,\n",
       "   'min_samples_split': 2,\n",
       "   'n_estimators': 100},\n",
       "  {'bootstrap': True,\n",
       "   'max_depth': None,\n",
       "   'max_features': 'auto',\n",
       "   'min_samples_leaf': 1,\n",
       "   'min_samples_split': 2,\n",
       "   'n_estimators': 200},\n",
       "  {'bootstrap': True,\n",
       "   'max_depth': None,\n",
       "   'max_features': 'auto',\n",
       "   'min_samples_leaf': 1,\n",
       "   'min_samples_split': 2,\n",
       "   'n_estimators': 400},\n",
       "  {'bootstrap': True,\n",
       "   'max_depth': None,\n",
       "   'max_features': 'auto',\n",
       "   'min_samples_leaf': 1,\n",
       "   'min_samples_split': 5,\n",
       "   'n_estimators': 50},\n",
       "  {'bootstrap': True,\n",
       "   'max_depth': None,\n",
       "   'max_features': 'auto',\n",
       "   'min_samples_leaf': 1,\n",
       "   'min_samples_split': 5,\n",
       "   'n_estimators': 100},\n",
       "  {'bootstrap': True,\n",
       "   'max_depth': None,\n",
       "   'max_features': 'auto',\n",
       "   'min_samples_leaf': 1,\n",
       "   'min_samples_split': 5,\n",
       "   'n_estimators': 200},\n",
       "  {'bootstrap': True,\n",
       "   'max_depth': None,\n",
       "   'max_features': 'auto',\n",
       "   'min_samples_leaf': 1,\n",
       "   'min_samples_split': 5,\n",
       "   'n_estimators': 400},\n",
       "  {'bootstrap': True,\n",
       "   'max_depth': None,\n",
       "   'max_features': 'auto',\n",
       "   'min_samples_leaf': 1,\n",
       "   'min_samples_split': 10,\n",
       "   'n_estimators': 50},\n",
       "  {'bootstrap': True,\n",
       "   'max_depth': None,\n",
       "   'max_features': 'auto',\n",
       "   'min_samples_leaf': 1,\n",
       "   'min_samples_split': 10,\n",
       "   'n_estimators': 100},\n",
       "  {'bootstrap': True,\n",
       "   'max_depth': None,\n",
       "   'max_features': 'auto',\n",
       "   'min_samples_leaf': 1,\n",
       "   'min_samples_split': 10,\n",
       "   'n_estimators': 200},\n",
       "  {'bootstrap': True,\n",
       "   'max_depth': None,\n",
       "   'max_features': 'auto',\n",
       "   'min_samples_leaf': 1,\n",
       "   'min_samples_split': 10,\n",
       "   'n_estimators': 400},\n",
       "  {'bootstrap': True,\n",
       "   'max_depth': None,\n",
       "   'max_features': 'auto',\n",
       "   'min_samples_leaf': 2,\n",
       "   'min_samples_split': 2,\n",
       "   'n_estimators': 50},\n",
       "  {'bootstrap': True,\n",
       "   'max_depth': None,\n",
       "   'max_features': 'auto',\n",
       "   'min_samples_leaf': 2,\n",
       "   'min_samples_split': 2,\n",
       "   'n_estimators': 100},\n",
       "  {'bootstrap': True,\n",
       "   'max_depth': None,\n",
       "   'max_features': 'auto',\n",
       "   'min_samples_leaf': 2,\n",
       "   'min_samples_split': 2,\n",
       "   'n_estimators': 200},\n",
       "  {'bootstrap': True,\n",
       "   'max_depth': None,\n",
       "   'max_features': 'auto',\n",
       "   'min_samples_leaf': 2,\n",
       "   'min_samples_split': 2,\n",
       "   'n_estimators': 400},\n",
       "  {'bootstrap': True,\n",
       "   'max_depth': None,\n",
       "   'max_features': 'auto',\n",
       "   'min_samples_leaf': 2,\n",
       "   'min_samples_split': 5,\n",
       "   'n_estimators': 50},\n",
       "  {'bootstrap': True,\n",
       "   'max_depth': None,\n",
       "   'max_features': 'auto',\n",
       "   'min_samples_leaf': 2,\n",
       "   'min_samples_split': 5,\n",
       "   'n_estimators': 100},\n",
       "  {'bootstrap': True,\n",
       "   'max_depth': None,\n",
       "   'max_features': 'auto',\n",
       "   'min_samples_leaf': 2,\n",
       "   'min_samples_split': 5,\n",
       "   'n_estimators': 200},\n",
       "  {'bootstrap': True,\n",
       "   'max_depth': None,\n",
       "   'max_features': 'auto',\n",
       "   'min_samples_leaf': 2,\n",
       "   'min_samples_split': 5,\n",
       "   'n_estimators': 400},\n",
       "  {'bootstrap': True,\n",
       "   'max_depth': None,\n",
       "   'max_features': 'auto',\n",
       "   'min_samples_leaf': 2,\n",
       "   'min_samples_split': 10,\n",
       "   'n_estimators': 50},\n",
       "  {'bootstrap': True,\n",
       "   'max_depth': None,\n",
       "   'max_features': 'auto',\n",
       "   'min_samples_leaf': 2,\n",
       "   'min_samples_split': 10,\n",
       "   'n_estimators': 100},\n",
       "  {'bootstrap': True,\n",
       "   'max_depth': None,\n",
       "   'max_features': 'auto',\n",
       "   'min_samples_leaf': 2,\n",
       "   'min_samples_split': 10,\n",
       "   'n_estimators': 200},\n",
       "  {'bootstrap': True,\n",
       "   'max_depth': None,\n",
       "   'max_features': 'auto',\n",
       "   'min_samples_leaf': 2,\n",
       "   'min_samples_split': 10,\n",
       "   'n_estimators': 400},\n",
       "  {'bootstrap': True,\n",
       "   'max_depth': None,\n",
       "   'max_features': 'auto',\n",
       "   'min_samples_leaf': 4,\n",
       "   'min_samples_split': 2,\n",
       "   'n_estimators': 50},\n",
       "  {'bootstrap': True,\n",
       "   'max_depth': None,\n",
       "   'max_features': 'auto',\n",
       "   'min_samples_leaf': 4,\n",
       "   'min_samples_split': 2,\n",
       "   'n_estimators': 100},\n",
       "  {'bootstrap': True,\n",
       "   'max_depth': None,\n",
       "   'max_features': 'auto',\n",
       "   'min_samples_leaf': 4,\n",
       "   'min_samples_split': 2,\n",
       "   'n_estimators': 200},\n",
       "  {'bootstrap': True,\n",
       "   'max_depth': None,\n",
       "   'max_features': 'auto',\n",
       "   'min_samples_leaf': 4,\n",
       "   'min_samples_split': 2,\n",
       "   'n_estimators': 400},\n",
       "  {'bootstrap': True,\n",
       "   'max_depth': None,\n",
       "   'max_features': 'auto',\n",
       "   'min_samples_leaf': 4,\n",
       "   'min_samples_split': 5,\n",
       "   'n_estimators': 50},\n",
       "  {'bootstrap': True,\n",
       "   'max_depth': None,\n",
       "   'max_features': 'auto',\n",
       "   'min_samples_leaf': 4,\n",
       "   'min_samples_split': 5,\n",
       "   'n_estimators': 100},\n",
       "  {'bootstrap': True,\n",
       "   'max_depth': None,\n",
       "   'max_features': 'auto',\n",
       "   'min_samples_leaf': 4,\n",
       "   'min_samples_split': 5,\n",
       "   'n_estimators': 200},\n",
       "  {'bootstrap': True,\n",
       "   'max_depth': None,\n",
       "   'max_features': 'auto',\n",
       "   'min_samples_leaf': 4,\n",
       "   'min_samples_split': 5,\n",
       "   'n_estimators': 400},\n",
       "  {'bootstrap': True,\n",
       "   'max_depth': None,\n",
       "   'max_features': 'auto',\n",
       "   'min_samples_leaf': 4,\n",
       "   'min_samples_split': 10,\n",
       "   'n_estimators': 50},\n",
       "  {'bootstrap': True,\n",
       "   'max_depth': None,\n",
       "   'max_features': 'auto',\n",
       "   'min_samples_leaf': 4,\n",
       "   'min_samples_split': 10,\n",
       "   'n_estimators': 100},\n",
       "  {'bootstrap': True,\n",
       "   'max_depth': None,\n",
       "   'max_features': 'auto',\n",
       "   'min_samples_leaf': 4,\n",
       "   'min_samples_split': 10,\n",
       "   'n_estimators': 200},\n",
       "  {'bootstrap': True,\n",
       "   'max_depth': None,\n",
       "   'max_features': 'auto',\n",
       "   'min_samples_leaf': 4,\n",
       "   'min_samples_split': 10,\n",
       "   'n_estimators': 400}],\n",
       " 'split0_test_score': array([0.83257919, 0.83257919, 0.85067873, 0.83710407, 0.84162896,\n",
       "        0.83257919, 0.83257919, 0.83710407, 0.81447964, 0.8280543 ,\n",
       "        0.83710407, 0.83710407, 0.81900452, 0.8280543 , 0.83710407,\n",
       "        0.83257919, 0.83257919, 0.84162896, 0.83710407, 0.83710407,\n",
       "        0.8280543 , 0.83257919, 0.82352941, 0.83710407, 0.81900452,\n",
       "        0.84162896, 0.8280543 , 0.84162896, 0.80090498, 0.8280543 ,\n",
       "        0.8280543 , 0.8280543 , 0.80542986, 0.83257919, 0.81900452,\n",
       "        0.83257919, 0.85972851, 0.85067873, 0.85972851, 0.85972851,\n",
       "        0.84615385, 0.85520362, 0.85067873, 0.85972851, 0.85520362,\n",
       "        0.85520362, 0.86877828, 0.87330317, 0.85520362, 0.85972851,\n",
       "        0.85972851, 0.85972851, 0.86877828, 0.86877828, 0.87330317,\n",
       "        0.86425339, 0.85520362, 0.86425339, 0.86877828, 0.86425339,\n",
       "        0.85067873, 0.87782805, 0.87782805, 0.86877828, 0.87330317,\n",
       "        0.86425339, 0.87330317, 0.87782805, 0.85972851, 0.87330317,\n",
       "        0.86877828, 0.87330317, 0.85520362, 0.85067873, 0.85067873,\n",
       "        0.85067873, 0.85067873, 0.86425339, 0.85067873, 0.85972851,\n",
       "        0.86877828, 0.85972851, 0.87782805, 0.86425339, 0.86425339,\n",
       "        0.86877828, 0.85520362, 0.86425339, 0.84615385, 0.86425339,\n",
       "        0.86425339, 0.85972851, 0.86877828, 0.86877828, 0.85972851,\n",
       "        0.85972851, 0.87330317, 0.84615385, 0.86877828, 0.87330317,\n",
       "        0.86425339, 0.85972851, 0.86877828, 0.86877828, 0.84615385,\n",
       "        0.87782805, 0.85520362, 0.87782805, 0.85972851, 0.85972851,\n",
       "        0.85520362, 0.85972851, 0.86425339, 0.85972851, 0.86425339,\n",
       "        0.85972851, 0.85972851, 0.86877828, 0.86877828, 0.87330317,\n",
       "        0.85520362, 0.86425339, 0.86425339, 0.85520362, 0.85067873,\n",
       "        0.85972851, 0.86425339, 0.86425339, 0.84162896, 0.87330317,\n",
       "        0.87782805, 0.86877828, 0.85972851, 0.88687783, 0.86877828,\n",
       "        0.86425339, 0.85520362, 0.86877828, 0.84615385, 0.87782805,\n",
       "        0.85972851, 0.87330317, 0.86425339, 0.86877828, 0.85067873,\n",
       "        0.85520362, 0.85067873, 0.85520362, 0.86425339, 0.85972851,\n",
       "        0.86425339, 0.85520362, 0.84615385, 0.85972851, 0.86877828,\n",
       "        0.85972851, 0.85972851, 0.85972851, 0.87330317, 0.85972851,\n",
       "        0.85972851, 0.85520362, 0.85520362, 0.85972851, 0.87330317,\n",
       "        0.86425339, 0.86877828, 0.86877828, 0.86425339, 0.87330317,\n",
       "        0.86877828, 0.86877828, 0.85972851, 0.87330317, 0.87330317,\n",
       "        0.86877828, 0.88235294, 0.87330317, 0.86425339, 0.86877828]),\n",
       " 'split1_test_score': array([0.84162896, 0.84162896, 0.85067873, 0.85067873, 0.85520362,\n",
       "        0.84162896, 0.85067873, 0.84615385, 0.85067873, 0.85520362,\n",
       "        0.84615385, 0.85067873, 0.85972851, 0.86425339, 0.85520362,\n",
       "        0.85067873, 0.85972851, 0.84615385, 0.84162896, 0.85067873,\n",
       "        0.85972851, 0.85067873, 0.85520362, 0.84615385, 0.84615385,\n",
       "        0.84615385, 0.85067873, 0.85520362, 0.85067873, 0.83710407,\n",
       "        0.84615385, 0.85520362, 0.8280543 , 0.83710407, 0.85067873,\n",
       "        0.85067873, 0.85067873, 0.84615385, 0.84162896, 0.85067873,\n",
       "        0.84615385, 0.85067873, 0.85067873, 0.86425339, 0.84615385,\n",
       "        0.85972851, 0.85972851, 0.85972851, 0.84162896, 0.84615385,\n",
       "        0.85520362, 0.85520362, 0.84615385, 0.85520362, 0.85972851,\n",
       "        0.85520362, 0.84615385, 0.85067873, 0.85972851, 0.85972851,\n",
       "        0.83257919, 0.85972851, 0.85520362, 0.85520362, 0.84615385,\n",
       "        0.84162896, 0.84615385, 0.85067873, 0.84615385, 0.85972851,\n",
       "        0.84615385, 0.85067873, 0.84615385, 0.85067873, 0.85067873,\n",
       "        0.84615385, 0.84615385, 0.84615385, 0.85520362, 0.85067873,\n",
       "        0.83710407, 0.85067873, 0.85067873, 0.85972851, 0.83710407,\n",
       "        0.85067873, 0.85067873, 0.85067873, 0.85520362, 0.85067873,\n",
       "        0.85520362, 0.84615385, 0.85972851, 0.85067873, 0.84615385,\n",
       "        0.85520362, 0.86425339, 0.85520362, 0.85520362, 0.86425339,\n",
       "        0.84615385, 0.85972851, 0.85972851, 0.85067873, 0.85067873,\n",
       "        0.86877828, 0.86425339, 0.84615385, 0.85972851, 0.84615385,\n",
       "        0.84615385, 0.84615385, 0.83710407, 0.84615385, 0.85520362,\n",
       "        0.85067873, 0.86425339, 0.84162896, 0.84615385, 0.84615385,\n",
       "        0.84615385, 0.84615385, 0.85067873, 0.85067873, 0.84615385,\n",
       "        0.85520362, 0.85972851, 0.85972851, 0.85972851, 0.85067873,\n",
       "        0.84162896, 0.85067873, 0.84615385, 0.85520362, 0.85520362,\n",
       "        0.85520362, 0.85067873, 0.84615385, 0.84162896, 0.85520362,\n",
       "        0.83257919, 0.85520362, 0.85972851, 0.85972851, 0.84615385,\n",
       "        0.85067873, 0.85067873, 0.84615385, 0.85520362, 0.85972851,\n",
       "        0.85972851, 0.85520362, 0.85520362, 0.85067873, 0.84615385,\n",
       "        0.85067873, 0.85520362, 0.84615385, 0.86425339, 0.85520362,\n",
       "        0.85972851, 0.85520362, 0.85972851, 0.85520362, 0.85972851,\n",
       "        0.85520362, 0.85520362, 0.84615385, 0.85520362, 0.85972851,\n",
       "        0.84615385, 0.85067873, 0.85972851, 0.86425339, 0.83710407,\n",
       "        0.86425339, 0.83710407, 0.86877828, 0.85520362, 0.85972851]),\n",
       " 'split2_test_score': array([0.83181818, 0.80454545, 0.82272727, 0.81363636, 0.80454545,\n",
       "        0.81363636, 0.82727273, 0.80909091, 0.81363636, 0.82272727,\n",
       "        0.81363636, 0.81363636, 0.79545455, 0.80909091, 0.82272727,\n",
       "        0.81363636, 0.83181818, 0.80909091, 0.81818182, 0.80909091,\n",
       "        0.81818182, 0.83181818, 0.81363636, 0.81818182, 0.8       ,\n",
       "        0.81363636, 0.81818182, 0.81818182, 0.8       , 0.79545455,\n",
       "        0.80454545, 0.80454545, 0.8       , 0.80454545, 0.80909091,\n",
       "        0.81363636, 0.84090909, 0.83636364, 0.85454545, 0.85454545,\n",
       "        0.84090909, 0.83636364, 0.85      , 0.85      , 0.85      ,\n",
       "        0.82727273, 0.83636364, 0.82272727, 0.83181818, 0.84545455,\n",
       "        0.84090909, 0.85      , 0.83636364, 0.85      , 0.84545455,\n",
       "        0.85      , 0.83181818, 0.83181818, 0.83181818, 0.83636364,\n",
       "        0.82727273, 0.81818182, 0.82727273, 0.82272727, 0.82272727,\n",
       "        0.83636364, 0.80909091, 0.83636364, 0.83636364, 0.80909091,\n",
       "        0.80909091, 0.83181818, 0.85      , 0.85      , 0.84545455,\n",
       "        0.85      , 0.83181818, 0.85      , 0.85454545, 0.85454545,\n",
       "        0.80909091, 0.83636364, 0.85      , 0.85      , 0.84090909,\n",
       "        0.83636364, 0.85454545, 0.84545455, 0.83181818, 0.85454545,\n",
       "        0.84545455, 0.84090909, 0.82272727, 0.83636364, 0.83636364,\n",
       "        0.84545455, 0.82727273, 0.83636364, 0.83181818, 0.83181818,\n",
       "        0.84090909, 0.83181818, 0.82727273, 0.83181818, 0.82727273,\n",
       "        0.83181818, 0.83636364, 0.82272727, 0.85      , 0.84545455,\n",
       "        0.84545455, 0.84545455, 0.84090909, 0.85      , 0.84545455,\n",
       "        0.85454545, 0.84090909, 0.85454545, 0.83636364, 0.83181818,\n",
       "        0.83181818, 0.84090909, 0.85      , 0.85      , 0.85454545,\n",
       "        0.84545455, 0.84545455, 0.85454545, 0.83181818, 0.84090909,\n",
       "        0.84090909, 0.84090909, 0.85454545, 0.82727273, 0.82727273,\n",
       "        0.83181818, 0.84090909, 0.83181818, 0.82727273, 0.83636364,\n",
       "        0.82272727, 0.83181818, 0.83181818, 0.83181818, 0.84090909,\n",
       "        0.85      , 0.85      , 0.85      , 0.84090909, 0.85      ,\n",
       "        0.84545455, 0.85454545, 0.82727273, 0.83181818, 0.82727273,\n",
       "        0.84545455, 0.85      , 0.84090909, 0.85454545, 0.84545455,\n",
       "        0.84545455, 0.84090909, 0.85454545, 0.85      , 0.83636364,\n",
       "        0.82727273, 0.83181818, 0.82727273, 0.82272727, 0.83636364,\n",
       "        0.82727273, 0.83181818, 0.83181818, 0.81818182, 0.83181818,\n",
       "        0.83636364, 0.83636364, 0.81363636, 0.81363636, 0.82727273]),\n",
       " 'split3_test_score': array([0.86818182, 0.84090909, 0.85454545, 0.85909091, 0.84545455,\n",
       "        0.85      , 0.85454545, 0.85909091, 0.82727273, 0.85      ,\n",
       "        0.84545455, 0.86363636, 0.83181818, 0.86818182, 0.85454545,\n",
       "        0.86818182, 0.84090909, 0.84545455, 0.86363636, 0.85909091,\n",
       "        0.84545455, 0.85909091, 0.85909091, 0.86363636, 0.83181818,\n",
       "        0.86363636, 0.83636364, 0.84090909, 0.84545455, 0.85      ,\n",
       "        0.85909091, 0.86363636, 0.83181818, 0.85454545, 0.85909091,\n",
       "        0.85909091, 0.86818182, 0.84545455, 0.85454545, 0.83181818,\n",
       "        0.85      , 0.84545455, 0.84545455, 0.84545455, 0.85      ,\n",
       "        0.86363636, 0.86363636, 0.85909091, 0.84545455, 0.85454545,\n",
       "        0.85454545, 0.85      , 0.88181818, 0.84545455, 0.85454545,\n",
       "        0.85909091, 0.87272727, 0.85909091, 0.87272727, 0.87727273,\n",
       "        0.86818182, 0.87272727, 0.87272727, 0.87727273, 0.85909091,\n",
       "        0.87272727, 0.87727273, 0.86818182, 0.87272727, 0.87272727,\n",
       "        0.87727273, 0.87727273, 0.84090909, 0.84090909, 0.85454545,\n",
       "        0.85454545, 0.85454545, 0.84545455, 0.84090909, 0.84090909,\n",
       "        0.85      , 0.86818182, 0.86818182, 0.85454545, 0.84090909,\n",
       "        0.85      , 0.85454545, 0.84545455, 0.85454545, 0.84090909,\n",
       "        0.84545455, 0.85454545, 0.86818182, 0.87727273, 0.87272727,\n",
       "        0.86363636, 0.85909091, 0.87272727, 0.86818182, 0.86818182,\n",
       "        0.87727273, 0.86818182, 0.87727273, 0.86363636, 0.86363636,\n",
       "        0.88181818, 0.86818182, 0.87272727, 0.84545455, 0.85      ,\n",
       "        0.85      , 0.84545455, 0.85      , 0.84545455, 0.84090909,\n",
       "        0.84545455, 0.87272727, 0.86363636, 0.85454545, 0.86818182,\n",
       "        0.84090909, 0.84545455, 0.85      , 0.85454545, 0.84090909,\n",
       "        0.85454545, 0.85      , 0.85      , 0.86363636, 0.87272727,\n",
       "        0.85909091, 0.86363636, 0.88181818, 0.86818182, 0.87272727,\n",
       "        0.87272727, 0.85909091, 0.88181818, 0.87272727, 0.87727273,\n",
       "        0.85909091, 0.87727273, 0.87727273, 0.88181818, 0.85      ,\n",
       "        0.85      , 0.84545455, 0.85      , 0.85454545, 0.85454545,\n",
       "        0.84545455, 0.84545455, 0.86818182, 0.86363636, 0.87272727,\n",
       "        0.86818182, 0.84545455, 0.84545455, 0.85454545, 0.85909091,\n",
       "        0.85454545, 0.85      , 0.85      , 0.85      , 0.85909091,\n",
       "        0.87272727, 0.86363636, 0.87272727, 0.86363636, 0.86363636,\n",
       "        0.87727273, 0.86363636, 0.86363636, 0.87272727, 0.86818182,\n",
       "        0.86818182, 0.86818182, 0.86818182, 0.88181818, 0.87727273]),\n",
       " 'split4_test_score': array([0.83181818, 0.82727273, 0.85      , 0.84090909, 0.81818182,\n",
       "        0.83181818, 0.83636364, 0.83181818, 0.83636364, 0.83181818,\n",
       "        0.84545455, 0.81818182, 0.81363636, 0.83181818, 0.83636364,\n",
       "        0.81818182, 0.82272727, 0.84545455, 0.82727273, 0.83636364,\n",
       "        0.82727273, 0.82727273, 0.82272727, 0.83636364, 0.83636364,\n",
       "        0.82727273, 0.84090909, 0.83636364, 0.82727273, 0.84090909,\n",
       "        0.82727273, 0.82272727, 0.81363636, 0.81818182, 0.84090909,\n",
       "        0.83181818, 0.85454545, 0.85909091, 0.86363636, 0.85909091,\n",
       "        0.82272727, 0.86818182, 0.85909091, 0.85454545, 0.85      ,\n",
       "        0.84090909, 0.82727273, 0.83636364, 0.85454545, 0.87272727,\n",
       "        0.86818182, 0.85454545, 0.85909091, 0.86818182, 0.85454545,\n",
       "        0.86818182, 0.84090909, 0.83636364, 0.83636364, 0.84545455,\n",
       "        0.84545455, 0.83181818, 0.84545455, 0.84090909, 0.83636364,\n",
       "        0.84545455, 0.84545455, 0.83181818, 0.85      , 0.85      ,\n",
       "        0.84090909, 0.84545455, 0.85454545, 0.86363636, 0.85454545,\n",
       "        0.85454545, 0.84090909, 0.85909091, 0.86818182, 0.86363636,\n",
       "        0.84545455, 0.84545455, 0.82727273, 0.83636364, 0.85454545,\n",
       "        0.85454545, 0.86363636, 0.86363636, 0.85454545, 0.84545455,\n",
       "        0.86818182, 0.86363636, 0.83181818, 0.84090909, 0.85909091,\n",
       "        0.85454545, 0.84090909, 0.85      , 0.84090909, 0.84090909,\n",
       "        0.82727273, 0.85      , 0.84545455, 0.84090909, 0.85      ,\n",
       "        0.83636364, 0.85      , 0.84090909, 0.85909091, 0.85454545,\n",
       "        0.85      , 0.85909091, 0.83181818, 0.85454545, 0.86818182,\n",
       "        0.86818182, 0.85454545, 0.85909091, 0.85454545, 0.85454545,\n",
       "        0.86363636, 0.86363636, 0.87272727, 0.86818182, 0.86363636,\n",
       "        0.84545455, 0.85909091, 0.86363636, 0.84090909, 0.84545455,\n",
       "        0.83636364, 0.85454545, 0.82727273, 0.82272727, 0.84090909,\n",
       "        0.84090909, 0.84545455, 0.83636364, 0.84545455, 0.84545455,\n",
       "        0.84545455, 0.84545455, 0.84090909, 0.83636364, 0.84545455,\n",
       "        0.85909091, 0.85454545, 0.85909091, 0.86363636, 0.86363636,\n",
       "        0.86818182, 0.85454545, 0.86363636, 0.84090909, 0.85      ,\n",
       "        0.85909091, 0.85454545, 0.85454545, 0.87272727, 0.86818182,\n",
       "        0.85909091, 0.86363636, 0.85454545, 0.86818182, 0.84545455,\n",
       "        0.84545455, 0.83636364, 0.83636364, 0.84090909, 0.84545455,\n",
       "        0.83181818, 0.84090909, 0.83181818, 0.86818182, 0.84545455,\n",
       "        0.85      , 0.85909091, 0.83181818, 0.83181818, 0.84545455]),\n",
       " 'mean_test_score': array([0.84120527, 0.82938708, 0.84572604, 0.84028383, 0.83300288,\n",
       "        0.83393254, 0.84028795, 0.83665158, 0.82848622, 0.83756067,\n",
       "        0.83756067, 0.83664747, 0.82392842, 0.84027972, 0.84118881,\n",
       "        0.83665158, 0.83755245, 0.83755656, 0.83756479, 0.83846565,\n",
       "        0.83573838, 0.84028795, 0.83483752, 0.84028795, 0.82666804,\n",
       "        0.83846565, 0.83483752, 0.83845742, 0.8248622 , 0.8303044 ,\n",
       "        0.83302345, 0.8348334 , 0.81578774, 0.8293912 , 0.83575483,\n",
       "        0.83756067, 0.85480872, 0.84754833, 0.85481695, 0.85117236,\n",
       "        0.84118881, 0.85117647, 0.85118058, 0.85479638, 0.85027149,\n",
       "        0.84935006, 0.8511559 , 0.8502427 , 0.84573015, 0.85572193,\n",
       "        0.8557137 , 0.85389552, 0.85844097, 0.85752365, 0.85751543,\n",
       "        0.85934595, 0.8493624 , 0.84844097, 0.85388318, 0.85661456,\n",
       "        0.8448334 , 0.85205677, 0.85569724, 0.8529782 , 0.84752777,\n",
       "        0.85208556, 0.85025504, 0.85297408, 0.85299465, 0.85296997,\n",
       "        0.84844097, 0.85570547, 0.8493624 , 0.85118058, 0.85118058,\n",
       "        0.8511847 , 0.84482106, 0.85299054, 0.85390374, 0.85389963,\n",
       "        0.84208556, 0.85208145, 0.85479227, 0.8529782 , 0.84754422,\n",
       "        0.85207322, 0.85572193, 0.85389552, 0.84845331, 0.85116824,\n",
       "        0.85570958, 0.85299465, 0.85024681, 0.85480049, 0.85481283,\n",
       "        0.8557137 , 0.85296586, 0.85208968, 0.8529782 , 0.85569313,\n",
       "        0.85117236, 0.8538914 , 0.85570136, 0.85116413, 0.84754833,\n",
       "        0.85932127, 0.85480049, 0.85206911, 0.85480049, 0.85117647,\n",
       "        0.8493624 , 0.85117647, 0.84481695, 0.85117647, 0.85480049,\n",
       "        0.85571781, 0.85843274, 0.85753599, 0.85207733, 0.85480049,\n",
       "        0.84754422, 0.85208145, 0.85753188, 0.85572193, 0.8511847 ,\n",
       "        0.85207733, 0.85570547, 0.85843274, 0.84754422, 0.85661456,\n",
       "        0.85116413, 0.85570958, 0.85390374, 0.85205265, 0.8529782 ,\n",
       "        0.85298231, 0.85026738, 0.85298643, 0.84664747, 0.85842452,\n",
       "        0.84391608, 0.85661045, 0.85479638, 0.85570136, 0.84663924,\n",
       "        0.85299465, 0.85027149, 0.85208968, 0.85570958, 0.85752777,\n",
       "        0.85661456, 0.85299054, 0.85208968, 0.84935418, 0.85298643,\n",
       "        0.8566269 , 0.85298643, 0.84935829, 0.86387495, 0.85753188,\n",
       "        0.85570958, 0.85299054, 0.85480461, 0.85662279, 0.85478815,\n",
       "        0.85298231, 0.85116002, 0.85025915, 0.84934595, 0.85569724,\n",
       "        0.85025915, 0.85116413, 0.84934595, 0.85932949, 0.85117236,\n",
       "        0.85751543, 0.85661868, 0.85114356, 0.84934595, 0.85570136]),\n",
       " 'std_test_score': array([0.0139897 , 0.01352322, 0.01161077, 0.01537758, 0.01871799,\n",
       "        0.01212959, 0.01054008, 0.01659502, 0.01394802, 0.01272311,\n",
       "        0.01241813, 0.01895245, 0.02137675, 0.02257018, 0.01229317,\n",
       "        0.02038791, 0.01249356, 0.01432164, 0.01534981, 0.0169924 ,\n",
       "        0.01489211, 0.01234567, 0.01858508, 0.01479037, 0.01593825,\n",
       "        0.01699679, 0.01107756, 0.01193305, 0.02139358, 0.01879461,\n",
       "        0.0185509 , 0.02169991, 0.01239847, 0.01700206, 0.01889656,\n",
       "        0.01591099, 0.00909252, 0.00740887, 0.00742935, 0.01021877,\n",
       "        0.00967313, 0.01056227, 0.0044104 , 0.00669476, 0.00288104,\n",
       "        0.01345164, 0.01630348, 0.01816471, 0.00869362, 0.01003579,\n",
       "        0.0088586 , 0.00364712, 0.01607581, 0.00946482, 0.00913517,\n",
       "        0.00643003, 0.01392544, 0.0125749 , 0.01676264, 0.0143489 ,\n",
       "        0.01441003, 0.02326971, 0.01840057, 0.0195223 , 0.01754803,\n",
       "        0.01396156, 0.02447661, 0.01776369, 0.01238609, 0.02359517,\n",
       "        0.02389671, 0.01718009, 0.00535058, 0.00724634, 0.00334473,\n",
       "        0.00314828, 0.00793764, 0.00743695, 0.00877755, 0.00785271,\n",
       "        0.01949334, 0.01105109, 0.01736168, 0.00959235, 0.01024949,\n",
       "        0.01037502, 0.0042687 , 0.00842636, 0.00896449, 0.00800953,\n",
       "        0.00937167, 0.00841253, 0.01924537, 0.01581302, 0.01247993,\n",
       "        0.00609529, 0.01663751, 0.01202095, 0.01469119, 0.01629687,\n",
       "        0.01762983, 0.01244773, 0.01769594, 0.01375123, 0.01172757,\n",
       "        0.02107852, 0.0112387 , 0.02054635, 0.005956  , 0.00536356,\n",
       "        0.00347848, 0.00673028, 0.01138742, 0.00536356, 0.01047757,\n",
       "        0.00779151, 0.01060266, 0.00925201, 0.01070619, 0.01499617,\n",
       "        0.01105341, 0.0098544 , 0.00934348, 0.0065586 , 0.00771352,\n",
       "        0.00569435, 0.0069043 , 0.00545635, 0.01211394, 0.01374461,\n",
       "        0.01542037, 0.00979126, 0.01779229, 0.02431828, 0.01703558,\n",
       "        0.01493665, 0.00652888, 0.01924447, 0.01471318, 0.01671544,\n",
       "        0.01456136, 0.0170098 , 0.01636949, 0.01904556, 0.0035238 ,\n",
       "        0.00361506, 0.00289396, 0.0045317 , 0.00844389, 0.00474474,\n",
       "        0.00949675, 0.00377948, 0.01451272, 0.01176599, 0.01646743,\n",
       "        0.00786651, 0.00486724, 0.00680213, 0.0082641 , 0.00737509,\n",
       "        0.00548193, 0.00745699, 0.00308618, 0.00682632, 0.01274602,\n",
       "        0.01574475, 0.01466596, 0.01781061, 0.01575116, 0.01317536,\n",
       "        0.01978884, 0.01375123, 0.01438232, 0.02083508, 0.01663904,\n",
       "        0.01256904, 0.01785025, 0.02396912, 0.02405572, 0.01769594]),\n",
       " 'rank_test_score': array([145, 175, 139, 151, 172, 170, 148, 162, 176, 159, 157, 164, 179,\n",
       "        152, 147, 162, 161, 160, 156, 154, 166, 148, 167, 148, 177, 153,\n",
       "        167, 155, 178, 173, 171, 169, 180, 174, 165, 157,  43, 130,  41,\n",
       "        100, 146,  97,  93,  51, 110, 123, 108, 117, 138,  23,  27,  57,\n",
       "          5,  13,  14,   2, 118, 128,  60,  19, 140,  89,  39,  72, 135,\n",
       "         82, 115,  76,  61,  77, 128,  33, 118,  94,  94,  91, 141,  64,\n",
       "         54,  56, 144,  83,  52,  72, 133,  87,  24,  57, 127, 103,  29,\n",
       "         61, 116,  45,  42,  27,  78,  79,  72,  40, 100,  59,  35, 104,\n",
       "        130,   4,  45,  88,  45,  97, 118,  96, 142,  97,  45,  26,   7,\n",
       "          9,  85,  45, 133,  83,  10,  24,  91,  85,  33,   6, 132,  21,\n",
       "        106,  29,  54,  90,  72,  70, 112,  67, 136,   8, 143,  22,  50,\n",
       "         35, 137,  61, 110,  79,  32,  12,  19,  64,  79, 122,  67,  16,\n",
       "         67, 121,   1,  10,  29,  64,  44,  17,  53,  71, 107, 113, 124,\n",
       "         38, 113, 104, 124,   3, 100,  14,  18, 109, 124,  35])}"
      ]
     },
     "execution_count": 829,
     "metadata": {},
     "output_type": "execute_result"
    }
   ],
   "source": [
    "clf.cv_results_"
   ]
  },
  {
   "cell_type": "code",
   "execution_count": 830,
   "metadata": {},
   "outputs": [
    {
     "data": {
      "text/plain": [
       "{'bootstrap': True,\n",
       " 'max_depth': None,\n",
       " 'max_features': 'auto',\n",
       " 'min_samples_leaf': 2,\n",
       " 'min_samples_split': 2,\n",
       " 'n_estimators': 200}"
      ]
     },
     "execution_count": 830,
     "metadata": {},
     "output_type": "execute_result"
    }
   ],
   "source": [
    "clf.best_params_"
   ]
  },
  {
   "cell_type": "code",
   "execution_count": 831,
   "metadata": {},
   "outputs": [
    {
     "name": "stdout",
     "output_type": "stream",
     "text": [
      "[[295  13]\n",
      " [ 41  19]]\n",
      "              precision    recall  f1-score   support\n",
      "\n",
      "           0       0.88      0.96      0.92       308\n",
      "           1       0.59      0.32      0.41        60\n",
      "\n",
      "    accuracy                           0.85       368\n",
      "   macro avg       0.74      0.64      0.66       368\n",
      "weighted avg       0.83      0.85      0.83       368\n",
      "\n"
     ]
    },
    {
     "data": {
      "text/plain": [
       "<sklearn.metrics._plot.roc_curve.RocCurveDisplay at 0x20543e01e08>"
      ]
     },
     "execution_count": 831,
     "metadata": {},
     "output_type": "execute_result"
    },
    {
     "data": {
      "image/png": "[encoded data removed]",
      "text/plain": [
       "<Figure size 432x288 with 1 Axes>"
      ]
     },
     "metadata": {
      "needs_background": "light"
     },
     "output_type": "display_data"
    }
   ],
   "source": [
    "rf3 = RandomForestClassifier(class_weight = 'balanced', bootstrap = True,\n",
    " max_depth = 20,\n",
    " max_features = 'auto',\n",
    " min_samples_leaf =  4,\n",
    " min_samples_split =  10,\n",
    " n_estimators = 100)\n",
    "rf3.fit(X_train, y_train.values.ravel())\n",
    "train_predict4 = rf3.predict(X_train)\n",
    "y_pred4 = rf3.predict(X_test)\n",
    "print(confusion_matrix(y_test,y_pred4))\n",
    "print(classification_report(y_test, y_pred4))\n",
    "plot_roc_curve(rf3, X_test, y_test)"
   ]
  },
  {
   "cell_type": "markdown",
   "metadata": {},
   "source": [
    "# RF3 Results: \n",
    "## F1 Score: 0.395  AUC: .77"
   ]
  },
  {
   "cell_type": "markdown",
   "metadata": {},
   "source": [
    "### This model had less cases of false negatives and an about equal number of true positives and false positives. My next model will repeat the same process except I will use a randomized search in order to search a broader number of parameter values."
   ]
  },
  {
   "cell_type": "markdown",
   "metadata": {},
   "source": [
    "# Random Forest 4"
   ]
  },
  {
   "cell_type": "code",
   "execution_count": 832,
   "metadata": {},
   "outputs": [],
   "source": [
    "random_params = {'bootstrap': [True, False],\n",
    " 'max_depth': [10, 20, 30, 40, 50, 60, 70, 80, 90, 100, None],\n",
    " 'max_features': ['auto', 'sqrt'],\n",
    " 'min_samples_leaf': [1, 2, 4],\n",
    " 'min_samples_split': [2, 5, 10],\n",
    " 'n_estimators': [200, 400, 600, 800, 1000, 1200, 1400, 1600, 1800, 2000]}"
   ]
  },
  {
   "cell_type": "code",
   "execution_count": 833,
   "metadata": {},
   "outputs": [],
   "source": [
    "from sklearn.model_selection import RandomizedSearchCV"
   ]
  },
  {
   "cell_type": "code",
   "execution_count": 834,
   "metadata": {
    "scrolled": true
   },
   "outputs": [
    {
     "data": {
      "text/plain": [
       "RandomizedSearchCV(cv=5,\n",
       "                   estimator=RandomForestClassifier(class_weight='balanced',\n",
       "                                                    max_depth=3,\n",
       "                                                    min_samples_leaf=5,\n",
       "                                                    n_estimators=1200),\n",
       "                   n_iter=20,\n",
       "                   param_distributions={'bootstrap': [True, False],\n",
       "                                        'max_depth': [10, 20, 30, 40, 50, 60,\n",
       "                                                      70, 80, 90, 100, None],\n",
       "                                        'max_features': ['auto', 'sqrt'],\n",
       "                                        'min_samples_leaf': [1, 2, 4],\n",
       "                                        'min_samples_split': [2, 5, 10],\n",
       "                                        'n_estimators': [200, 400, 600, 800,\n",
       "                                                         1000, 1200, 1400, 1600,\n",
       "                                                         1800, 2000]})"
      ]
     },
     "execution_count": 834,
     "metadata": {},
     "output_type": "execute_result"
    }
   ],
   "source": [
    "clf1 = RandomizedSearchCV(model3, random_params ,n_iter = 20, cv = 5)\n",
    "clf1.fit(X_train, y_train.values.ravel())"
   ]
  },
  {
   "cell_type": "code",
   "execution_count": 835,
   "metadata": {
    "scrolled": false
   },
   "outputs": [
    {
     "data": {
      "text/plain": [
       "{'mean_fit_time': array([2.2814703 , 3.29438972, 0.60835161, 1.07137222, 2.07428269,\n",
       "        1.04955254, 2.15055165, 0.69302893, 1.86349139, 0.59674134,\n",
       "        2.78252511, 1.98840461, 2.36874952, 2.18137965, 1.54380121,\n",
       "        2.38736649, 2.17097015, 2.47924991, 2.49066019, 1.92915068]),\n",
       " 'std_fit_time': array([0.08843962, 0.04554116, 0.01037075, 0.01164852, 0.01855981,\n",
       "        0.01609693, 0.0281441 , 0.00985962, 0.07442196, 0.0081901 ,\n",
       "        0.01042104, 0.02008399, 0.01373238, 0.01950721, 0.02126629,\n",
       "        0.01381665, 0.02036573, 0.0321477 , 0.02418488, 0.01622108]),\n",
       " 'mean_score_time': array([0.10629649, 0.15413966, 0.03142877, 0.04904451, 0.10449452,\n",
       "        0.04944472, 0.0998909 , 0.03363056, 0.08988142, 0.03122845,\n",
       "        0.14092784, 0.0940855 , 0.1237124 , 0.10889902, 0.10809798,\n",
       "        0.10949974, 0.10909858, 0.12631469, 0.1141036 , 0.12431254]),\n",
       " 'std_score_time': array([0.00040045, 0.00228246, 0.00102055, 0.00063279, 0.00162615,\n",
       "        0.00196127, 0.0064984 , 0.00080065, 0.00040054, 0.00116775,\n",
       "        0.00581553, 0.00303573, 0.00706603, 0.00271534, 0.06158965,\n",
       "        0.0018569 , 0.00303603, 0.0105055 , 0.00253184, 0.06049761]),\n",
       " 'param_n_estimators': masked_array(data=[1400, 2000, 400, 600, 1400, 600, 1200, 400, 1200, 400,\n",
       "                    1800, 1200, 1600, 1400, 1000, 1400, 1400, 1600, 1400,\n",
       "                    1200],\n",
       "              mask=[False, False, False, False, False, False, False, False,\n",
       "                    False, False, False, False, False, False, False, False,\n",
       "                    False, False, False, False],\n",
       "        fill_value='?',\n",
       "             dtype=object),\n",
       " 'param_min_samples_split': masked_array(data=[2, 10, 10, 2, 2, 2, 2, 2, 2, 2, 5, 10, 2, 5, 2, 5, 5,\n",
       "                    5, 2, 5],\n",
       "              mask=[False, False, False, False, False, False, False, False,\n",
       "                    False, False, False, False, False, False, False, False,\n",
       "                    False, False, False, False],\n",
       "        fill_value='?',\n",
       "             dtype=object),\n",
       " 'param_min_samples_leaf': masked_array(data=[1, 2, 1, 1, 4, 2, 1, 2, 2, 4, 2, 1, 4, 1, 2, 2, 1, 1,\n",
       "                    1, 4],\n",
       "              mask=[False, False, False, False, False, False, False, False,\n",
       "                    False, False, False, False, False, False, False, False,\n",
       "                    False, False, False, False],\n",
       "        fill_value='?',\n",
       "             dtype=object),\n",
       " 'param_max_features': masked_array(data=['auto', 'auto', 'sqrt', 'auto', 'auto', 'sqrt', 'auto',\n",
       "                    'auto', 'sqrt', 'sqrt', 'sqrt', 'auto', 'auto', 'auto',\n",
       "                    'auto', 'auto', 'sqrt', 'auto', 'sqrt', 'auto'],\n",
       "              mask=[False, False, False, False, False, False, False, False,\n",
       "                    False, False, False, False, False, False, False, False,\n",
       "                    False, False, False, False],\n",
       "        fill_value='?',\n",
       "             dtype=object),\n",
       " 'param_max_depth': masked_array(data=[30, 70, 40, 80, 70, 40, 20, 40, 10, 20, 70, None, 80,\n",
       "                    50, 30, 50, 70, 30, None, 40],\n",
       "              mask=[False, False, False, False, False, False, False, False,\n",
       "                    False, False, False, False, False, False, False, False,\n",
       "                    False, False, False, False],\n",
       "        fill_value='?',\n",
       "             dtype=object),\n",
       " 'param_bootstrap': masked_array(data=[True, False, True, False, True, False, False, False,\n",
       "                    True, True, True, False, True, True, True, False, True,\n",
       "                    True, False, False],\n",
       "              mask=[False, False, False, False, False, False, False, False,\n",
       "                    False, False, False, False, False, False, False, False,\n",
       "                    False, False, False, False],\n",
       "        fill_value='?',\n",
       "             dtype=object),\n",
       " 'params': [{'n_estimators': 1400,\n",
       "   'min_samples_split': 2,\n",
       "   'min_samples_leaf': 1,\n",
       "   'max_features': 'auto',\n",
       "   'max_depth': 30,\n",
       "   'bootstrap': True},\n",
       "  {'n_estimators': 2000,\n",
       "   'min_samples_split': 10,\n",
       "   'min_samples_leaf': 2,\n",
       "   'max_features': 'auto',\n",
       "   'max_depth': 70,\n",
       "   'bootstrap': False},\n",
       "  {'n_estimators': 400,\n",
       "   'min_samples_split': 10,\n",
       "   'min_samples_leaf': 1,\n",
       "   'max_features': 'sqrt',\n",
       "   'max_depth': 40,\n",
       "   'bootstrap': True},\n",
       "  {'n_estimators': 600,\n",
       "   'min_samples_split': 2,\n",
       "   'min_samples_leaf': 1,\n",
       "   'max_features': 'auto',\n",
       "   'max_depth': 80,\n",
       "   'bootstrap': False},\n",
       "  {'n_estimators': 1400,\n",
       "   'min_samples_split': 2,\n",
       "   'min_samples_leaf': 4,\n",
       "   'max_features': 'auto',\n",
       "   'max_depth': 70,\n",
       "   'bootstrap': True},\n",
       "  {'n_estimators': 600,\n",
       "   'min_samples_split': 2,\n",
       "   'min_samples_leaf': 2,\n",
       "   'max_features': 'sqrt',\n",
       "   'max_depth': 40,\n",
       "   'bootstrap': False},\n",
       "  {'n_estimators': 1200,\n",
       "   'min_samples_split': 2,\n",
       "   'min_samples_leaf': 1,\n",
       "   'max_features': 'auto',\n",
       "   'max_depth': 20,\n",
       "   'bootstrap': False},\n",
       "  {'n_estimators': 400,\n",
       "   'min_samples_split': 2,\n",
       "   'min_samples_leaf': 2,\n",
       "   'max_features': 'auto',\n",
       "   'max_depth': 40,\n",
       "   'bootstrap': False},\n",
       "  {'n_estimators': 1200,\n",
       "   'min_samples_split': 2,\n",
       "   'min_samples_leaf': 2,\n",
       "   'max_features': 'sqrt',\n",
       "   'max_depth': 10,\n",
       "   'bootstrap': True},\n",
       "  {'n_estimators': 400,\n",
       "   'min_samples_split': 2,\n",
       "   'min_samples_leaf': 4,\n",
       "   'max_features': 'sqrt',\n",
       "   'max_depth': 20,\n",
       "   'bootstrap': True},\n",
       "  {'n_estimators': 1800,\n",
       "   'min_samples_split': 5,\n",
       "   'min_samples_leaf': 2,\n",
       "   'max_features': 'sqrt',\n",
       "   'max_depth': 70,\n",
       "   'bootstrap': True},\n",
       "  {'n_estimators': 1200,\n",
       "   'min_samples_split': 10,\n",
       "   'min_samples_leaf': 1,\n",
       "   'max_features': 'auto',\n",
       "   'max_depth': None,\n",
       "   'bootstrap': False},\n",
       "  {'n_estimators': 1600,\n",
       "   'min_samples_split': 2,\n",
       "   'min_samples_leaf': 4,\n",
       "   'max_features': 'auto',\n",
       "   'max_depth': 80,\n",
       "   'bootstrap': True},\n",
       "  {'n_estimators': 1400,\n",
       "   'min_samples_split': 5,\n",
       "   'min_samples_leaf': 1,\n",
       "   'max_features': 'auto',\n",
       "   'max_depth': 50,\n",
       "   'bootstrap': True},\n",
       "  {'n_estimators': 1000,\n",
       "   'min_samples_split': 2,\n",
       "   'min_samples_leaf': 2,\n",
       "   'max_features': 'auto',\n",
       "   'max_depth': 30,\n",
       "   'bootstrap': True},\n",
       "  {'n_estimators': 1400,\n",
       "   'min_samples_split': 5,\n",
       "   'min_samples_leaf': 2,\n",
       "   'max_features': 'auto',\n",
       "   'max_depth': 50,\n",
       "   'bootstrap': False},\n",
       "  {'n_estimators': 1400,\n",
       "   'min_samples_split': 5,\n",
       "   'min_samples_leaf': 1,\n",
       "   'max_features': 'sqrt',\n",
       "   'max_depth': 70,\n",
       "   'bootstrap': True},\n",
       "  {'n_estimators': 1600,\n",
       "   'min_samples_split': 5,\n",
       "   'min_samples_leaf': 1,\n",
       "   'max_features': 'auto',\n",
       "   'max_depth': 30,\n",
       "   'bootstrap': True},\n",
       "  {'n_estimators': 1400,\n",
       "   'min_samples_split': 2,\n",
       "   'min_samples_leaf': 1,\n",
       "   'max_features': 'sqrt',\n",
       "   'max_depth': None,\n",
       "   'bootstrap': False},\n",
       "  {'n_estimators': 1200,\n",
       "   'min_samples_split': 5,\n",
       "   'min_samples_leaf': 4,\n",
       "   'max_features': 'auto',\n",
       "   'max_depth': 40,\n",
       "   'bootstrap': False}],\n",
       " 'split0_test_score': array([0.85067873, 0.86877828, 0.85972851, 0.85520362, 0.87782805,\n",
       "        0.86425339, 0.85067873, 0.86425339, 0.85972851, 0.87782805,\n",
       "        0.85520362, 0.85972851, 0.87330317, 0.85520362, 0.85972851,\n",
       "        0.86425339, 0.85520362, 0.85067873, 0.85520362, 0.85520362]),\n",
       " 'split1_test_score': array([0.84615385, 0.85972851, 0.84615385, 0.85520362, 0.85972851,\n",
       "        0.86425339, 0.85067873, 0.85067873, 0.85972851, 0.85520362,\n",
       "        0.85520362, 0.85520362, 0.85972851, 0.85067873, 0.85520362,\n",
       "        0.84615385, 0.85067873, 0.85067873, 0.85067873, 0.85520362]),\n",
       " 'split2_test_score': array([0.85      , 0.81818182, 0.83636364, 0.85      , 0.81818182,\n",
       "        0.82727273, 0.85      , 0.84090909, 0.85      , 0.83181818,\n",
       "        0.85      , 0.81818182, 0.83181818, 0.85454545, 0.85      ,\n",
       "        0.83636364, 0.85454545, 0.85      , 0.85454545, 0.82272727]),\n",
       " 'split3_test_score': array([0.85      , 0.86818182, 0.87272727, 0.83636364, 0.87272727,\n",
       "        0.85      , 0.84090909, 0.85454545, 0.85      , 0.87272727,\n",
       "        0.85454545, 0.85909091, 0.87727273, 0.84545455, 0.85      ,\n",
       "        0.86363636, 0.84090909, 0.84545455, 0.84545455, 0.85909091]),\n",
       " 'split4_test_score': array([0.85909091, 0.83181818, 0.83181818, 0.86818182, 0.84090909,\n",
       "        0.85454545, 0.86363636, 0.85909091, 0.86363636, 0.83181818,\n",
       "        0.87272727, 0.84090909, 0.84090909, 0.85909091, 0.86818182,\n",
       "        0.85454545, 0.85454545, 0.86363636, 0.87272727, 0.83636364]),\n",
       " 'mean_test_score': array([0.8511847 , 0.84933772, 0.84935829, 0.85299054, 0.85387495,\n",
       "        0.85206499, 0.85118058, 0.85389552, 0.85661868, 0.85387906,\n",
       "        0.85753599, 0.84662279, 0.85660633, 0.85299465, 0.85662279,\n",
       "        0.85299054, 0.85117647, 0.85208968, 0.85572193, 0.84571781]),\n",
       " 'std_test_score': array([0.00426335, 0.0205846 , 0.01510255, 0.01025639, 0.02193417,\n",
       "        0.01358078, 0.00724634, 0.0079208 , 0.00558934, 0.01951373,\n",
       "        0.00784078, 0.01576312, 0.01775662, 0.00461878, 0.00682632,\n",
       "        0.01063765, 0.00537745, 0.00609425, 0.00918354, 0.01396328]),\n",
       " 'rank_test_score': array([14, 18, 17, 11,  8, 13, 15,  6,  3,  7,  1, 19,  4,  9,  2, 10, 16,\n",
       "        12,  5, 20])}"
      ]
     },
     "execution_count": 835,
     "metadata": {},
     "output_type": "execute_result"
    }
   ],
   "source": [
    "clf1.cv_results_"
   ]
  },
  {
   "cell_type": "code",
   "execution_count": 836,
   "metadata": {
    "scrolled": false
   },
   "outputs": [
    {
     "data": {
      "text/plain": [
       "{'n_estimators': 1800,\n",
       " 'min_samples_split': 5,\n",
       " 'min_samples_leaf': 2,\n",
       " 'max_features': 'sqrt',\n",
       " 'max_depth': 70,\n",
       " 'bootstrap': True}"
      ]
     },
     "execution_count": 836,
     "metadata": {},
     "output_type": "execute_result"
    }
   ],
   "source": [
    "clf1.best_params_"
   ]
  },
  {
   "cell_type": "code",
   "execution_count": 75,
   "metadata": {},
   "outputs": [
    {
     "name": "stdout",
     "output_type": "stream",
     "text": [
      "[[305   3]\n",
      " [ 50  10]]\n",
      "              precision    recall  f1-score   support\n",
      "\n",
      "           0       0.86      0.99      0.92       308\n",
      "           1       0.77      0.17      0.27        60\n",
      "\n",
      "    accuracy                           0.86       368\n",
      "   macro avg       0.81      0.58      0.60       368\n",
      "weighted avg       0.84      0.86      0.81       368\n",
      "\n"
     ]
    },
    {
     "data": {
      "image/png": "[encoded data removed]",
      "text/plain": [
       "<Figure size 432x288 with 1 Axes>"
      ]
     },
     "metadata": {
      "needs_background": "light"
     },
     "output_type": "display_data"
    }
   ],
   "source": [
    "rf4 = RandomForestClassifier(class_weight = 'balanced', bootstrap = True,\n",
    " max_depth = None,\n",
    " max_features = 'auto',\n",
    " min_samples_leaf =  1,\n",
    " min_samples_split =  5,\n",
    " n_estimators = 1800)\n",
    "rf4.fit(X_train, y_train.values.ravel())\n",
    "train_predict5 = rf4.predict(X_train)\n",
    "rf_pred4 = rf4.predict(X_test)\n",
    "print(confusion_matrix(y_test,rf_pred4))\n",
    "print(classification_report(y_test, rf_pred4))\n",
    "plot_roc_curve(rf4, X_test, y_test)"
   ]
  },
  {
   "cell_type": "markdown",
   "metadata": {},
   "source": [
    "# RF 4 Results: \n",
    "## F1 Score: 0.297 AUC: 78"
   ]
  },
  {
   "cell_type": "markdown",
   "metadata": {},
   "source": [
    "# Random Forest 5"
   ]
  },
  {
   "cell_type": "markdown",
   "metadata": {},
   "source": [
    "### A max depth of None likely leads to over fitting so I'm going to try several different values for max depth Number of estimators might also be too large."
   ]
  },
  {
   "cell_type": "code",
   "execution_count": 838,
   "metadata": {
    "scrolled": true
   },
   "outputs": [
    {
     "data": {
      "text/plain": [
       "GridSearchCV(cv=5,\n",
       "             estimator=RandomForestClassifier(class_weight='balanced',\n",
       "                                              min_samples_split=5,\n",
       "                                              n_estimators=1800),\n",
       "             param_grid={'max_depth': [1, 2, 3, 5, 7, 10, 15]})"
      ]
     },
     "execution_count": 838,
     "metadata": {},
     "output_type": "execute_result"
    }
   ],
   "source": [
    "clf2 = GridSearchCV(model5, {'max_depth': [1,2,3,5,7,10,15]}, cv = 5)\n",
    "clf2.fit(X_train, y_train.values.ravel())"
   ]
  },
  {
   "cell_type": "code",
   "execution_count": 839,
   "metadata": {},
   "outputs": [
    {
     "data": {
      "text/plain": [
       "{'mean_fit_time': array([1.86409187, 1.98840461, 2.14014206, 2.36374516, 2.58034153,\n",
       "        2.7563014 , 2.82736578]),\n",
       " 'std_fit_time': array([0.01490808, 0.0149076 , 0.02627143, 0.0306846 , 0.0250425 ,\n",
       "        0.01962823, 0.05323597]),\n",
       " 'mean_score_time': array([0.11590495, 0.11730614, 0.15273871, 0.12331166, 0.13091874,\n",
       "        0.13612356, 0.13732476]),\n",
       " 'std_score_time': array([0.00722876, 0.00147135, 0.06337121, 0.00312696, 0.00343239,\n",
       "        0.00415106, 0.00240215]),\n",
       " 'param_max_depth': masked_array(data=[1, 2, 3, 5, 7, 10, 15],\n",
       "              mask=[False, False, False, False, False, False, False],\n",
       "        fill_value='?',\n",
       "             dtype=object),\n",
       " 'params': [{'max_depth': 1},\n",
       "  {'max_depth': 2},\n",
       "  {'max_depth': 3},\n",
       "  {'max_depth': 5},\n",
       "  {'max_depth': 7},\n",
       "  {'max_depth': 10},\n",
       "  {'max_depth': 15}],\n",
       " 'split0_test_score': array([0.74208145, 0.76923077, 0.78280543, 0.83257919, 0.85972851,\n",
       "        0.85972851, 0.85520362]),\n",
       " 'split1_test_score': array([0.78280543, 0.78733032, 0.83257919, 0.85067873, 0.86425339,\n",
       "        0.85520362, 0.85520362]),\n",
       " 'split2_test_score': array([0.76363636, 0.78636364, 0.79090909, 0.81363636, 0.82272727,\n",
       "        0.85454545, 0.85      ]),\n",
       " 'split3_test_score': array([0.74545455, 0.77727273, 0.78181818, 0.86818182, 0.87272727,\n",
       "        0.84545455, 0.84545455]),\n",
       " 'split4_test_score': array([0.75454545, 0.79090909, 0.80454545, 0.83636364, 0.83636364,\n",
       "        0.86363636, 0.86363636]),\n",
       " 'mean_test_score': array([0.75770465, 0.78222131, 0.79853147, 0.84028795, 0.85116002,\n",
       "        0.8557137 , 0.85389963]),\n",
       " 'std_test_score': array([0.01462439, 0.00789913, 0.0188688 , 0.01828206, 0.01864058,\n",
       "        0.00609529, 0.00607834]),\n",
       " 'rank_test_score': array([7, 6, 5, 4, 3, 1, 2])}"
      ]
     },
     "execution_count": 839,
     "metadata": {},
     "output_type": "execute_result"
    }
   ],
   "source": [
    "clf2.cv_results_"
   ]
  },
  {
   "cell_type": "code",
   "execution_count": 840,
   "metadata": {},
   "outputs": [
    {
     "name": "stdout",
     "output_type": "stream",
     "text": [
      "[range(0, 10)]\n"
     ]
    }
   ],
   "source": [
    "test_values = [range(10)]\n",
    "print(test_values)"
   ]
  },
  {
   "cell_type": "code",
   "execution_count": 841,
   "metadata": {
    "scrolled": true
   },
   "outputs": [
    {
     "data": {
      "image/png": "[encoded data removed]",
      "text/plain": [
       "<Figure size 432x288 with 1 Axes>"
      ]
     },
     "metadata": {
      "needs_background": "light"
     },
     "output_type": "display_data"
    }
   ],
   "source": [
    "hyper_parameter_visual(rf2, clf1.best_params_, 'max_depth', [1, 2, 3, 5, 7, 10, 15], X_train, X_test, y_train.values.ravel(), y_test.values.ravel())"
   ]
  },
  {
   "cell_type": "markdown",
   "metadata": {},
   "source": [
    "Indicates a max depth of two or three is most informative."
   ]
  },
  {
   "cell_type": "code",
   "execution_count": 842,
   "metadata": {},
   "outputs": [],
   "source": [
    "random_params1 = {'bootstrap': [True, False],\n",
    " 'max_depth': [2,3],\n",
    " 'max_features': ['auto', 'sqrt'],\n",
    " 'min_samples_leaf': [1, 2, 4],\n",
    " 'min_samples_split': [2, 5, 10],\n",
    " 'n_estimators': [200, 400, 600, 800, 1000]}"
   ]
  },
  {
   "cell_type": "code",
   "execution_count": 843,
   "metadata": {},
   "outputs": [],
   "source": [
    "clf3 = RandomizedSearchCV(model3, random_params1 ,n_iter = 20, cv = 5)"
   ]
  },
  {
   "cell_type": "code",
   "execution_count": 844,
   "metadata": {},
   "outputs": [
    {
     "data": {
      "text/plain": [
       "RandomizedSearchCV(cv=5,\n",
       "                   estimator=RandomForestClassifier(class_weight='balanced',\n",
       "                                                    max_depth=3,\n",
       "                                                    min_samples_leaf=5,\n",
       "                                                    n_estimators=1200),\n",
       "                   n_iter=20,\n",
       "                   param_distributions={'bootstrap': [True, False],\n",
       "                                        'max_depth': [2, 3],\n",
       "                                        'max_features': ['auto', 'sqrt'],\n",
       "                                        'min_samples_leaf': [1, 2, 4],\n",
       "                                        'min_samples_split': [2, 5, 10],\n",
       "                                        'n_estimators': [200, 400, 600, 800,\n",
       "                                                         1000]})"
      ]
     },
     "execution_count": 844,
     "metadata": {},
     "output_type": "execute_result"
    }
   ],
   "source": [
    "clf3.fit(X_train, y_train.values.ravel())"
   ]
  },
  {
   "cell_type": "code",
   "execution_count": 845,
   "metadata": {},
   "outputs": [
    {
     "data": {
      "text/plain": [
       "{'n_estimators': 1000,\n",
       " 'min_samples_split': 2,\n",
       " 'min_samples_leaf': 2,\n",
       " 'max_features': 'sqrt',\n",
       " 'max_depth': 3,\n",
       " 'bootstrap': True}"
      ]
     },
     "execution_count": 845,
     "metadata": {},
     "output_type": "execute_result"
    }
   ],
   "source": [
    "clf3.best_params_"
   ]
  },
  {
   "cell_type": "code",
   "execution_count": 846,
   "metadata": {},
   "outputs": [],
   "source": [
    "random_params_test = {'bootstrap': True,\n",
    " 'max_depth': 3,\n",
    " 'max_features': 'auto',\n",
    " 'min_samples_leaf': 5,\n",
    " 'min_samples_split': 2,\n",
    " 'n_estimators': 30}"
   ]
  },
  {
   "cell_type": "code",
   "execution_count": 847,
   "metadata": {
    "scrolled": true
   },
   "outputs": [
    {
     "data": {
      "image/png": "[encoded data removed]",
      "text/plain": [
       "<Figure size 432x288 with 1 Axes>"
      ]
     },
     "metadata": {
      "needs_background": "light"
     },
     "output_type": "display_data"
    }
   ],
   "source": [
    "hyper_parameter_visual(rf2, random_params2, 'min_samples_leaf', [1, 2, 3, 5, 7, 10,12, 15], X_train, X_test, y_train.values.ravel(), y_test.values.ravel())"
   ]
  },
  {
   "cell_type": "code",
   "execution_count": 848,
   "metadata": {
    "scrolled": true
   },
   "outputs": [
    {
     "data": {
      "image/png": "[encoded data removed]",
      "text/plain": [
       "<Figure size 432x288 with 1 Axes>"
      ]
     },
     "metadata": {
      "needs_background": "light"
     },
     "output_type": "display_data"
    }
   ],
   "source": [
    "hyper_parameter_visual(rf2, random_params_test, 'n_estimators', [10,20,30,40,50, 100, 200, 400, 800,1200], X_train, X_test, y_train.values.ravel(), y_test.values.ravel())"
   ]
  },
  {
   "cell_type": "code",
   "execution_count": 849,
   "metadata": {},
   "outputs": [
    {
     "name": "stdout",
     "output_type": "stream",
     "text": [
      "[[260  48]\n",
      " [ 31  29]]\n",
      "              precision    recall  f1-score   support\n",
      "\n",
      "           0       0.89      0.84      0.87       308\n",
      "           1       0.38      0.48      0.42        60\n",
      "\n",
      "    accuracy                           0.79       368\n",
      "   macro avg       0.64      0.66      0.65       368\n",
      "weighted avg       0.81      0.79      0.80       368\n",
      "\n"
     ]
    },
    {
     "data": {
      "text/plain": [
       "<sklearn.metrics._plot.roc_curve.RocCurveDisplay at 0x2054408f548>"
      ]
     },
     "execution_count": 849,
     "metadata": {},
     "output_type": "execute_result"
    },
    {
     "data": {
      "image/png": "[encoded data removed]",
      "text/plain": [
       "<Figure size 432x288 with 1 Axes>"
      ]
     },
     "metadata": {
      "needs_background": "light"
     },
     "output_type": "display_data"
    }
   ],
   "source": [
    "rf5 = RandomForestClassifier(class_weight = 'balanced', bootstrap = True,\n",
    " max_depth = 3,\n",
    " max_features = 'auto',\n",
    " min_samples_leaf =  5,\n",
    " min_samples_split =  2,\n",
    " n_estimators = 30)\n",
    "rf5.fit(X_train, y_train.values.ravel())\n",
    "train_predict6 = rf5.predict(X_train)\n",
    "rf_pred5 = rf5.predict(X_test)\n",
    "print(confusion_matrix(y_test, rf_pred5))\n",
    "print(classification_report(y_test, rf_pred5))\n",
    "plot_roc_curve(rf5, X_test, y_test)"
   ]
  },
  {
   "cell_type": "markdown",
   "metadata": {},
   "source": [
    "This randomforest has a lower AUC then the rest. It attempts to classify more objects as attrition cases but correctly classifies just more than half while also misclassifying a significant amount of non attrition cases."
   ]
  },
  {
   "cell_type": "markdown",
   "metadata": {},
   "source": [
    "# RF 5 Results: \n",
    "## F1 Score: 0.30 AUC = .76"
   ]
  },
  {
   "cell_type": "markdown",
   "metadata": {},
   "source": [
    "# XGBoost"
   ]
  },
  {
   "cell_type": "markdown",
   "metadata": {},
   "source": [
    "## XG Boost Model 1"
   ]
  },
  {
   "cell_type": "code",
   "execution_count": 77,
   "metadata": {},
   "outputs": [],
   "source": [
    "import xgboost as xgb"
   ]
  },
  {
   "cell_type": "code",
   "execution_count": 78,
   "metadata": {
    "scrolled": true
   },
   "outputs": [
    {
     "name": "stdout",
     "output_type": "stream",
     "text": [
      "[14:19:13] WARNING: ..\\src\\learner.cc:1095: Starting in XGBoost 1.3.0, the default evaluation metric used with the objective 'binary:logistic' was changed from 'error' to 'logloss'. Explicitly set eval_metric if you'd like to restore the old behavior.\n",
      "[[304   4]\n",
      " [ 46  14]]\n",
      "              precision    recall  f1-score   support\n",
      "\n",
      "           0       0.87      0.99      0.92       308\n",
      "           1       0.78      0.23      0.36        60\n",
      "\n",
      "    accuracy                           0.86       368\n",
      "   macro avg       0.82      0.61      0.64       368\n",
      "weighted avg       0.85      0.86      0.83       368\n",
      "\n"
     ]
    },
    {
     "name": "stderr",
     "output_type": "stream",
     "text": [
      "C:\\Users\\Allen\\anaconda3\\lib\\site-packages\\xgboost\\data.py:114: UserWarning: Use subset (sliced data) of np.ndarray is not recommended because it will generate extra copies and increase memory consumption\n",
      "  \"because it will generate extra copies and increase \" +\n"
     ]
    },
    {
     "data": {
      "text/plain": [
       "<sklearn.metrics._plot.roc_curve.RocCurveDisplay at 0x1b1a923b708>"
      ]
     },
     "execution_count": 78,
     "metadata": {},
     "output_type": "execute_result"
    },
    {
     "data": {
      "image/png": "[encoded data removed]",
      "text/plain": [
       "<Figure size 432x288 with 1 Axes>"
      ]
     },
     "metadata": {
      "needs_background": "light"
     },
     "output_type": "display_data"
    }
   ],
   "source": [
    "xgb1 = xgb.XGBClassifier(objective = 'binary:logistic', n_estimators = 10, use_label_encoder = False)\n",
    "xgb1.fit(X_train, y_train)\n",
    "xgb_pred1 = xgb1.predict(X_test)\n",
    "print(confusion_matrix(y_test,xgb_pred1))\n",
    "print(classification_report(y_test,xgb_pred1))\n",
    "plot_roc_curve(xgb1, X_test, y_test)"
   ]
  },
  {
   "cell_type": "code",
   "execution_count": 79,
   "metadata": {},
   "outputs": [],
   "source": [
    "xgb_params = {\n",
    "'learning_rate' : [.01, .05, .1, .2, .3, .5, .75, 1], \n",
    "'max_depth' : [1,2,3,4,5,6,7,8,9,10],\n",
    "'min_child_weight' : [1,1.5,2,5,10],\n",
    "'gama' : [0, .25, .5, .75, 1],\n",
    " 'subsample' : [.5,.75,1],\n",
    "'colsample_bytree' : [.5,.75,1]\n",
    "}"
   ]
  },
  {
   "cell_type": "markdown",
   "metadata": {},
   "source": [
    "## XG Boost Model 2"
   ]
  },
  {
   "cell_type": "markdown",
   "metadata": {},
   "source": [
    "### Tried random search for XGBoost"
   ]
  },
  {
   "cell_type": "code",
   "execution_count": 853,
   "metadata": {},
   "outputs": [
    {
     "name": "stderr",
     "output_type": "stream",
     "text": [
      "C:\\Users\\Allen\\anaconda3\\lib\\site-packages\\xgboost\\data.py:114: UserWarning: Use subset (sliced data) of np.ndarray is not recommended because it will generate extra copies and increase memory consumption\n",
      "  \"because it will generate extra copies and increase \" +\n"
     ]
    },
    {
     "name": "stdout",
     "output_type": "stream",
     "text": [
      "Best params:  {'subsample': 0.75, 'min_child_weight': 5, 'max_depth': 4, 'learning_rate': 0.5, 'gama': 0.75, 'colsample_bytree': 1}\n",
      "Best score:  0.8656972439325381\n"
     ]
    }
   ],
   "source": [
    "clf5 = RandomizedSearchCV(xgb1, xgb_params ,n_iter = 50, cv = 5)\n",
    "clf5.fit(X_train, y_train.values.ravel())\n",
    "print('Best params: ', clf5.best_params_)\n",
    "print('Best score: ', clf5.best_score_)"
   ]
  },
  {
   "cell_type": "markdown",
   "metadata": {},
   "source": [
    "### Created model with best parameters"
   ]
  },
  {
   "cell_type": "code",
   "execution_count": 854,
   "metadata": {
    "scrolled": false
   },
   "outputs": [
    {
     "data": {
      "text/plain": [
       "{'subsample': 0.75,\n",
       " 'min_child_weight': 5,\n",
       " 'max_depth': 4,\n",
       " 'learning_rate': 0.5,\n",
       " 'gama': 0.75,\n",
       " 'colsample_bytree': 1}"
      ]
     },
     "execution_count": 854,
     "metadata": {},
     "output_type": "execute_result"
    }
   ],
   "source": [
    "clf5.best_params_"
   ]
  },
  {
   "cell_type": "code",
   "execution_count": 81,
   "metadata": {},
   "outputs": [],
   "source": [
    "xgb_params1 = {'subsample': 1,\n",
    " 'min_child_weight': 10,\n",
    " 'max_depth': 8,\n",
    " 'learning_rate': 0.5,\n",
    " 'gama': 0,\n",
    " 'colsample_bytree': 1}"
   ]
  },
  {
   "cell_type": "code",
   "execution_count": 82,
   "metadata": {
    "scrolled": true
   },
   "outputs": [
    {
     "name": "stdout",
     "output_type": "stream",
     "text": [
      "[[304   4]\n",
      " [ 46  14]]\n",
      "              precision    recall  f1-score   support\n",
      "\n",
      "           0       0.87      0.99      0.92       308\n",
      "           1       0.78      0.23      0.36        60\n",
      "\n",
      "    accuracy                           0.86       368\n",
      "   macro avg       0.82      0.61      0.64       368\n",
      "weighted avg       0.85      0.86      0.83       368\n",
      "\n"
     ]
    },
    {
     "name": "stderr",
     "output_type": "stream",
     "text": [
      "C:\\Users\\Allen\\anaconda3\\lib\\site-packages\\xgboost\\data.py:114: UserWarning: Use subset (sliced data) of np.ndarray is not recommended because it will generate extra copies and increase memory consumption\n",
      "  \"because it will generate extra copies and increase \" +\n"
     ]
    },
    {
     "data": {
      "image/png": "[encoded data removed]",
      "text/plain": [
       "<Figure size 432x288 with 1 Axes>"
      ]
     },
     "metadata": {
      "needs_background": "light"
     },
     "output_type": "display_data"
    }
   ],
   "source": [
    "xgb2 = xgb.XGBClassifier(objective = 'binary:logistic', n_estimators = 10, params = xgb_params1, verbosity = 0, use_label_encoder = False)\n",
    "xgb2.fit(X_train, y_train)\n",
    "xgb_pred2 = xgb2.predict(X_test)\n",
    "print(confusion_matrix(y_test,xgb_pred2))\n",
    "print(classification_report(y_test,xgb_pred2))\n",
    "plot_roc_curve(xgb2, X_test, y_test)"
   ]
  },
  {
   "cell_type": "markdown",
   "metadata": {},
   "source": [
    "### Model no different from previous models. Will now attempt graphing changes in generalizability"
   ]
  },
  {
   "cell_type": "markdown",
   "metadata": {},
   "source": [
    "## XGB Model 2 Results:\n",
    "## f1 score: .36 AUC: .78"
   ]
  },
  {
   "cell_type": "markdown",
   "metadata": {},
   "source": [
    " "
   ]
  },
  {
   "cell_type": "markdown",
   "metadata": {},
   "source": [
    "## XG Boost Model 3"
   ]
  },
  {
   "cell_type": "code",
   "execution_count": 857,
   "metadata": {},
   "outputs": [],
   "source": [
    "xgb_params = {\n",
    "'learning_rate' : [.01, .05, .1, .2, .3, .5, .75, 1], \n",
    "'max_depth' : [1,2,3,4,5,6,7,8,9,10],\n",
    "'min_child_weight' : [1,1.5,2,5,10],\n",
    "'gama' : [0, .25, .5, .75, 1],\n",
    " 'subsample' : [.5,.75,1],\n",
    "'colsample_bytree' : [.5,.75,1]\n",
    "}"
   ]
  },
  {
   "cell_type": "code",
   "execution_count": 858,
   "metadata": {
    "scrolled": true
   },
   "outputs": [
    {
     "name": "stderr",
     "output_type": "stream",
     "text": [
      "C:\\Users\\Allen\\anaconda3\\lib\\site-packages\\xgboost\\data.py:114: UserWarning: Use subset (sliced data) of np.ndarray is not recommended because it will generate extra copies and increase memory consumption\n",
      "  \"because it will generate extra copies and increase \" +\n"
     ]
    },
    {
     "data": {
      "image/png": "[encoded data removed]",
      "text/plain": [
       "<Figure size 1080x2160 with 6 Axes>"
      ]
     },
     "metadata": {
      "needs_background": "light"
     },
     "output_type": "display_data"
    }
   ],
   "source": [
    "fig = plt.figure(figsize = (15,30))\n",
    "for metric, value_list, number in zip(xgb_params.keys(), xgb_params.values(), range(1,7)):\n",
    "    sub1 = fig.add_subplot(6,1,number)\n",
    "    hyper_parameter_visual(xgb2, xgb_params1, metric, value_list, X_train, X_test, y_train.values.ravel(), y_test.values.ravel())\n",
    "    plt.title(metric)\n",
    "    plt.xlabel(' ')"
   ]
  },
  {
   "cell_type": "code",
   "execution_count": null,
   "metadata": {},
   "outputs": [],
   "source": []
  },
  {
   "cell_type": "code",
   "execution_count": 34,
   "metadata": {},
   "outputs": [
    {
     "ename": "NameError",
     "evalue": "name 'getcwd' is not defined",
     "output_type": "error",
     "traceback": [
      "\u001b[1;31m---------------------------------------------------------------------------\u001b[0m",
      "\u001b[1;31mNameError\u001b[0m                                 Traceback (most recent call last)",
      "\u001b[1;32m<ipython-input-34-80c72379bb65>\u001b[0m in \u001b[0;36m<module>\u001b[1;34m\u001b[0m\n\u001b[1;32m----> 1\u001b[1;33m \u001b[0mgetcwd\u001b[0m\u001b[1;33m(\u001b[0m\u001b[1;33m)\u001b[0m\u001b[1;33m\u001b[0m\u001b[1;33m\u001b[0m\u001b[0m\n\u001b[0m",
      "\u001b[1;31mNameError\u001b[0m: name 'getcwd' is not defined"
     ]
    }
   ],
   "source": [
    "getcwd()"
   ]
  },
  {
   "cell_type": "code",
   "execution_count": 31,
   "metadata": {
    "scrolled": true
   },
   "outputs": [
    {
     "data": {
      "image/png": "[encoded data removed]",
      "text/plain": [
       "<Figure size 432x288 with 1 Axes>"
      ]
     },
     "metadata": {
      "needs_background": "light"
     },
     "output_type": "display_data"
    }
   ],
   "source": [
    "hyper_parameter_visual(xgb2, xgb_params1, 'n_estimators', [10,25,50,100,150,200], X_train, X_test, y_train.values.ravel(), y_test.values.ravel())\n"
   ]
  },
  {
   "cell_type": "code",
   "execution_count": 84,
   "metadata": {},
   "outputs": [],
   "source": [
    "xgb_params2 = {'subsample': .75,\n",
    " 'min_child_weight': 4,\n",
    " 'max_depth': 8,\n",
    " 'learning_rate': 0.7,\n",
    " 'gama': 0,\n",
    " 'colsample_bytree': .5}"
   ]
  },
  {
   "cell_type": "code",
   "execution_count": 861,
   "metadata": {},
   "outputs": [
    {
     "name": "stdout",
     "output_type": "stream",
     "text": [
      "[[302   6]\n",
      " [ 45  15]]\n",
      "              precision    recall  f1-score   support\n",
      "\n",
      "           0       0.87      0.98      0.92       308\n",
      "           1       0.71      0.25      0.37        60\n",
      "\n",
      "    accuracy                           0.86       368\n",
      "   macro avg       0.79      0.62      0.65       368\n",
      "weighted avg       0.84      0.86      0.83       368\n",
      "\n"
     ]
    },
    {
     "data": {
      "text/plain": [
       "<sklearn.metrics._plot.roc_curve.RocCurveDisplay at 0x20544604788>"
      ]
     },
     "execution_count": 861,
     "metadata": {},
     "output_type": "execute_result"
    },
    {
     "data": {
      "image/png": "[encoded data removed]",
      "text/plain": [
       "<Figure size 432x288 with 1 Axes>"
      ]
     },
     "metadata": {
      "needs_background": "light"
     },
     "output_type": "display_data"
    }
   ],
   "source": [
    "xgb3 = xgb.XGBClassifier(objective = 'binary:logistic', n_estimators = 50, params = xgb_params2, verbosity = 0, use_label_encoder = False)\n",
    "xgb3.fit(X_train2, y_train)\n",
    "xgb_pred3 = xgb3.predict(X_test2)\n",
    "print(confusion_matrix(y_test,xgb_pred3))\n",
    "print(classification_report(y_test,xgb_pred3))\n",
    "plot_roc_curve(xgb3, X_test2, y_test)"
   ]
  },
  {
   "cell_type": "markdown",
   "metadata": {},
   "source": [
    "## XG Boost Model 4"
   ]
  },
  {
   "cell_type": "code",
   "execution_count": 862,
   "metadata": {
    "scrolled": false
   },
   "outputs": [
    {
     "data": {
      "text/plain": [
       "MultiIndex([(0,),\n",
       "            (1,)],\n",
       "           names=['Yes'])"
      ]
     },
     "execution_count": 862,
     "metadata": {},
     "output_type": "execute_result"
    }
   ],
   "source": [
    "y_train.value_counts().index"
   ]
  },
  {
   "cell_type": "code",
   "execution_count": 863,
   "metadata": {},
   "outputs": [
    {
     "data": {
      "text/plain": [
       "Yes\n",
       "1      0.808649\n",
       "dtype: float64"
      ]
     },
     "execution_count": 863,
     "metadata": {},
     "output_type": "execute_result"
    }
   ],
   "source": [
    "1 - (y_train.value_counts().loc[1] / y_train.value_counts().loc[0][0])"
   ]
  },
  {
   "cell_type": "code",
   "execution_count": 85,
   "metadata": {},
   "outputs": [
    {
     "name": "stdout",
     "output_type": "stream",
     "text": [
      "[[306   2]\n",
      " [ 47  13]]\n",
      "              precision    recall  f1-score   support\n",
      "\n",
      "           0       0.87      0.99      0.93       308\n",
      "           1       0.87      0.22      0.35        60\n",
      "\n",
      "    accuracy                           0.87       368\n",
      "   macro avg       0.87      0.61      0.64       368\n",
      "weighted avg       0.87      0.87      0.83       368\n",
      "\n"
     ]
    },
    {
     "name": "stderr",
     "output_type": "stream",
     "text": [
      "C:\\Users\\Allen\\anaconda3\\lib\\site-packages\\xgboost\\data.py:114: UserWarning: Use subset (sliced data) of np.ndarray is not recommended because it will generate extra copies and increase memory consumption\n",
      "  \"because it will generate extra copies and increase \" +\n"
     ]
    },
    {
     "data": {
      "image/png": "[encoded data removed]",
      "text/plain": [
       "<Figure size 432x288 with 1 Axes>"
      ]
     },
     "metadata": {
      "needs_background": "light"
     },
     "output_type": "display_data"
    }
   ],
   "source": [
    "xgb4 = xgb.XGBClassifier(objective = 'binary:logistic', n_estimators = 50, params = xgb_params2, verbosity = 0, scale_pos_weight = .3, use_label_encoder = False)\n",
    "xgb4.fit(X_train2, y_train)\n",
    "xgb_pred4 = xgb4.predict(X_test2)\n",
    "print(confusion_matrix(y_test,xgb_pred4))\n",
    "print(classification_report(y_test,xgb_pred4))\n",
    "plot_roc_curve(xgb4, X_test2, y_test)\n",
    "plt.savefig('Images/xgb4_auc', bbox_inches = 'tight')"
   ]
  },
  {
   "cell_type": "markdown",
   "metadata": {},
   "source": [
    "## Threshold Tuning"
   ]
  },
  {
   "cell_type": "code",
   "execution_count": 865,
   "metadata": {},
   "outputs": [],
   "source": [
    "probability = predicted_proba[0:,1]"
   ]
  },
  {
   "cell_type": "markdown",
   "metadata": {},
   "source": [
    "### Random Forest Model 5:"
   ]
  },
  {
   "cell_type": "code",
   "execution_count": 994,
   "metadata": {},
   "outputs": [
    {
     "name": "stdout",
     "output_type": "stream",
     "text": [
      "0.7038043478260869\n",
      "[[220  88]\n",
      " [ 21  39]]\n",
      "Precision:  0.30708661417322836\n",
      "Recall:  0.65\n"
     ]
    },
    {
     "data": {
      "text/plain": [
       "[<matplotlib.lines.Line2D at 0x2055284bd08>]"
      ]
     },
     "execution_count": 994,
     "metadata": {},
     "output_type": "execute_result"
    },
    {
     "data": {
      "image/png": "[encoded data removed]",
      "text/plain": [
       "<Figure size 432x288 with 1 Axes>"
      ]
     },
     "metadata": {
      "needs_background": "light"
     },
     "output_type": "display_data"
    }
   ],
   "source": [
    "threshold = 0.445\n",
    "\n",
    "predicted_proba = rf5.predict_proba(X_test)\n",
    "probability = predicted_proba[0:,1]\n",
    "predicted = (probability >= threshold).astype('int')\n",
    "\n",
    "accuracy = print(accuracy_score(y_test, predicted))\n",
    "print(confusion_matrix(y_test, predicted))\n",
    "print('Precision: ', confusion_matrix(y_test, predicted)[1][1]/(confusion_matrix(y_test, predicted)[1][1] + confusion_matrix(y_test, predicted)[0][1]))\n",
    "print('Recall: ', confusion_matrix(y_test, predicted)[1][1]/(confusion_matrix(y_test, predicted)[1][1] + confusion_matrix(y_test, predicted)[1][0]))\n",
    "precision, recall, thresholds = precision_recall_curve(y_test, probability)\n",
    "plt.plot(recall, precision)"
   ]
  },
  {
   "cell_type": "markdown",
   "metadata": {},
   "source": [
    "### Random Forest Model 4:"
   ]
  },
  {
   "cell_type": "code",
   "execution_count": 96,
   "metadata": {},
   "outputs": [
    {
     "name": "stdout",
     "output_type": "stream",
     "text": [
      "0.8369565217391305\n",
      "[[308   0]\n",
      " [ 60   0]]\n",
      "Precision:  nan\n",
      "Recall:  0.0\n"
     ]
    },
    {
     "name": "stderr",
     "output_type": "stream",
     "text": [
      "C:\\Users\\Allen\\anaconda3\\lib\\site-packages\\ipykernel_launcher.py:9: RuntimeWarning: invalid value encountered in longlong_scalars\n",
      "  if __name__ == '__main__':\n"
     ]
    },
    {
     "data": {
      "text/plain": [
       "[<matplotlib.lines.Line2D at 0x1b1aa6c52c8>]"
      ]
     },
     "execution_count": 96,
     "metadata": {},
     "output_type": "execute_result"
    },
    {
     "data": {
      "image/png": "[encoded data removed]",
      "text/plain": [
       "<Figure size 432x288 with 1 Axes>"
      ]
     },
     "metadata": {
      "needs_background": "light"
     },
     "output_type": "display_data"
    }
   ],
   "source": [
    "threshold = 0.75\n",
    "\n",
    "predicted_proba = rf4.predict_proba(X_test)\n",
    "probability = predicted_proba[0:,1]\n",
    "predicted = (probability >= threshold).astype('int')\n",
    "\n",
    "accuracy = print(accuracy_score(y_test, predicted))\n",
    "print(confusion_matrix(y_test, predicted))\n",
    "print('Precision: ', confusion_matrix(y_test, predicted)[1][1]/(confusion_matrix(y_test, predicted)[1][1] + confusion_matrix(y_test, predicted)[0][1]))\n",
    "print('Recall: ', confusion_matrix(y_test, predicted)[1][1]/(confusion_matrix(y_test, predicted)[1][1] + confusion_matrix(y_test, predicted)[1][0]))\n",
    "precision, recall, thresholds = precision_recall_curve(y_test, probability)\n",
    "plt.plot(recall, precision)"
   ]
  },
  {
   "cell_type": "markdown",
   "metadata": {},
   "source": [
    "### Logistic Regression Model 2:"
   ]
  },
  {
   "cell_type": "code",
   "execution_count": 90,
   "metadata": {},
   "outputs": [
    {
     "name": "stdout",
     "output_type": "stream",
     "text": [
      "0.8804347826086957\n",
      "[[293  15]\n",
      " [ 29  31]]\n",
      "Precision:  0.6739130434782609\n",
      "Recall:  0.5166666666666667\n"
     ]
    },
    {
     "data": {
      "text/plain": [
       "[<matplotlib.lines.Line2D at 0x1b1a6e66408>]"
      ]
     },
     "execution_count": 90,
     "metadata": {},
     "output_type": "execute_result"
    },
    {
     "data": {
      "image/png": "[encoded data removed]",
      "text/plain": [
       "<Figure size 432x288 with 1 Axes>"
      ]
     },
     "metadata": {
      "needs_background": "light"
     },
     "output_type": "display_data"
    }
   ],
   "source": [
    "threshold = 0.75\n",
    "\n",
    "predicted_proba = lr2.predict_proba(X_test2)\n",
    "probability = predicted_proba[0:,1]\n",
    "predicted = (probability >= threshold).astype('int')\n",
    "\n",
    "accuracy = print(accuracy_score(y_test, predicted))\n",
    "print(confusion_matrix(y_test, predicted))\n",
    "print('Precision: ', confusion_matrix(y_test, predicted)[1][1]/(confusion_matrix(y_test, predicted)[1][1] + confusion_matrix(y_test, predicted)[0][1]))\n",
    "print('Recall: ', confusion_matrix(y_test, predicted)[1][1]/(confusion_matrix(y_test, predicted)[1][1] + confusion_matrix(y_test, predicted)[1][0]))\n",
    "precision, recall, thresholds = precision_recall_curve(y_test, probability)\n",
    "plt.plot(recall, precision)"
   ]
  },
  {
   "cell_type": "markdown",
   "metadata": {},
   "source": [
    "### Logistic Regression Model 3:"
   ]
  },
  {
   "cell_type": "code",
   "execution_count": 969,
   "metadata": {
    "scrolled": true
   },
   "outputs": [
    {
     "name": "stdout",
     "output_type": "stream",
     "text": [
      "0.8315217391304348\n",
      "[[267  41]\n",
      " [ 21  39]]\n",
      "Precision:  0.4875\n",
      "Recall:  0.65\n"
     ]
    },
    {
     "data": {
      "text/plain": [
       "[<matplotlib.lines.Line2D at 0x205511769c8>]"
      ]
     },
     "execution_count": 969,
     "metadata": {},
     "output_type": "execute_result"
    },
    {
     "data": {
      "image/png": "[encoded data removed]",
      "text/plain": [
       "<Figure size 432x288 with 1 Axes>"
      ]
     },
     "metadata": {
      "needs_background": "light"
     },
     "output_type": "display_data"
    }
   ],
   "source": [
    "threshold = 0.60\n",
    "\n",
    "predicted_proba = lr3.predict_proba(X_test2)\n",
    "probability = predicted_proba[0:,1]\n",
    "predicted = (probability >= threshold).astype('int')\n",
    "\n",
    "accuracy = print(accuracy_score(y_test, predicted))\n",
    "print(confusion_matrix(y_test, predicted))\n",
    "print('Precision: ', confusion_matrix(y_test, predicted)[1][1]/(confusion_matrix(y_test, predicted)[1][1] + confusion_matrix(y_test, predicted)[0][1]))\n",
    "print('Recall: ', confusion_matrix(y_test, predicted)[1][1]/(confusion_matrix(y_test, predicted)[1][1] + confusion_matrix(y_test, predicted)[1][0]))\n",
    "precision, recall, thresholds = precision_recall_curve(y_test, probability)\n",
    "plt.plot(recall, precision)"
   ]
  },
  {
   "cell_type": "markdown",
   "metadata": {},
   "source": [
    "### XG Boost Model 3:"
   ]
  },
  {
   "cell_type": "code",
   "execution_count": 997,
   "metadata": {},
   "outputs": [
    {
     "name": "stdout",
     "output_type": "stream",
     "text": [
      "0.782608695652174\n",
      "[[249  59]\n",
      " [ 21  39]]\n",
      "Precision:  0.3979591836734694\n",
      "Recall:  0.65\n"
     ]
    },
    {
     "name": "stderr",
     "output_type": "stream",
     "text": [
      "C:\\Users\\Allen\\anaconda3\\lib\\site-packages\\xgboost\\data.py:114: UserWarning: Use subset (sliced data) of np.ndarray is not recommended because it will generate extra copies and increase memory consumption\n",
      "  \"because it will generate extra copies and increase \" +\n"
     ]
    },
    {
     "data": {
      "image/png": "[encoded data removed]",
      "text/plain": [
       "<Figure size 432x288 with 1 Axes>"
      ]
     },
     "metadata": {
      "needs_background": "light"
     },
     "output_type": "display_data"
    }
   ],
   "source": [
    "threshold = 0.06\n",
    "\n",
    "predicted_proba = xgb3.predict_proba(X_test2)\n",
    "probability = predicted_proba[0:,1]\n",
    "predicted = (probability >= threshold).astype('int')\n",
    "\n",
    "accuracy = print(accuracy_score(y_test, predicted))\n",
    "print(confusion_matrix(y_test, predicted))\n",
    "print('Precision: ', confusion_matrix(y_test, predicted)[1][1]/(confusion_matrix(y_test, predicted)[1][1] + confusion_matrix(y_test, predicted)[0][1]))\n",
    "print('Recall: ', confusion_matrix(y_test, predicted)[1][1]/(confusion_matrix(y_test, predicted)[1][1] + confusion_matrix(y_test, predicted)[1][0]))\n",
    "precision, recall, thresholds = precision_recall_curve(y_test, probability)\n",
    "plt.plot(recall, precision)"
   ]
  },
  {
   "cell_type": "markdown",
   "metadata": {},
   "source": [
    "### XG Boost Model 4:"
   ]
  },
  {
   "cell_type": "code",
   "execution_count": 93,
   "metadata": {
    "scrolled": false
   },
   "outputs": [
    {
     "name": "stdout",
     "output_type": "stream",
     "text": [
      "0.8505434782608695\n",
      "[[306   2]\n",
      " [ 53   7]]\n",
      "Precision:  0.7777777777777778\n",
      "Recall:  0.11666666666666667\n"
     ]
    },
    {
     "name": "stderr",
     "output_type": "stream",
     "text": [
      "C:\\Users\\Allen\\anaconda3\\lib\\site-packages\\xgboost\\data.py:114: UserWarning: Use subset (sliced data) of np.ndarray is not recommended because it will generate extra copies and increase memory consumption\n",
      "  \"because it will generate extra copies and increase \" +\n"
     ]
    },
    {
     "data": {
      "text/plain": [
       "[<matplotlib.lines.Line2D at 0x1b1aa5dc048>]"
      ]
     },
     "execution_count": 93,
     "metadata": {},
     "output_type": "execute_result"
    },
    {
     "data": {
      "image/png": "[encoded data removed]",
      "text/plain": [
       "<Figure size 432x288 with 1 Axes>"
      ]
     },
     "metadata": {
      "needs_background": "light"
     },
     "output_type": "display_data"
    }
   ],
   "source": [
    "threshold = 0.75\n",
    "\n",
    "predicted_proba = xgb4.predict_proba(X_test2)\n",
    "probability = predicted_proba[0:,1]\n",
    "predicted = (probability >= threshold).astype('int')\n",
    "\n",
    "accuracy = print(accuracy_score(y_test, predicted))\n",
    "print(confusion_matrix(y_test, predicted))\n",
    "print('Precision: ', confusion_matrix(y_test, predicted)[1][1]/(confusion_matrix(y_test, predicted)[1][1] + confusion_matrix(y_test, predicted)[0][1]))\n",
    "print('Recall: ', confusion_matrix(y_test, predicted)[1][1]/(confusion_matrix(y_test, predicted)[1][1] + confusion_matrix(y_test, predicted)[1][0]))\n",
    "precision, recall, thresholds = precision_recall_curve(y_test, probability)\n",
    "plt.plot(recall, precision)\n"
   ]
  },
  {
   "cell_type": "markdown",
   "metadata": {},
   "source": [
    "## Feature Importance"
   ]
  },
  {
   "cell_type": "markdown",
   "metadata": {},
   "source": [
    "### Random Forest Model 4:"
   ]
  },
  {
   "cell_type": "code",
   "execution_count": 998,
   "metadata": {
    "scrolled": false
   },
   "outputs": [
    {
     "data": {
      "image/png": "[encoded data removed]",
      "text/plain": [
       "<Figure size 432x288 with 1 Axes>"
      ]
     },
     "metadata": {
      "needs_background": "light"
     },
     "output_type": "display_data"
    }
   ],
   "source": [
    "rf4_fi = {}\n",
    "rf4_fi2 = {}\n",
    "for feature, importance in zip(list(X_train.columns), rf4.feature_importances_):\n",
    "    rf4_fi[feature] = importance\n",
    "    if importance > .03:\n",
    "        rf4_fi2[feature] = importance\n",
    "#     print('Feature: ', feature, 'Score: ', importance)\n",
    "\n",
    "# plt.bar(list(X_train.columns), rf4.feature_importances_)\n",
    "\n",
    "plt.bar(rf4_fi2.keys(), rf4_fi2.values())\n",
    "plt.xlabel('Feature')\n",
    "plt.ylabel('Importance Percentage')\n",
    "plt.xticks(rotation = 90)"
   ]
  },
  {
   "cell_type": "markdown",
   "metadata": {},
   "source": [
    "### Logistic Regression Model 2:"
   ]
  },
  {
   "cell_type": "code",
   "execution_count": 911,
   "metadata": {
    "scrolled": false
   },
   "outputs": [
    {
     "name": "stdout",
     "output_type": "stream",
     "text": [
      "Feature:  Age Score:  -0.0448949952346018\n",
      "Feature:  DailyRate Score:  -0.4523438669460466\n",
      "Feature:  DistanceFromHome Score:  0.9077038072559512\n",
      "Feature:  EmployeeCount Score:  0.0\n",
      "Feature:  EmployeeNumber Score:  -0.19668165027178053\n",
      "Feature:  HourlyRate Score:  0.07158159500831943\n",
      "Feature:  JobLevel Score:  0.5685977240143837\n",
      "Feature:  MonthlyIncome Score:  -0.19681434709847553\n",
      "Feature:  MonthlyRate Score:  0.44821674887122365\n",
      "Feature:  NumCompaniesWorked Score:  1.272599927240904\n",
      "Feature:  PercentSalaryHike Score:  -0.559547285026628\n",
      "Feature:  StandardHours Score:  0.0\n",
      "Feature:  StockOptionLevel Score:  -0.0194459274172428\n",
      "Feature:  TotalWorkingYears Score:  -0.8219914817628294\n",
      "Feature:  TrainingTimesLastYear Score:  -1.4721266977895244\n",
      "Feature:  YearsAtCompany Score:  1.4130608354342538\n",
      "Feature:  YearsInCurrentRole Score:  -0.9923391492299549\n",
      "Feature:  YearsSinceLastPromotion Score:  1.5307911315976048\n",
      "Feature:  YearsWithCurrManager Score:  -1.7681803051270217\n",
      "Feature:  BusinessTravel_Non-Travel Score:  -0.6865358708749318\n",
      "Feature:  BusinessTravel_Travel_Frequently Score:  0.7762653500656438\n",
      "Feature:  BusinessTravel_Travel_Rarely Score:  -0.09237489269364839\n",
      "Feature:  Department_Human Resources Score:  -0.14059180139816999\n",
      "Feature:  Department_Research & Development Score:  -0.06980480421629756\n",
      "Feature:  Department_Sales Score:  0.20775119211167023\n",
      "Feature:  Education_Bacheolor Score:  -0.07143903348630752\n",
      "Feature:  Education_Below College Score:  -0.1416372227188124\n",
      "Feature:  Education_College Score:  0.012115834472029123\n",
      "Feature:  Education_Doctor Score:  0.22481359856516642\n",
      "Feature:  Education_Master Score:  -0.026498590334963837\n",
      "Feature:  EducationField_Human Resources Score:  0.36275228562977324\n",
      "Feature:  EducationField_Life Sciences Score:  -0.4936130452674016\n",
      "Feature:  EducationField_Marketing Score:  0.2977368890556396\n",
      "Feature:  EducationField_Medical Score:  -0.48164151523931503\n",
      "Feature:  EducationField_Other Score:  -0.2804216725181182\n",
      "Feature:  EducationField_Technical Degree Score:  0.5925416448364227\n",
      "Feature:  EnvironmentSatisfaction_High Score:  -0.3509401423197718\n",
      "Feature:  EnvironmentSatisfaction_Low Score:  0.8785540787890443\n",
      "Feature:  EnvironmentSatisfaction_Medium Score:  -0.16643812715013406\n",
      "Feature:  EnvironmentSatisfaction_Very High Score:  -0.3638212228221187\n",
      "Feature:  Gender_Female Score:  -0.09565298950626229\n",
      "Feature:  Gender_Male Score:  0.093007576003424\n",
      "Feature:  JobInvolvement_High Score:  -0.16633233108492895\n",
      "Feature:  JobInvolvement_Low Score:  0.7845127586707042\n",
      "Feature:  JobInvolvement_Medium Score:  -0.06731758462814016\n",
      "Feature:  JobInvolvement_Very High Score:  -0.5535082564606655\n",
      "Feature:  JobRole_Healthcare Representative Score:  -0.8796618785711825\n",
      "Feature:  JobRole_Human Resources Score:  0.7727842268436949\n",
      "Feature:  JobRole_Laboratory Technician Score:  0.874854424328807\n",
      "Feature:  JobRole_Manager Score:  -0.6465188116729697\n",
      "Feature:  JobRole_Manufacturing Director Score:  -0.09953882241540894\n",
      "Feature:  JobRole_Research Director Score:  -0.9806872507366784\n",
      "Feature:  JobRole_Research Scientist Score:  0.04752139226293862\n",
      "Feature:  JobRole_Sales Executive Score:  -0.2976215893747921\n",
      "Feature:  JobRole_Sales Representative Score:  1.206222895832576\n",
      "Feature:  JobSatisfaction_High Score:  -0.06738104273661613\n",
      "Feature:  JobSatisfaction_Low Score:  0.7921071261609676\n",
      "Feature:  JobSatisfaction_Medium Score:  -0.019219055593523517\n",
      "Feature:  JobSatisfaction_Very High Score:  -0.7081524413337325\n",
      "Feature:  MaritalStatus_Divorced Score:  -0.6884290243424673\n",
      "Feature:  MaritalStatus_Married Score:  -0.07239827704942398\n",
      "Feature:  MaritalStatus_Single Score:  0.7581818878893225\n",
      "Feature:  Over18_Y Score:  -0.002645413502804859\n",
      "Feature:  OverTime_No Score:  -0.8839090916325109\n",
      "Feature:  OverTime_Yes Score:  0.881263678129656\n",
      "Feature:  PerformanceRating_Excellent Score:  -0.1701634178357634\n",
      "Feature:  PerformanceRating_Outstanding Score:  0.16751800433284197\n",
      "Feature:  RelationshipSatisfaction_High Score:  -0.08906763804221667\n",
      "Feature:  RelationshipSatisfaction_Low Score:  0.516372245728914\n",
      "Feature:  RelationshipSatisfaction_Medium Score:  -0.2748949296978113\n",
      "Feature:  RelationshipSatisfaction_Very High Score:  -0.15505509149174976\n",
      "Feature:  WorkLifeBalance_Bad Score:  0.8071661010256015\n",
      "Feature:  WorkLifeBalance_Best Score:  -0.09731591460222024\n",
      "Feature:  WorkLifeBalance_Better Score:  -0.6608573693949575\n",
      "Feature:  WorkLifeBalance_Good Score:  -0.051638230531269494\n"
     ]
    },
    {
     "data": {
      "text/plain": [
       "([0, 1, 2, 3, 4, 5, 6, 7, 8, 9, 10, 11, 12, 13, 14, 15, 16],\n",
       " <a list of 17 Text major ticklabel objects>)"
      ]
     },
     "execution_count": 911,
     "metadata": {},
     "output_type": "execute_result"
    },
    {
     "data": {
      "image/png": "[encoded data removed]",
      "text/plain": [
       "<Figure size 432x288 with 1 Axes>"
      ]
     },
     "metadata": {
      "needs_background": "light"
     },
     "output_type": "display_data"
    }
   ],
   "source": [
    "lr2_fi = {}\n",
    "lr2_fi2 = {}\n",
    "for feature, importance in zip(list(X_train.columns), lr2.coef_.tolist()[0]):\n",
    "    lr2_fi[feature] = importance\n",
    "    if importance > .5:\n",
    "        lr2_fi2[feature] = importance\n",
    "#     print('Feature: ', feature, 'Score: ', importance)\n",
    "\n",
    "# plt.bar(list(X_train.columns), rf4.feature_importances_)\n",
    "\n",
    "plt.bar(lr2_fi2.keys(), lr2_fi2.values())\n",
    "plt.xlabel('Feature')\n",
    "plt.ylabel('Importance Percentage')\n",
    "plt.xticks(rotation = 90)"
   ]
  },
  {
   "cell_type": "markdown",
   "metadata": {},
   "source": [
    "### Logistic Regression Model 3:"
   ]
  },
  {
   "cell_type": "code",
   "execution_count": 1002,
   "metadata": {
    "scrolled": false
   },
   "outputs": [
    {
     "data": {
      "image/png": "[encoded data removed]",
      "text/plain": [
       "<Figure size 432x288 with 1 Axes>"
      ]
     },
     "metadata": {
      "needs_background": "light"
     },
     "output_type": "display_data"
    }
   ],
   "source": [
    "lr3_fi = {}\n",
    "lr3_fi2 = {}\n",
    "for feature, importance in zip(list(X_train.columns), lr2.coef_.tolist()[0]):\n",
    "    lr3_fi[feature] = importance\n",
    "    if importance > .5:\n",
    "        lr3_fi2[feature] = importance\n",
    "#     print('Feature: ', feature, 'Score: ', importance)\n",
    "\n",
    "# plt.bar(list(X_train.columns), rf4.feature_importances_)\n",
    "\n",
    "plt.bar(lr3_fi2.keys(), lr3_fi2.values())\n",
    "plt.xlabel('Feature')\n",
    "plt.ylabel('Importance Percentage')\n",
    "plt.xticks(rotation = 90)\n"
   ]
  },
  {
   "cell_type": "code",
   "execution_count": 1003,
   "metadata": {},
   "outputs": [
    {
     "data": {
      "image/png": "[encoded data removed]",
      "text/plain": [
       "<Figure size 432x288 with 1 Axes>"
      ]
     },
     "metadata": {
      "needs_background": "light"
     },
     "output_type": "display_data"
    }
   ],
   "source": [
    "lr3_fi = {}\n",
    "lr3_fi2 = {}\n",
    "for feature, importance in zip(list(X_train.columns), lr2.coef_.tolist()[0]):\n",
    "    lr3_fi[feature] = importance\n",
    "    if importance < -.5:\n",
    "        lr3_fi2[feature] = importance\n",
    "#     print('Feature: ', feature, 'Score: ', importance)\n",
    "\n",
    "# plt.bar(list(X_train.columns), rf4.feature_importances_)\n",
    "\n",
    "plt.bar(lr3_fi2.keys(), lr3_fi2.values(), color = 'red')\n",
    "plt.xlabel('Feature')\n",
    "plt.ylabel('Importance Percentage')\n",
    "plt.xticks(rotation = 90)"
   ]
  },
  {
   "cell_type": "markdown",
   "metadata": {},
   "source": [
    "### XG Boost Model 3:"
   ]
  },
  {
   "cell_type": "code",
   "execution_count": 1018,
   "metadata": {},
   "outputs": [
    {
     "data": {
      "text/plain": [
       "([0, 1, 2, 3, 4, 5, 6, 7, 8, 9, 10, 11, 12, 13],\n",
       " <a list of 14 Text major ticklabel objects>)"
      ]
     },
     "execution_count": 1018,
     "metadata": {},
     "output_type": "execute_result"
    },
    {
     "data": {
      "image/png": "[encoded data removed]",
      "text/plain": [
       "<Figure size 432x288 with 1 Axes>"
      ]
     },
     "metadata": {
      "needs_background": "light"
     },
     "output_type": "display_data"
    }
   ],
   "source": [
    "xgb3_fi = {}\n",
    "xgb3_fi2 = {}\n",
    "for feature, importance in zip(list(X_train.columns), xgb3.feature_importances_):\n",
    "    xgb3_fi[feature] = importance\n",
    "    if importance > .02:\n",
    "        xgb3_fi2[feature] = importance\n",
    "#     print('Feature: ', feature, 'Score: ', importance)\n",
    "\n",
    "# plt.bar(list(X_train.columns), xgb3.feature_importances_)\n",
    "\n",
    "plt.bar(xgb3_fi2.keys(), xgb3_fi2.values())\n",
    "plt.xlabel('Feature')\n",
    "plt.ylabel('Importance Percentage')\n",
    "plt.xticks(rotation = 90)\n"
   ]
  },
  {
   "cell_type": "markdown",
   "metadata": {},
   "source": [
    "### XG Boost Model 4:"
   ]
  },
  {
   "cell_type": "code",
   "execution_count": 1019,
   "metadata": {
    "scrolled": true
   },
   "outputs": [
    {
     "data": {
      "image/png": "[encoded data removed]",
      "text/plain": [
       "<Figure size 432x288 with 1 Axes>"
      ]
     },
     "metadata": {
      "needs_background": "light"
     },
     "output_type": "display_data"
    }
   ],
   "source": [
    "xgb4_fi = {}\n",
    "xgb4_fi2 = {}\n",
    "for feature, importance in zip(list(X_train.columns), xgb4.feature_importances_):\n",
    "    xgb4_fi[feature] = importance\n",
    "    if importance > .02:\n",
    "        xgb4_fi2[feature] = importance\n",
    "#     print('Feature: ', feature, 'Score: ', importance)\n",
    "\n",
    "# plt.bar(list(X_train.columns), xgb4.feature_importances_)\n",
    "\n",
    "plt.bar(xgb4_fi2.keys(), xgb4_fi2.values())\n",
    "plt.xlabel('Feature')\n",
    "plt.ylabel('Importance Percentage')\n",
    "plt.xticks(rotation = 90)\n"
   ]
  }
 ],
 "metadata": {
  "kernelspec": {
   "display_name": "Python 3",
   "language": "python",
   "name": "python3"
  },
  "language_info": {
   "codemirror_mode": {
    "name": "ipython",
    "version": 3
   },
   "file_extension": ".py",
   "mimetype": "text/x-python",
   "name": "python",
   "nbconvert_exporter": "python",
   "pygments_lexer": "ipython3",
   "version": "3.7.7"
  }
 },
 "nbformat": 4,
 "nbformat_minor": 4
}
