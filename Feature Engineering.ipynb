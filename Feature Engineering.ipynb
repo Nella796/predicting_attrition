{
 "cells": [
  {
   "cell_type": "markdown",
   "metadata": {},
   "source": [
    "# Feature Engineering"
   ]
  },
  {
   "cell_type": "markdown",
   "metadata": {},
   "source": [
    "### Having cleaned and explored my data, in this notebook I will prepare my features for modeling."
   ]
  },
  {
   "cell_type": "markdown",
   "metadata": {},
   "source": [
    "# Importing Libraries and Data"
   ]
  },
  {
   "cell_type": "code",
   "execution_count": 656,
   "metadata": {},
   "outputs": [],
   "source": [
    "import pandas as pd\n",
    "import numpy as np\n",
    "from sklearn.model_selection import train_test_split\n",
    "from sklearn.metrics import precision_score, recall_score, f1_score, confusion_matrix, plot_roc_curve, classification_report, accuracy_score\n",
    "from sklearn.ensemble import RandomForestClassifier\n",
    "from sklearn.metrics import roc_curve, auc, precision_recall_curve\n",
    "import matplotlib.pyplot as plt\n",
    "import matplotlib"
   ]
  },
  {
   "cell_type": "code",
   "execution_count": 508,
   "metadata": {},
   "outputs": [],
   "source": [
    "df = pd.read_csv('HR-Employee-Attrition.csv')"
   ]
  },
  {
   "cell_type": "code",
   "execution_count": 428,
   "metadata": {
    "scrolled": true
   },
   "outputs": [
    {
     "data": {
      "text/plain": [
       "1470"
      ]
     },
     "execution_count": 428,
     "metadata": {},
     "output_type": "execute_result"
    }
   ],
   "source": [
    "len(df)"
   ]
  },
  {
   "cell_type": "markdown",
   "metadata": {},
   "source": [
    "# Feature Engineering"
   ]
  },
  {
   "cell_type": "markdown",
   "metadata": {},
   "source": [
    "### In the following cells I prepare my cleaned data for modeling by dividing it into training and validation sets, encoding categorical features, and scaling numerical features."
   ]
  },
  {
   "cell_type": "code",
   "execution_count": 509,
   "metadata": {
    "scrolled": true
   },
   "outputs": [
    {
     "data": {
      "text/html": [
       "<div>\n",
       "<style scoped>\n",
       "    .dataframe tbody tr th:only-of-type {\n",
       "        vertical-align: middle;\n",
       "    }\n",
       "\n",
       "    .dataframe tbody tr th {\n",
       "        vertical-align: top;\n",
       "    }\n",
       "\n",
       "    .dataframe thead th {\n",
       "        text-align: right;\n",
       "    }\n",
       "</style>\n",
       "<table border=\"1\" class=\"dataframe\">\n",
       "  <thead>\n",
       "    <tr style=\"text-align: right;\">\n",
       "      <th></th>\n",
       "      <th>BusinessTravel</th>\n",
       "      <th>Department</th>\n",
       "      <th>Education</th>\n",
       "      <th>EducationField</th>\n",
       "      <th>EnvironmentSatisfaction</th>\n",
       "      <th>Gender</th>\n",
       "      <th>JobInvolvement</th>\n",
       "      <th>JobRole</th>\n",
       "      <th>JobSatisfaction</th>\n",
       "      <th>MaritalStatus</th>\n",
       "      <th>Over18</th>\n",
       "      <th>OverTime</th>\n",
       "      <th>PerformanceRating</th>\n",
       "      <th>RelationshipSatisfaction</th>\n",
       "      <th>WorkLifeBalance</th>\n",
       "    </tr>\n",
       "  </thead>\n",
       "  <tbody>\n",
       "    <tr>\n",
       "      <th>0</th>\n",
       "      <td>Travel_Rarely</td>\n",
       "      <td>Sales</td>\n",
       "      <td>College</td>\n",
       "      <td>Life Sciences</td>\n",
       "      <td>Medium</td>\n",
       "      <td>Female</td>\n",
       "      <td>High</td>\n",
       "      <td>Sales Executive</td>\n",
       "      <td>Very High</td>\n",
       "      <td>Single</td>\n",
       "      <td>Y</td>\n",
       "      <td>Yes</td>\n",
       "      <td>Excellent</td>\n",
       "      <td>Low</td>\n",
       "      <td>Bad</td>\n",
       "    </tr>\n",
       "    <tr>\n",
       "      <th>1</th>\n",
       "      <td>Travel_Frequently</td>\n",
       "      <td>Research &amp; Development</td>\n",
       "      <td>Below College</td>\n",
       "      <td>Life Sciences</td>\n",
       "      <td>High</td>\n",
       "      <td>Male</td>\n",
       "      <td>Medium</td>\n",
       "      <td>Research Scientist</td>\n",
       "      <td>Medium</td>\n",
       "      <td>Married</td>\n",
       "      <td>Y</td>\n",
       "      <td>No</td>\n",
       "      <td>Outstanding</td>\n",
       "      <td>Very High</td>\n",
       "      <td>Better</td>\n",
       "    </tr>\n",
       "    <tr>\n",
       "      <th>2</th>\n",
       "      <td>Travel_Rarely</td>\n",
       "      <td>Research &amp; Development</td>\n",
       "      <td>College</td>\n",
       "      <td>Other</td>\n",
       "      <td>Very High</td>\n",
       "      <td>Male</td>\n",
       "      <td>Medium</td>\n",
       "      <td>Laboratory Technician</td>\n",
       "      <td>High</td>\n",
       "      <td>Single</td>\n",
       "      <td>Y</td>\n",
       "      <td>Yes</td>\n",
       "      <td>Excellent</td>\n",
       "      <td>Medium</td>\n",
       "      <td>Better</td>\n",
       "    </tr>\n",
       "    <tr>\n",
       "      <th>3</th>\n",
       "      <td>Travel_Frequently</td>\n",
       "      <td>Research &amp; Development</td>\n",
       "      <td>Master</td>\n",
       "      <td>Life Sciences</td>\n",
       "      <td>Very High</td>\n",
       "      <td>Female</td>\n",
       "      <td>High</td>\n",
       "      <td>Research Scientist</td>\n",
       "      <td>High</td>\n",
       "      <td>Married</td>\n",
       "      <td>Y</td>\n",
       "      <td>Yes</td>\n",
       "      <td>Excellent</td>\n",
       "      <td>High</td>\n",
       "      <td>Better</td>\n",
       "    </tr>\n",
       "    <tr>\n",
       "      <th>4</th>\n",
       "      <td>Travel_Rarely</td>\n",
       "      <td>Research &amp; Development</td>\n",
       "      <td>Below College</td>\n",
       "      <td>Medical</td>\n",
       "      <td>Low</td>\n",
       "      <td>Male</td>\n",
       "      <td>High</td>\n",
       "      <td>Laboratory Technician</td>\n",
       "      <td>Medium</td>\n",
       "      <td>Married</td>\n",
       "      <td>Y</td>\n",
       "      <td>No</td>\n",
       "      <td>Excellent</td>\n",
       "      <td>Very High</td>\n",
       "      <td>Better</td>\n",
       "    </tr>\n",
       "    <tr>\n",
       "      <th>...</th>\n",
       "      <td>...</td>\n",
       "      <td>...</td>\n",
       "      <td>...</td>\n",
       "      <td>...</td>\n",
       "      <td>...</td>\n",
       "      <td>...</td>\n",
       "      <td>...</td>\n",
       "      <td>...</td>\n",
       "      <td>...</td>\n",
       "      <td>...</td>\n",
       "      <td>...</td>\n",
       "      <td>...</td>\n",
       "      <td>...</td>\n",
       "      <td>...</td>\n",
       "      <td>...</td>\n",
       "    </tr>\n",
       "    <tr>\n",
       "      <th>1465</th>\n",
       "      <td>Travel_Frequently</td>\n",
       "      <td>Research &amp; Development</td>\n",
       "      <td>College</td>\n",
       "      <td>Medical</td>\n",
       "      <td>High</td>\n",
       "      <td>Male</td>\n",
       "      <td>Very High</td>\n",
       "      <td>Laboratory Technician</td>\n",
       "      <td>Very High</td>\n",
       "      <td>Married</td>\n",
       "      <td>Y</td>\n",
       "      <td>No</td>\n",
       "      <td>Excellent</td>\n",
       "      <td>High</td>\n",
       "      <td>Better</td>\n",
       "    </tr>\n",
       "    <tr>\n",
       "      <th>1466</th>\n",
       "      <td>Travel_Rarely</td>\n",
       "      <td>Research &amp; Development</td>\n",
       "      <td>Below College</td>\n",
       "      <td>Medical</td>\n",
       "      <td>Very High</td>\n",
       "      <td>Male</td>\n",
       "      <td>Medium</td>\n",
       "      <td>Healthcare Representative</td>\n",
       "      <td>Low</td>\n",
       "      <td>Married</td>\n",
       "      <td>Y</td>\n",
       "      <td>No</td>\n",
       "      <td>Excellent</td>\n",
       "      <td>Low</td>\n",
       "      <td>Better</td>\n",
       "    </tr>\n",
       "    <tr>\n",
       "      <th>1467</th>\n",
       "      <td>Travel_Rarely</td>\n",
       "      <td>Research &amp; Development</td>\n",
       "      <td>Bacheolor</td>\n",
       "      <td>Life Sciences</td>\n",
       "      <td>Medium</td>\n",
       "      <td>Male</td>\n",
       "      <td>Very High</td>\n",
       "      <td>Manufacturing Director</td>\n",
       "      <td>Medium</td>\n",
       "      <td>Married</td>\n",
       "      <td>Y</td>\n",
       "      <td>Yes</td>\n",
       "      <td>Outstanding</td>\n",
       "      <td>Medium</td>\n",
       "      <td>Better</td>\n",
       "    </tr>\n",
       "    <tr>\n",
       "      <th>1468</th>\n",
       "      <td>Travel_Frequently</td>\n",
       "      <td>Sales</td>\n",
       "      <td>Bacheolor</td>\n",
       "      <td>Medical</td>\n",
       "      <td>Very High</td>\n",
       "      <td>Male</td>\n",
       "      <td>Medium</td>\n",
       "      <td>Sales Executive</td>\n",
       "      <td>Medium</td>\n",
       "      <td>Married</td>\n",
       "      <td>Y</td>\n",
       "      <td>No</td>\n",
       "      <td>Excellent</td>\n",
       "      <td>Very High</td>\n",
       "      <td>Good</td>\n",
       "    </tr>\n",
       "    <tr>\n",
       "      <th>1469</th>\n",
       "      <td>Travel_Rarely</td>\n",
       "      <td>Research &amp; Development</td>\n",
       "      <td>Bacheolor</td>\n",
       "      <td>Medical</td>\n",
       "      <td>Medium</td>\n",
       "      <td>Male</td>\n",
       "      <td>Very High</td>\n",
       "      <td>Laboratory Technician</td>\n",
       "      <td>High</td>\n",
       "      <td>Married</td>\n",
       "      <td>Y</td>\n",
       "      <td>No</td>\n",
       "      <td>Excellent</td>\n",
       "      <td>Low</td>\n",
       "      <td>Best</td>\n",
       "    </tr>\n",
       "  </tbody>\n",
       "</table>\n",
       "<p>1470 rows × 15 columns</p>\n",
       "</div>"
      ],
      "text/plain": [
       "         BusinessTravel              Department      Education EducationField  \\\n",
       "0         Travel_Rarely                   Sales        College  Life Sciences   \n",
       "1     Travel_Frequently  Research & Development  Below College  Life Sciences   \n",
       "2         Travel_Rarely  Research & Development        College          Other   \n",
       "3     Travel_Frequently  Research & Development         Master  Life Sciences   \n",
       "4         Travel_Rarely  Research & Development  Below College        Medical   \n",
       "...                 ...                     ...            ...            ...   \n",
       "1465  Travel_Frequently  Research & Development        College        Medical   \n",
       "1466      Travel_Rarely  Research & Development  Below College        Medical   \n",
       "1467      Travel_Rarely  Research & Development      Bacheolor  Life Sciences   \n",
       "1468  Travel_Frequently                   Sales      Bacheolor        Medical   \n",
       "1469      Travel_Rarely  Research & Development      Bacheolor        Medical   \n",
       "\n",
       "     EnvironmentSatisfaction  Gender JobInvolvement  \\\n",
       "0                     Medium  Female           High   \n",
       "1                       High    Male         Medium   \n",
       "2                  Very High    Male         Medium   \n",
       "3                  Very High  Female           High   \n",
       "4                        Low    Male           High   \n",
       "...                      ...     ...            ...   \n",
       "1465                    High    Male      Very High   \n",
       "1466               Very High    Male         Medium   \n",
       "1467                  Medium    Male      Very High   \n",
       "1468               Very High    Male         Medium   \n",
       "1469                  Medium    Male      Very High   \n",
       "\n",
       "                        JobRole JobSatisfaction MaritalStatus Over18 OverTime  \\\n",
       "0               Sales Executive       Very High        Single      Y      Yes   \n",
       "1            Research Scientist          Medium       Married      Y       No   \n",
       "2         Laboratory Technician            High        Single      Y      Yes   \n",
       "3            Research Scientist            High       Married      Y      Yes   \n",
       "4         Laboratory Technician          Medium       Married      Y       No   \n",
       "...                         ...             ...           ...    ...      ...   \n",
       "1465      Laboratory Technician       Very High       Married      Y       No   \n",
       "1466  Healthcare Representative             Low       Married      Y       No   \n",
       "1467     Manufacturing Director          Medium       Married      Y      Yes   \n",
       "1468            Sales Executive          Medium       Married      Y       No   \n",
       "1469      Laboratory Technician            High       Married      Y       No   \n",
       "\n",
       "     PerformanceRating RelationshipSatisfaction WorkLifeBalance  \n",
       "0            Excellent                      Low             Bad  \n",
       "1          Outstanding                Very High          Better  \n",
       "2            Excellent                   Medium          Better  \n",
       "3            Excellent                     High          Better  \n",
       "4            Excellent                Very High          Better  \n",
       "...                ...                      ...             ...  \n",
       "1465         Excellent                     High          Better  \n",
       "1466         Excellent                      Low          Better  \n",
       "1467       Outstanding                   Medium          Better  \n",
       "1468         Excellent                Very High            Good  \n",
       "1469         Excellent                      Low            Best  \n",
       "\n",
       "[1470 rows x 15 columns]"
      ]
     },
     "execution_count": 509,
     "metadata": {},
     "output_type": "execute_result"
    }
   ],
   "source": [
    "df.drop('Attrition', axis = 1).select_dtypes('object')"
   ]
  },
  {
   "cell_type": "code",
   "execution_count": 510,
   "metadata": {
    "scrolled": false
   },
   "outputs": [
    {
     "data": {
      "text/plain": [
       "No     1233\n",
       "Yes     237\n",
       "Name: Attrition, dtype: int64"
      ]
     },
     "execution_count": 510,
     "metadata": {},
     "output_type": "execute_result"
    }
   ],
   "source": [
    "df['Attrition'].value_counts()"
   ]
  },
  {
   "cell_type": "markdown",
   "metadata": {},
   "source": [
    " #### Note: The data set has less than a fifth of attrition cases compared to non attrition cases."
   ]
  },
  {
   "cell_type": "markdown",
   "metadata": {},
   "source": [
    "### Encoding Categorical Features"
   ]
  },
  {
   "cell_type": "code",
   "execution_count": 511,
   "metadata": {
    "scrolled": true
   },
   "outputs": [],
   "source": [
    "# Dividing the data into the features variables (X) and outcome variable (Y)\n",
    "X = pd.get_dummies(df.drop('Attrition', axis = 1))\n",
    "y = pd.get_dummies(df['Attrition'], drop_first = True)"
   ]
  },
  {
   "cell_type": "code",
   "execution_count": 512,
   "metadata": {
    "scrolled": false
   },
   "outputs": [
    {
     "data": {
      "text/plain": [
       "Yes\n",
       "0      1233\n",
       "1       237\n",
       "dtype: int64"
      ]
     },
     "execution_count": 512,
     "metadata": {},
     "output_type": "execute_result"
    }
   ],
   "source": [
    "y.value_counts()"
   ]
  },
  {
   "cell_type": "markdown",
   "metadata": {},
   "source": [
    "I kept the yes value for the predictor y. A value of 1 indicates attrition while a value of 0 indicates non attrition"
   ]
  },
  {
   "cell_type": "markdown",
   "metadata": {},
   "source": [
    "### Dividing data into Training and Validation Sets"
   ]
  },
  {
   "cell_type": "code",
   "execution_count": 513,
   "metadata": {},
   "outputs": [],
   "source": [
    "X_train, X_test, y_train, y_test = train_test_split(X,y, test_size = .25, random_state = 4)"
   ]
  },
  {
   "cell_type": "markdown",
   "metadata": {},
   "source": [
    "### Generating scalers for numeric data"
   ]
  },
  {
   "cell_type": "code",
   "execution_count": 514,
   "metadata": {},
   "outputs": [],
   "source": [
    "from sklearn.preprocessing import StandardScaler, MinMaxScaler\n",
    "Scaler1 = StandardScaler()\n",
    "Scaler2 = MinMaxScaler()"
   ]
  },
  {
   "cell_type": "code",
   "execution_count": 519,
   "metadata": {
    "scrolled": true
   },
   "outputs": [],
   "source": [
    "scale_variables = list(X_train.select_dtypes('number').columns[1:20])"
   ]
  },
  {
   "cell_type": "code",
   "execution_count": 520,
   "metadata": {},
   "outputs": [
    {
     "data": {
      "text/plain": [
       "['Age',\n",
       " 'DailyRate',\n",
       " 'DistanceFromHome',\n",
       " 'EmployeeCount',\n",
       " 'EmployeeNumber',\n",
       " 'HourlyRate',\n",
       " 'JobLevel',\n",
       " 'MonthlyIncome',\n",
       " 'MonthlyRate',\n",
       " 'NumCompaniesWorked',\n",
       " 'PercentSalaryHike',\n",
       " 'StandardHours',\n",
       " 'StockOptionLevel',\n",
       " 'TotalWorkingYears',\n",
       " 'TrainingTimesLastYear',\n",
       " 'YearsAtCompany',\n",
       " 'YearsInCurrentRole',\n",
       " 'YearsSinceLastPromotion',\n",
       " 'YearsWithCurrManager']"
      ]
     },
     "execution_count": 520,
     "metadata": {},
     "output_type": "execute_result"
    }
   ],
   "source": [
    "scale_variables"
   ]
  },
  {
   "cell_type": "code",
   "execution_count": 521,
   "metadata": {},
   "outputs": [
    {
     "data": {
      "text/plain": [
       "['Age',\n",
       " 'DailyRate',\n",
       " 'DistanceFromHome',\n",
       " 'EmployeeCount',\n",
       " 'EmployeeNumber',\n",
       " 'HourlyRate',\n",
       " 'JobLevel',\n",
       " 'MonthlyIncome',\n",
       " 'MonthlyRate',\n",
       " 'NumCompaniesWorked',\n",
       " 'PercentSalaryHike',\n",
       " 'StandardHours',\n",
       " 'StockOptionLevel',\n",
       " 'TotalWorkingYears',\n",
       " 'TrainingTimesLastYear',\n",
       " 'YearsAtCompany',\n",
       " 'YearsInCurrentRole',\n",
       " 'YearsSinceLastPromotion',\n",
       " 'YearsWithCurrManager']"
      ]
     },
     "execution_count": 521,
     "metadata": {},
     "output_type": "execute_result"
    }
   ],
   "source": [
    "list(X_train.select_dtypes('number').columns[1:20])"
   ]
  },
  {
   "cell_type": "markdown",
   "metadata": {},
   "source": [
    "### In addition to the untouched X_train variable I created two scaled variables to see which one would work best with each model. X_train1 has the numerical variables scaled using a standard scaler while X_train2 is scaled using Min Max scaling."
   ]
  },
  {
   "cell_type": "code",
   "execution_count": 522,
   "metadata": {
    "scrolled": true
   },
   "outputs": [],
   "source": [
    "X_train1 = X_train.copy()\n",
    "X_train2 = X_train.copy()\n",
    "X_test1 = X_test.copy()\n",
    "X_test2 = X_test.copy()\n",
    "\n",
    "X_train1[scale_variables] = Scaler1.fit_transform(X_train[scale_variables])\n",
    "X_test1[scale_variables] = Scaler1.transform(X_test[scale_variables])\n",
    "\n",
    "X_train2[scale_variables] = Scaler2.fit_transform(X_train[scale_variables])\n",
    "X_test2[scale_variables] = Scaler2.transform(X_test[scale_variables])"
   ]
  }
 ],
 "metadata": {
  "kernelspec": {
   "display_name": "Python 3",
   "language": "python",
   "name": "python3"
  },
  "language_info": {
   "codemirror_mode": {
    "name": "ipython",
    "version": 3
   },
   "file_extension": ".py",
   "mimetype": "text/x-python",
   "name": "python",
   "nbconvert_exporter": "python",
   "pygments_lexer": "ipython3",
   "version": "3.7.7"
  }
 },
 "nbformat": 4,
 "nbformat_minor": 4
}
